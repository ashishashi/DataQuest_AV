{
 "cells": [
  {
   "cell_type": "code",
   "execution_count": 1,
   "metadata": {},
   "outputs": [],
   "source": [
    "import numpy as np\n",
    "import pandas as pd\n",
    "import matplotlib as mpl\n",
    "import warnings\n",
    "warnings.filterwarnings(\"ignore\",category=DeprecationWarning)\n",
    "warnings.simplefilter(\"ignore\")\n",
    "import matplotlib.pyplot as plt\n",
    "import seaborn as sns\n",
    "%matplotlib inline"
   ]
  },
  {
   "cell_type": "code",
   "execution_count": 2,
   "metadata": {},
   "outputs": [],
   "source": [
    "data=pd.read_csv(\"/home/ashiya/Downloads/train_DaEJRFg.csv\")"
   ]
  },
  {
   "cell_type": "code",
   "execution_count": 3,
   "metadata": {},
   "outputs": [],
   "source": [
    "test=pd.read_csv(\"/home/ashiya/Downloads/test_TQDFDgg.csv\")"
   ]
  },
  {
   "cell_type": "code",
   "execution_count": 4,
   "metadata": {},
   "outputs": [
    {
     "data": {
      "text/html": [
       "<div>\n",
       "<style scoped>\n",
       "    .dataframe tbody tr th:only-of-type {\n",
       "        vertical-align: middle;\n",
       "    }\n",
       "\n",
       "    .dataframe tbody tr th {\n",
       "        vertical-align: top;\n",
       "    }\n",
       "\n",
       "    .dataframe thead th {\n",
       "        text-align: right;\n",
       "    }\n",
       "</style>\n",
       "<table border=\"1\" class=\"dataframe\">\n",
       "  <thead>\n",
       "    <tr style=\"text-align: right;\">\n",
       "      <th></th>\n",
       "      <th>victim_id</th>\n",
       "      <th>incident_time</th>\n",
       "      <th>incident_date</th>\n",
       "      <th>incident_location</th>\n",
       "      <th>incident_tehsil</th>\n",
       "      <th>cause_of_emergency</th>\n",
       "      <th>base_to_scene_distance</th>\n",
       "      <th>scene_to_hospital_distance</th>\n",
       "      <th>roadway_feature</th>\n",
       "      <th>road_type</th>\n",
       "      <th>surrounding_area</th>\n",
       "      <th>criticality</th>\n",
       "    </tr>\n",
       "  </thead>\n",
       "  <tbody>\n",
       "    <tr>\n",
       "      <th>0</th>\n",
       "      <td>VIC20120001987267</td>\n",
       "      <td>22:23:19</td>\n",
       "      <td>07-11-2012</td>\n",
       "      <td>Subhash Nagar</td>\n",
       "      <td>Raipur</td>\n",
       "      <td>Multiple Vehicular Incident</td>\n",
       "      <td>13</td>\n",
       "      <td>12</td>\n",
       "      <td>CUR</td>\n",
       "      <td>HIW</td>\n",
       "      <td>FOR</td>\n",
       "      <td>0</td>\n",
       "    </tr>\n",
       "    <tr>\n",
       "      <th>1</th>\n",
       "      <td>VIC20110002147887</td>\n",
       "      <td>20:23:09</td>\n",
       "      <td>02-11-2011</td>\n",
       "      <td>Coro Nation</td>\n",
       "      <td>Raipur</td>\n",
       "      <td>2 Wheeler accidents</td>\n",
       "      <td>1</td>\n",
       "      <td>5</td>\n",
       "      <td>CUR</td>\n",
       "      <td>HIW</td>\n",
       "      <td>AGL</td>\n",
       "      <td>0</td>\n",
       "    </tr>\n",
       "    <tr>\n",
       "      <th>2</th>\n",
       "      <td>VIC20090001391483</td>\n",
       "      <td>20:37:15</td>\n",
       "      <td>25-07-2009</td>\n",
       "      <td>Kewal Vihar</td>\n",
       "      <td>Raipur</td>\n",
       "      <td>Non motorised vehicle accidents(Bullock cart,B...</td>\n",
       "      <td>2</td>\n",
       "      <td>2</td>\n",
       "      <td>INT</td>\n",
       "      <td>LOC</td>\n",
       "      <td>HOSP</td>\n",
       "      <td>0</td>\n",
       "    </tr>\n",
       "    <tr>\n",
       "      <th>3</th>\n",
       "      <td>VIC20120000900722</td>\n",
       "      <td>15:20:22</td>\n",
       "      <td>19-05-2012</td>\n",
       "      <td>I S B T</td>\n",
       "      <td>Raipur</td>\n",
       "      <td>2 Wheeler accidents</td>\n",
       "      <td>8</td>\n",
       "      <td>4</td>\n",
       "      <td>CUR</td>\n",
       "      <td>HIW</td>\n",
       "      <td>HIL</td>\n",
       "      <td>0</td>\n",
       "    </tr>\n",
       "    <tr>\n",
       "      <th>4</th>\n",
       "      <td>VIC20100001241285</td>\n",
       "      <td>16:22:17</td>\n",
       "      <td>12-06-2010</td>\n",
       "      <td>Sahaspur Ambu</td>\n",
       "      <td>Sahaspur</td>\n",
       "      <td>2 Wheeler accidents</td>\n",
       "      <td>1</td>\n",
       "      <td>26</td>\n",
       "      <td>CUR</td>\n",
       "      <td>HIW</td>\n",
       "      <td>AGL</td>\n",
       "      <td>0</td>\n",
       "    </tr>\n",
       "  </tbody>\n",
       "</table>\n",
       "</div>"
      ],
      "text/plain": [
       "           victim_id incident_time incident_date incident_location  \\\n",
       "0  VIC20120001987267      22:23:19    07-11-2012     Subhash Nagar   \n",
       "1  VIC20110002147887      20:23:09    02-11-2011       Coro Nation   \n",
       "2  VIC20090001391483      20:37:15    25-07-2009       Kewal Vihar   \n",
       "3  VIC20120000900722      15:20:22    19-05-2012           I S B T   \n",
       "4  VIC20100001241285      16:22:17    12-06-2010     Sahaspur Ambu   \n",
       "\n",
       "  incident_tehsil                                 cause_of_emergency  \\\n",
       "0          Raipur                        Multiple Vehicular Incident   \n",
       "1          Raipur                                2 Wheeler accidents   \n",
       "2          Raipur  Non motorised vehicle accidents(Bullock cart,B...   \n",
       "3          Raipur                                2 Wheeler accidents   \n",
       "4        Sahaspur                                2 Wheeler accidents   \n",
       "\n",
       "   base_to_scene_distance  scene_to_hospital_distance roadway_feature  \\\n",
       "0                      13                          12             CUR   \n",
       "1                       1                           5             CUR   \n",
       "2                       2                           2             INT   \n",
       "3                       8                           4             CUR   \n",
       "4                       1                          26             CUR   \n",
       "\n",
       "  road_type surrounding_area  criticality  \n",
       "0       HIW              FOR            0  \n",
       "1       HIW              AGL            0  \n",
       "2       LOC             HOSP            0  \n",
       "3       HIW              HIL            0  \n",
       "4       HIW              AGL            0  "
      ]
     },
     "execution_count": 4,
     "metadata": {},
     "output_type": "execute_result"
    }
   ],
   "source": [
    "data.head()"
   ]
  },
  {
   "cell_type": "code",
   "execution_count": 5,
   "metadata": {},
   "outputs": [
    {
     "data": {
      "text/plain": [
       "(11777, 12)"
      ]
     },
     "execution_count": 5,
     "metadata": {},
     "output_type": "execute_result"
    }
   ],
   "source": [
    "data.shape"
   ]
  },
  {
   "cell_type": "code",
   "execution_count": 6,
   "metadata": {},
   "outputs": [
    {
     "data": {
      "text/plain": [
       "victim_id                     object\n",
       "incident_time                 object\n",
       "incident_date                 object\n",
       "incident_location             object\n",
       "incident_tehsil               object\n",
       "cause_of_emergency            object\n",
       "base_to_scene_distance         int64\n",
       "scene_to_hospital_distance     int64\n",
       "roadway_feature               object\n",
       "road_type                     object\n",
       "surrounding_area              object\n",
       "criticality                    int64\n",
       "dtype: object"
      ]
     },
     "execution_count": 6,
     "metadata": {},
     "output_type": "execute_result"
    }
   ],
   "source": [
    "data.dtypes"
   ]
  },
  {
   "cell_type": "code",
   "execution_count": 7,
   "metadata": {},
   "outputs": [
    {
     "data": {
      "text/plain": [
       "victim_id                     False\n",
       "incident_time                 False\n",
       "incident_date                 False\n",
       "incident_location              True\n",
       "incident_tehsil               False\n",
       "cause_of_emergency            False\n",
       "base_to_scene_distance        False\n",
       "scene_to_hospital_distance    False\n",
       "roadway_feature               False\n",
       "road_type                     False\n",
       "surrounding_area              False\n",
       "criticality                   False\n",
       "dtype: bool"
      ]
     },
     "execution_count": 7,
     "metadata": {},
     "output_type": "execute_result"
    }
   ],
   "source": [
    "data.isnull().any()"
   ]
  },
  {
   "cell_type": "code",
   "execution_count": 8,
   "metadata": {},
   "outputs": [
    {
     "data": {
      "text/plain": [
       "victim_id                       0\n",
       "incident_time                   0\n",
       "incident_date                   0\n",
       "incident_location             307\n",
       "incident_tehsil                 0\n",
       "cause_of_emergency              0\n",
       "base_to_scene_distance          0\n",
       "scene_to_hospital_distance      0\n",
       "roadway_feature                 0\n",
       "road_type                       0\n",
       "surrounding_area                0\n",
       "criticality                     0\n",
       "dtype: int64"
      ]
     },
     "execution_count": 8,
     "metadata": {},
     "output_type": "execute_result"
    }
   ],
   "source": [
    "data.isnull().sum()"
   ]
  },
  {
   "cell_type": "code",
   "execution_count": 9,
   "metadata": {},
   "outputs": [],
   "source": [
    "categorical_variables=data.dtypes[data.dtypes==\"object\"].index.values"
   ]
  },
  {
   "cell_type": "code",
   "execution_count": 10,
   "metadata": {},
   "outputs": [
    {
     "data": {
      "text/plain": [
       "victim_id             11777\n",
       "incident_time         10752\n",
       "incident_date          2107\n",
       "incident_location      5522\n",
       "incident_tehsil           7\n",
       "cause_of_emergency       14\n",
       "roadway_feature           5\n",
       "road_type                 2\n",
       "surrounding_area          6\n",
       "dtype: int64"
      ]
     },
     "execution_count": 10,
     "metadata": {},
     "output_type": "execute_result"
    }
   ],
   "source": [
    "data[categorical_variables].apply(lambda x:len(x.unique()))"
   ]
  },
  {
   "cell_type": "code",
   "execution_count": 11,
   "metadata": {},
   "outputs": [
    {
     "name": "stdout",
     "output_type": "stream",
     "text": [
      "criticality\n",
      "0    11255\n",
      "1      522\n",
      "dtype: int64\n"
     ]
    }
   ],
   "source": [
    "print (data.groupby('criticality').size())"
   ]
  },
  {
   "cell_type": "code",
   "execution_count": 12,
   "metadata": {},
   "outputs": [
    {
     "name": "stdout",
     "output_type": "stream",
     "text": [
      "cause_of_emergency\n",
      "2 Wheeler accidents                                                         7127\n",
      "Auto (3 Wheeler accidents)                                                   367\n",
      "Extrication>20mts                                                             14\n",
      "MCI                                                                          168\n",
      "MVC - Pedestrian (Run Over/Hit & Run)                                       1198\n",
      "MVC-Fixed object (Divider)                                                   147\n",
      "MVC-MV                                                                        43\n",
      "MVC-Non traffic inside a parked vehicle/Skidding                              17\n",
      "MVC-Thrown off from Vehicle                                                  117\n",
      "Multiple Vehicular Incident                                                 1196\n",
      "Non motorised vehicle accidents(Bullock cart,Bicycle,Rickshaw,Push cart)      97\n",
      "Railroad Train/Other Object                                                  138\n",
      "Vehicle -Fall From Height etc.                                               341\n",
      "Vehicle role over/Skid                                                       807\n",
      "dtype: int64\n"
     ]
    }
   ],
   "source": [
    "print (data.groupby('cause_of_emergency').size())"
   ]
  },
  {
   "cell_type": "code",
   "execution_count": 13,
   "metadata": {},
   "outputs": [
    {
     "name": "stdout",
     "output_type": "stream",
     "text": [
      "incident_tehsil\n",
      "Chakrata       199\n",
      "Dehradun       315\n",
      "Doiwala       3185\n",
      "Kalsi           77\n",
      "Raipur        4794\n",
      "Sahaspur      2320\n",
      "Vikasnagar     887\n",
      "dtype: int64\n"
     ]
    }
   ],
   "source": [
    "print (data.groupby('incident_tehsil').size())"
   ]
  },
  {
   "cell_type": "code",
   "execution_count": 14,
   "metadata": {},
   "outputs": [
    {
     "data": {
      "text/html": [
       "<div>\n",
       "<style scoped>\n",
       "    .dataframe tbody tr th:only-of-type {\n",
       "        vertical-align: middle;\n",
       "    }\n",
       "\n",
       "    .dataframe tbody tr th {\n",
       "        vertical-align: top;\n",
       "    }\n",
       "\n",
       "    .dataframe thead th {\n",
       "        text-align: right;\n",
       "    }\n",
       "</style>\n",
       "<table border=\"1\" class=\"dataframe\">\n",
       "  <thead>\n",
       "    <tr style=\"text-align: right;\">\n",
       "      <th></th>\n",
       "      <th>victim_id</th>\n",
       "      <th>incident_time</th>\n",
       "      <th>incident_date</th>\n",
       "      <th>incident_location</th>\n",
       "      <th>incident_tehsil</th>\n",
       "      <th>cause_of_emergency</th>\n",
       "      <th>base_to_scene_distance</th>\n",
       "      <th>scene_to_hospital_distance</th>\n",
       "      <th>roadway_feature</th>\n",
       "      <th>road_type</th>\n",
       "      <th>surrounding_area</th>\n",
       "      <th>criticality</th>\n",
       "    </tr>\n",
       "  </thead>\n",
       "  <tbody>\n",
       "    <tr>\n",
       "      <th>11772</th>\n",
       "      <td>VIC20120001118366</td>\n",
       "      <td>23:15:02</td>\n",
       "      <td>13-06-2012</td>\n",
       "      <td>Sanjay Colony--Patel Nagar</td>\n",
       "      <td>Raipur</td>\n",
       "      <td>Multiple Vehicular Incident</td>\n",
       "      <td>4</td>\n",
       "      <td>3</td>\n",
       "      <td>CUR</td>\n",
       "      <td>HIW</td>\n",
       "      <td>HIL</td>\n",
       "      <td>0</td>\n",
       "    </tr>\n",
       "    <tr>\n",
       "      <th>11773</th>\n",
       "      <td>VIC20110000320257</td>\n",
       "      <td>00:15:02</td>\n",
       "      <td>03-03-2011</td>\n",
       "      <td>Shartradhar Crosing</td>\n",
       "      <td>Raipur</td>\n",
       "      <td>2 Wheeler accidents</td>\n",
       "      <td>1</td>\n",
       "      <td>2</td>\n",
       "      <td>CUR</td>\n",
       "      <td>HIW</td>\n",
       "      <td>AGL</td>\n",
       "      <td>0</td>\n",
       "    </tr>\n",
       "    <tr>\n",
       "      <th>11774</th>\n",
       "      <td>VIC20090001341524</td>\n",
       "      <td>20:52:35</td>\n",
       "      <td>18-07-2009</td>\n",
       "      <td>Ramsawala</td>\n",
       "      <td>Sahaspur</td>\n",
       "      <td>2 Wheeler accidents</td>\n",
       "      <td>25</td>\n",
       "      <td>22</td>\n",
       "      <td>INT</td>\n",
       "      <td>HIW</td>\n",
       "      <td>HOSP</td>\n",
       "      <td>0</td>\n",
       "    </tr>\n",
       "    <tr>\n",
       "      <th>11775</th>\n",
       "      <td>VIC20140000744614</td>\n",
       "      <td>06:51:15</td>\n",
       "      <td>23-06-2014</td>\n",
       "      <td>Majri Grant</td>\n",
       "      <td>Doiwala</td>\n",
       "      <td>Multiple Vehicular Incident</td>\n",
       "      <td>8</td>\n",
       "      <td>8</td>\n",
       "      <td>UNK</td>\n",
       "      <td>LOC</td>\n",
       "      <td>AGL</td>\n",
       "      <td>1</td>\n",
       "    </tr>\n",
       "    <tr>\n",
       "      <th>11776</th>\n",
       "      <td>VIC20100000952321</td>\n",
       "      <td>16:51:39</td>\n",
       "      <td>09-05-2010</td>\n",
       "      <td>Shimla Chowk</td>\n",
       "      <td>Raipur</td>\n",
       "      <td>Vehicle role over/Skid</td>\n",
       "      <td>8</td>\n",
       "      <td>3</td>\n",
       "      <td>INT</td>\n",
       "      <td>HIW</td>\n",
       "      <td>MAR</td>\n",
       "      <td>0</td>\n",
       "    </tr>\n",
       "  </tbody>\n",
       "</table>\n",
       "</div>"
      ],
      "text/plain": [
       "               victim_id incident_time incident_date  \\\n",
       "11772  VIC20120001118366      23:15:02    13-06-2012   \n",
       "11773  VIC20110000320257      00:15:02    03-03-2011   \n",
       "11774  VIC20090001341524      20:52:35    18-07-2009   \n",
       "11775  VIC20140000744614      06:51:15    23-06-2014   \n",
       "11776  VIC20100000952321      16:51:39    09-05-2010   \n",
       "\n",
       "                incident_location incident_tehsil  \\\n",
       "11772  Sanjay Colony--Patel Nagar          Raipur   \n",
       "11773         Shartradhar Crosing          Raipur   \n",
       "11774                   Ramsawala        Sahaspur   \n",
       "11775                 Majri Grant         Doiwala   \n",
       "11776                Shimla Chowk          Raipur   \n",
       "\n",
       "                cause_of_emergency  base_to_scene_distance  \\\n",
       "11772  Multiple Vehicular Incident                       4   \n",
       "11773          2 Wheeler accidents                       1   \n",
       "11774          2 Wheeler accidents                      25   \n",
       "11775  Multiple Vehicular Incident                       8   \n",
       "11776       Vehicle role over/Skid                       8   \n",
       "\n",
       "       scene_to_hospital_distance roadway_feature road_type surrounding_area  \\\n",
       "11772                           3             CUR       HIW              HIL   \n",
       "11773                           2             CUR       HIW              AGL   \n",
       "11774                          22             INT       HIW             HOSP   \n",
       "11775                           8             UNK       LOC              AGL   \n",
       "11776                           3             INT       HIW              MAR   \n",
       "\n",
       "       criticality  \n",
       "11772            0  \n",
       "11773            0  \n",
       "11774            0  \n",
       "11775            1  \n",
       "11776            0  "
      ]
     },
     "execution_count": 14,
     "metadata": {},
     "output_type": "execute_result"
    }
   ],
   "source": [
    "data.tail()"
   ]
  },
  {
   "cell_type": "code",
   "execution_count": 15,
   "metadata": {},
   "outputs": [],
   "source": [
    "del data[\"incident_location\"]\n",
    "del data[\"victim_id\"]"
   ]
  },
  {
   "cell_type": "code",
   "execution_count": 16,
   "metadata": {},
   "outputs": [
    {
     "data": {
      "text/html": [
       "<div>\n",
       "<style scoped>\n",
       "    .dataframe tbody tr th:only-of-type {\n",
       "        vertical-align: middle;\n",
       "    }\n",
       "\n",
       "    .dataframe tbody tr th {\n",
       "        vertical-align: top;\n",
       "    }\n",
       "\n",
       "    .dataframe thead th {\n",
       "        text-align: right;\n",
       "    }\n",
       "</style>\n",
       "<table border=\"1\" class=\"dataframe\">\n",
       "  <thead>\n",
       "    <tr style=\"text-align: right;\">\n",
       "      <th></th>\n",
       "      <th>incident_time</th>\n",
       "      <th>incident_date</th>\n",
       "      <th>incident_tehsil</th>\n",
       "      <th>cause_of_emergency</th>\n",
       "      <th>base_to_scene_distance</th>\n",
       "      <th>scene_to_hospital_distance</th>\n",
       "      <th>roadway_feature</th>\n",
       "      <th>road_type</th>\n",
       "      <th>surrounding_area</th>\n",
       "      <th>criticality</th>\n",
       "    </tr>\n",
       "  </thead>\n",
       "  <tbody>\n",
       "    <tr>\n",
       "      <th>0</th>\n",
       "      <td>22:23:19</td>\n",
       "      <td>07-11-2012</td>\n",
       "      <td>Raipur</td>\n",
       "      <td>Multiple Vehicular Incident</td>\n",
       "      <td>13</td>\n",
       "      <td>12</td>\n",
       "      <td>CUR</td>\n",
       "      <td>HIW</td>\n",
       "      <td>FOR</td>\n",
       "      <td>0</td>\n",
       "    </tr>\n",
       "    <tr>\n",
       "      <th>1</th>\n",
       "      <td>20:23:09</td>\n",
       "      <td>02-11-2011</td>\n",
       "      <td>Raipur</td>\n",
       "      <td>2 Wheeler accidents</td>\n",
       "      <td>1</td>\n",
       "      <td>5</td>\n",
       "      <td>CUR</td>\n",
       "      <td>HIW</td>\n",
       "      <td>AGL</td>\n",
       "      <td>0</td>\n",
       "    </tr>\n",
       "    <tr>\n",
       "      <th>2</th>\n",
       "      <td>20:37:15</td>\n",
       "      <td>25-07-2009</td>\n",
       "      <td>Raipur</td>\n",
       "      <td>Non motorised vehicle accidents(Bullock cart,B...</td>\n",
       "      <td>2</td>\n",
       "      <td>2</td>\n",
       "      <td>INT</td>\n",
       "      <td>LOC</td>\n",
       "      <td>HOSP</td>\n",
       "      <td>0</td>\n",
       "    </tr>\n",
       "    <tr>\n",
       "      <th>3</th>\n",
       "      <td>15:20:22</td>\n",
       "      <td>19-05-2012</td>\n",
       "      <td>Raipur</td>\n",
       "      <td>2 Wheeler accidents</td>\n",
       "      <td>8</td>\n",
       "      <td>4</td>\n",
       "      <td>CUR</td>\n",
       "      <td>HIW</td>\n",
       "      <td>HIL</td>\n",
       "      <td>0</td>\n",
       "    </tr>\n",
       "    <tr>\n",
       "      <th>4</th>\n",
       "      <td>16:22:17</td>\n",
       "      <td>12-06-2010</td>\n",
       "      <td>Sahaspur</td>\n",
       "      <td>2 Wheeler accidents</td>\n",
       "      <td>1</td>\n",
       "      <td>26</td>\n",
       "      <td>CUR</td>\n",
       "      <td>HIW</td>\n",
       "      <td>AGL</td>\n",
       "      <td>0</td>\n",
       "    </tr>\n",
       "  </tbody>\n",
       "</table>\n",
       "</div>"
      ],
      "text/plain": [
       "  incident_time incident_date incident_tehsil  \\\n",
       "0      22:23:19    07-11-2012          Raipur   \n",
       "1      20:23:09    02-11-2011          Raipur   \n",
       "2      20:37:15    25-07-2009          Raipur   \n",
       "3      15:20:22    19-05-2012          Raipur   \n",
       "4      16:22:17    12-06-2010        Sahaspur   \n",
       "\n",
       "                                  cause_of_emergency  base_to_scene_distance  \\\n",
       "0                        Multiple Vehicular Incident                      13   \n",
       "1                                2 Wheeler accidents                       1   \n",
       "2  Non motorised vehicle accidents(Bullock cart,B...                       2   \n",
       "3                                2 Wheeler accidents                       8   \n",
       "4                                2 Wheeler accidents                       1   \n",
       "\n",
       "   scene_to_hospital_distance roadway_feature road_type surrounding_area  \\\n",
       "0                          12             CUR       HIW              FOR   \n",
       "1                           5             CUR       HIW              AGL   \n",
       "2                           2             INT       LOC             HOSP   \n",
       "3                           4             CUR       HIW              HIL   \n",
       "4                          26             CUR       HIW              AGL   \n",
       "\n",
       "   criticality  \n",
       "0            0  \n",
       "1            0  \n",
       "2            0  \n",
       "3            0  \n",
       "4            0  "
      ]
     },
     "execution_count": 16,
     "metadata": {},
     "output_type": "execute_result"
    }
   ],
   "source": [
    "data.head()#incident_time_category' 'day_of_week' 1 2] not in index\"\n"
   ]
  },
  {
   "cell_type": "code",
   "execution_count": 17,
   "metadata": {},
   "outputs": [],
   "source": [
    "A=data.incident_time.str.split(':', expand=True)"
   ]
  },
  {
   "cell_type": "code",
   "execution_count": 18,
   "metadata": {},
   "outputs": [],
   "source": [
    "del A[1]\n",
    "del A[2]"
   ]
  },
  {
   "cell_type": "code",
   "execution_count": 19,
   "metadata": {
    "scrolled": true
   },
   "outputs": [
    {
     "data": {
      "text/html": [
       "<div>\n",
       "<style scoped>\n",
       "    .dataframe tbody tr th:only-of-type {\n",
       "        vertical-align: middle;\n",
       "    }\n",
       "\n",
       "    .dataframe tbody tr th {\n",
       "        vertical-align: top;\n",
       "    }\n",
       "\n",
       "    .dataframe thead th {\n",
       "        text-align: right;\n",
       "    }\n",
       "</style>\n",
       "<table border=\"1\" class=\"dataframe\">\n",
       "  <thead>\n",
       "    <tr style=\"text-align: right;\">\n",
       "      <th></th>\n",
       "      <th>0</th>\n",
       "    </tr>\n",
       "  </thead>\n",
       "  <tbody>\n",
       "    <tr>\n",
       "      <th>0</th>\n",
       "      <td>22</td>\n",
       "    </tr>\n",
       "    <tr>\n",
       "      <th>1</th>\n",
       "      <td>20</td>\n",
       "    </tr>\n",
       "    <tr>\n",
       "      <th>2</th>\n",
       "      <td>20</td>\n",
       "    </tr>\n",
       "    <tr>\n",
       "      <th>3</th>\n",
       "      <td>15</td>\n",
       "    </tr>\n",
       "    <tr>\n",
       "      <th>4</th>\n",
       "      <td>16</td>\n",
       "    </tr>\n",
       "  </tbody>\n",
       "</table>\n",
       "</div>"
      ],
      "text/plain": [
       "    0\n",
       "0  22\n",
       "1  20\n",
       "2  20\n",
       "3  15\n",
       "4  16"
      ]
     },
     "execution_count": 19,
     "metadata": {},
     "output_type": "execute_result"
    }
   ],
   "source": [
    "A.head()"
   ]
  },
  {
   "cell_type": "code",
   "execution_count": 20,
   "metadata": {
    "scrolled": true
   },
   "outputs": [],
   "source": [
    "A.rename(columns={0:'incident_time_category'}, inplace=True)"
   ]
  },
  {
   "cell_type": "code",
   "execution_count": 21,
   "metadata": {},
   "outputs": [
    {
     "data": {
      "text/html": [
       "<div>\n",
       "<style scoped>\n",
       "    .dataframe tbody tr th:only-of-type {\n",
       "        vertical-align: middle;\n",
       "    }\n",
       "\n",
       "    .dataframe tbody tr th {\n",
       "        vertical-align: top;\n",
       "    }\n",
       "\n",
       "    .dataframe thead th {\n",
       "        text-align: right;\n",
       "    }\n",
       "</style>\n",
       "<table border=\"1\" class=\"dataframe\">\n",
       "  <thead>\n",
       "    <tr style=\"text-align: right;\">\n",
       "      <th></th>\n",
       "      <th>incident_time_category</th>\n",
       "    </tr>\n",
       "  </thead>\n",
       "  <tbody>\n",
       "    <tr>\n",
       "      <th>0</th>\n",
       "      <td>22</td>\n",
       "    </tr>\n",
       "    <tr>\n",
       "      <th>1</th>\n",
       "      <td>20</td>\n",
       "    </tr>\n",
       "    <tr>\n",
       "      <th>2</th>\n",
       "      <td>20</td>\n",
       "    </tr>\n",
       "    <tr>\n",
       "      <th>3</th>\n",
       "      <td>15</td>\n",
       "    </tr>\n",
       "    <tr>\n",
       "      <th>4</th>\n",
       "      <td>16</td>\n",
       "    </tr>\n",
       "  </tbody>\n",
       "</table>\n",
       "</div>"
      ],
      "text/plain": [
       "  incident_time_category\n",
       "0                     22\n",
       "1                     20\n",
       "2                     20\n",
       "3                     15\n",
       "4                     16"
      ]
     },
     "execution_count": 21,
     "metadata": {},
     "output_type": "execute_result"
    }
   ],
   "source": [
    "A.head()"
   ]
  },
  {
   "cell_type": "code",
   "execution_count": 22,
   "metadata": {},
   "outputs": [],
   "source": [
    "data1=pd.concat([data,A], axis=1)"
   ]
  },
  {
   "cell_type": "code",
   "execution_count": 23,
   "metadata": {},
   "outputs": [
    {
     "data": {
      "text/html": [
       "<div>\n",
       "<style scoped>\n",
       "    .dataframe tbody tr th:only-of-type {\n",
       "        vertical-align: middle;\n",
       "    }\n",
       "\n",
       "    .dataframe tbody tr th {\n",
       "        vertical-align: top;\n",
       "    }\n",
       "\n",
       "    .dataframe thead th {\n",
       "        text-align: right;\n",
       "    }\n",
       "</style>\n",
       "<table border=\"1\" class=\"dataframe\">\n",
       "  <thead>\n",
       "    <tr style=\"text-align: right;\">\n",
       "      <th></th>\n",
       "      <th>incident_time</th>\n",
       "      <th>incident_date</th>\n",
       "      <th>incident_tehsil</th>\n",
       "      <th>cause_of_emergency</th>\n",
       "      <th>base_to_scene_distance</th>\n",
       "      <th>scene_to_hospital_distance</th>\n",
       "      <th>roadway_feature</th>\n",
       "      <th>road_type</th>\n",
       "      <th>surrounding_area</th>\n",
       "      <th>criticality</th>\n",
       "      <th>incident_time_category</th>\n",
       "    </tr>\n",
       "  </thead>\n",
       "  <tbody>\n",
       "    <tr>\n",
       "      <th>11772</th>\n",
       "      <td>23:15:02</td>\n",
       "      <td>13-06-2012</td>\n",
       "      <td>Raipur</td>\n",
       "      <td>Multiple Vehicular Incident</td>\n",
       "      <td>4</td>\n",
       "      <td>3</td>\n",
       "      <td>CUR</td>\n",
       "      <td>HIW</td>\n",
       "      <td>HIL</td>\n",
       "      <td>0</td>\n",
       "      <td>23</td>\n",
       "    </tr>\n",
       "    <tr>\n",
       "      <th>11773</th>\n",
       "      <td>00:15:02</td>\n",
       "      <td>03-03-2011</td>\n",
       "      <td>Raipur</td>\n",
       "      <td>2 Wheeler accidents</td>\n",
       "      <td>1</td>\n",
       "      <td>2</td>\n",
       "      <td>CUR</td>\n",
       "      <td>HIW</td>\n",
       "      <td>AGL</td>\n",
       "      <td>0</td>\n",
       "      <td>00</td>\n",
       "    </tr>\n",
       "    <tr>\n",
       "      <th>11774</th>\n",
       "      <td>20:52:35</td>\n",
       "      <td>18-07-2009</td>\n",
       "      <td>Sahaspur</td>\n",
       "      <td>2 Wheeler accidents</td>\n",
       "      <td>25</td>\n",
       "      <td>22</td>\n",
       "      <td>INT</td>\n",
       "      <td>HIW</td>\n",
       "      <td>HOSP</td>\n",
       "      <td>0</td>\n",
       "      <td>20</td>\n",
       "    </tr>\n",
       "    <tr>\n",
       "      <th>11775</th>\n",
       "      <td>06:51:15</td>\n",
       "      <td>23-06-2014</td>\n",
       "      <td>Doiwala</td>\n",
       "      <td>Multiple Vehicular Incident</td>\n",
       "      <td>8</td>\n",
       "      <td>8</td>\n",
       "      <td>UNK</td>\n",
       "      <td>LOC</td>\n",
       "      <td>AGL</td>\n",
       "      <td>1</td>\n",
       "      <td>06</td>\n",
       "    </tr>\n",
       "    <tr>\n",
       "      <th>11776</th>\n",
       "      <td>16:51:39</td>\n",
       "      <td>09-05-2010</td>\n",
       "      <td>Raipur</td>\n",
       "      <td>Vehicle role over/Skid</td>\n",
       "      <td>8</td>\n",
       "      <td>3</td>\n",
       "      <td>INT</td>\n",
       "      <td>HIW</td>\n",
       "      <td>MAR</td>\n",
       "      <td>0</td>\n",
       "      <td>16</td>\n",
       "    </tr>\n",
       "  </tbody>\n",
       "</table>\n",
       "</div>"
      ],
      "text/plain": [
       "      incident_time incident_date incident_tehsil  \\\n",
       "11772      23:15:02    13-06-2012          Raipur   \n",
       "11773      00:15:02    03-03-2011          Raipur   \n",
       "11774      20:52:35    18-07-2009        Sahaspur   \n",
       "11775      06:51:15    23-06-2014         Doiwala   \n",
       "11776      16:51:39    09-05-2010          Raipur   \n",
       "\n",
       "                cause_of_emergency  base_to_scene_distance  \\\n",
       "11772  Multiple Vehicular Incident                       4   \n",
       "11773          2 Wheeler accidents                       1   \n",
       "11774          2 Wheeler accidents                      25   \n",
       "11775  Multiple Vehicular Incident                       8   \n",
       "11776       Vehicle role over/Skid                       8   \n",
       "\n",
       "       scene_to_hospital_distance roadway_feature road_type surrounding_area  \\\n",
       "11772                           3             CUR       HIW              HIL   \n",
       "11773                           2             CUR       HIW              AGL   \n",
       "11774                          22             INT       HIW             HOSP   \n",
       "11775                           8             UNK       LOC              AGL   \n",
       "11776                           3             INT       HIW              MAR   \n",
       "\n",
       "       criticality incident_time_category  \n",
       "11772            0                     23  \n",
       "11773            0                     00  \n",
       "11774            0                     20  \n",
       "11775            1                     06  \n",
       "11776            0                     16  "
      ]
     },
     "execution_count": 23,
     "metadata": {},
     "output_type": "execute_result"
    }
   ],
   "source": [
    "data1.tail()"
   ]
  },
  {
   "cell_type": "code",
   "execution_count": 24,
   "metadata": {},
   "outputs": [],
   "source": [
    "itemsB=[\"00\",\"01\",\"02\",\"03\"]\n",
    "for x in itemsB:\n",
    "    data1.loc[data1[\"incident_time_category\"]==x,'incident_time_category']=\"0\"\n",
    "itemsB=[\"04\",\"05\",\"06\",\"07\"]\n",
    "for x in itemsB:\n",
    "    data1.loc[data1[\"incident_time_category\"]==x,'incident_time_category']=\"1\"\n",
    "itemsB=[\"08\",\"09\",\"10\",\"11\"]\n",
    "for x in itemsB:\n",
    "    data1.loc[data1[\"incident_time_category\"]==x,'incident_time_category']=\"2\"\n",
    "itemsB=[\"12\",\"13\",\"14\",\"15\"]\n",
    "for x in itemsB:\n",
    "    data1.loc[data1[\"incident_time_category\"]==x,'incident_time_category']=\"3\"\n",
    "itemsB=[\"16\",\"17\",\"18\",\"19\"]\n",
    "for x in itemsB:\n",
    "    data1.loc[data1[\"incident_time_category\"]==x,'incident_time_category']=\"4\"\n",
    "itemsB=[\"20\",\"21\",\"22\",\"23\"]\n",
    "for x in itemsB:\n",
    "    data1.loc[data1[\"incident_time_category\"]==x,'incident_time_category']=\"5\""
   ]
  },
  {
   "cell_type": "code",
   "execution_count": 25,
   "metadata": {},
   "outputs": [
    {
     "data": {
      "text/html": [
       "<div>\n",
       "<style scoped>\n",
       "    .dataframe tbody tr th:only-of-type {\n",
       "        vertical-align: middle;\n",
       "    }\n",
       "\n",
       "    .dataframe tbody tr th {\n",
       "        vertical-align: top;\n",
       "    }\n",
       "\n",
       "    .dataframe thead th {\n",
       "        text-align: right;\n",
       "    }\n",
       "</style>\n",
       "<table border=\"1\" class=\"dataframe\">\n",
       "  <thead>\n",
       "    <tr style=\"text-align: right;\">\n",
       "      <th></th>\n",
       "      <th>incident_time</th>\n",
       "      <th>incident_date</th>\n",
       "      <th>incident_tehsil</th>\n",
       "      <th>cause_of_emergency</th>\n",
       "      <th>base_to_scene_distance</th>\n",
       "      <th>scene_to_hospital_distance</th>\n",
       "      <th>roadway_feature</th>\n",
       "      <th>road_type</th>\n",
       "      <th>surrounding_area</th>\n",
       "      <th>criticality</th>\n",
       "      <th>incident_time_category</th>\n",
       "    </tr>\n",
       "  </thead>\n",
       "  <tbody>\n",
       "    <tr>\n",
       "      <th>0</th>\n",
       "      <td>22:23:19</td>\n",
       "      <td>07-11-2012</td>\n",
       "      <td>Raipur</td>\n",
       "      <td>Multiple Vehicular Incident</td>\n",
       "      <td>13</td>\n",
       "      <td>12</td>\n",
       "      <td>CUR</td>\n",
       "      <td>HIW</td>\n",
       "      <td>FOR</td>\n",
       "      <td>0</td>\n",
       "      <td>5</td>\n",
       "    </tr>\n",
       "    <tr>\n",
       "      <th>1</th>\n",
       "      <td>20:23:09</td>\n",
       "      <td>02-11-2011</td>\n",
       "      <td>Raipur</td>\n",
       "      <td>2 Wheeler accidents</td>\n",
       "      <td>1</td>\n",
       "      <td>5</td>\n",
       "      <td>CUR</td>\n",
       "      <td>HIW</td>\n",
       "      <td>AGL</td>\n",
       "      <td>0</td>\n",
       "      <td>5</td>\n",
       "    </tr>\n",
       "    <tr>\n",
       "      <th>2</th>\n",
       "      <td>20:37:15</td>\n",
       "      <td>25-07-2009</td>\n",
       "      <td>Raipur</td>\n",
       "      <td>Non motorised vehicle accidents(Bullock cart,B...</td>\n",
       "      <td>2</td>\n",
       "      <td>2</td>\n",
       "      <td>INT</td>\n",
       "      <td>LOC</td>\n",
       "      <td>HOSP</td>\n",
       "      <td>0</td>\n",
       "      <td>5</td>\n",
       "    </tr>\n",
       "    <tr>\n",
       "      <th>3</th>\n",
       "      <td>15:20:22</td>\n",
       "      <td>19-05-2012</td>\n",
       "      <td>Raipur</td>\n",
       "      <td>2 Wheeler accidents</td>\n",
       "      <td>8</td>\n",
       "      <td>4</td>\n",
       "      <td>CUR</td>\n",
       "      <td>HIW</td>\n",
       "      <td>HIL</td>\n",
       "      <td>0</td>\n",
       "      <td>3</td>\n",
       "    </tr>\n",
       "    <tr>\n",
       "      <th>4</th>\n",
       "      <td>16:22:17</td>\n",
       "      <td>12-06-2010</td>\n",
       "      <td>Sahaspur</td>\n",
       "      <td>2 Wheeler accidents</td>\n",
       "      <td>1</td>\n",
       "      <td>26</td>\n",
       "      <td>CUR</td>\n",
       "      <td>HIW</td>\n",
       "      <td>AGL</td>\n",
       "      <td>0</td>\n",
       "      <td>4</td>\n",
       "    </tr>\n",
       "  </tbody>\n",
       "</table>\n",
       "</div>"
      ],
      "text/plain": [
       "  incident_time incident_date incident_tehsil  \\\n",
       "0      22:23:19    07-11-2012          Raipur   \n",
       "1      20:23:09    02-11-2011          Raipur   \n",
       "2      20:37:15    25-07-2009          Raipur   \n",
       "3      15:20:22    19-05-2012          Raipur   \n",
       "4      16:22:17    12-06-2010        Sahaspur   \n",
       "\n",
       "                                  cause_of_emergency  base_to_scene_distance  \\\n",
       "0                        Multiple Vehicular Incident                      13   \n",
       "1                                2 Wheeler accidents                       1   \n",
       "2  Non motorised vehicle accidents(Bullock cart,B...                       2   \n",
       "3                                2 Wheeler accidents                       8   \n",
       "4                                2 Wheeler accidents                       1   \n",
       "\n",
       "   scene_to_hospital_distance roadway_feature road_type surrounding_area  \\\n",
       "0                          12             CUR       HIW              FOR   \n",
       "1                           5             CUR       HIW              AGL   \n",
       "2                           2             INT       LOC             HOSP   \n",
       "3                           4             CUR       HIW              HIL   \n",
       "4                          26             CUR       HIW              AGL   \n",
       "\n",
       "   criticality incident_time_category  \n",
       "0            0                      5  \n",
       "1            0                      5  \n",
       "2            0                      5  \n",
       "3            0                      3  \n",
       "4            0                      4  "
      ]
     },
     "execution_count": 25,
     "metadata": {},
     "output_type": "execute_result"
    }
   ],
   "source": [
    "data1.head()"
   ]
  },
  {
   "cell_type": "code",
   "execution_count": 26,
   "metadata": {},
   "outputs": [],
   "source": [
    "data1['incident_date1'] = pd.to_datetime(data1['incident_date'])"
   ]
  },
  {
   "cell_type": "code",
   "execution_count": 27,
   "metadata": {},
   "outputs": [
    {
     "data": {
      "text/html": [
       "<div>\n",
       "<style scoped>\n",
       "    .dataframe tbody tr th:only-of-type {\n",
       "        vertical-align: middle;\n",
       "    }\n",
       "\n",
       "    .dataframe tbody tr th {\n",
       "        vertical-align: top;\n",
       "    }\n",
       "\n",
       "    .dataframe thead th {\n",
       "        text-align: right;\n",
       "    }\n",
       "</style>\n",
       "<table border=\"1\" class=\"dataframe\">\n",
       "  <thead>\n",
       "    <tr style=\"text-align: right;\">\n",
       "      <th></th>\n",
       "      <th>incident_time</th>\n",
       "      <th>incident_date</th>\n",
       "      <th>incident_tehsil</th>\n",
       "      <th>cause_of_emergency</th>\n",
       "      <th>base_to_scene_distance</th>\n",
       "      <th>scene_to_hospital_distance</th>\n",
       "      <th>roadway_feature</th>\n",
       "      <th>road_type</th>\n",
       "      <th>surrounding_area</th>\n",
       "      <th>criticality</th>\n",
       "      <th>incident_time_category</th>\n",
       "      <th>incident_date1</th>\n",
       "    </tr>\n",
       "  </thead>\n",
       "  <tbody>\n",
       "    <tr>\n",
       "      <th>0</th>\n",
       "      <td>22:23:19</td>\n",
       "      <td>07-11-2012</td>\n",
       "      <td>Raipur</td>\n",
       "      <td>Multiple Vehicular Incident</td>\n",
       "      <td>13</td>\n",
       "      <td>12</td>\n",
       "      <td>CUR</td>\n",
       "      <td>HIW</td>\n",
       "      <td>FOR</td>\n",
       "      <td>0</td>\n",
       "      <td>5</td>\n",
       "      <td>2012-07-11</td>\n",
       "    </tr>\n",
       "    <tr>\n",
       "      <th>1</th>\n",
       "      <td>20:23:09</td>\n",
       "      <td>02-11-2011</td>\n",
       "      <td>Raipur</td>\n",
       "      <td>2 Wheeler accidents</td>\n",
       "      <td>1</td>\n",
       "      <td>5</td>\n",
       "      <td>CUR</td>\n",
       "      <td>HIW</td>\n",
       "      <td>AGL</td>\n",
       "      <td>0</td>\n",
       "      <td>5</td>\n",
       "      <td>2011-02-11</td>\n",
       "    </tr>\n",
       "    <tr>\n",
       "      <th>2</th>\n",
       "      <td>20:37:15</td>\n",
       "      <td>25-07-2009</td>\n",
       "      <td>Raipur</td>\n",
       "      <td>Non motorised vehicle accidents(Bullock cart,B...</td>\n",
       "      <td>2</td>\n",
       "      <td>2</td>\n",
       "      <td>INT</td>\n",
       "      <td>LOC</td>\n",
       "      <td>HOSP</td>\n",
       "      <td>0</td>\n",
       "      <td>5</td>\n",
       "      <td>2009-07-25</td>\n",
       "    </tr>\n",
       "    <tr>\n",
       "      <th>3</th>\n",
       "      <td>15:20:22</td>\n",
       "      <td>19-05-2012</td>\n",
       "      <td>Raipur</td>\n",
       "      <td>2 Wheeler accidents</td>\n",
       "      <td>8</td>\n",
       "      <td>4</td>\n",
       "      <td>CUR</td>\n",
       "      <td>HIW</td>\n",
       "      <td>HIL</td>\n",
       "      <td>0</td>\n",
       "      <td>3</td>\n",
       "      <td>2012-05-19</td>\n",
       "    </tr>\n",
       "    <tr>\n",
       "      <th>4</th>\n",
       "      <td>16:22:17</td>\n",
       "      <td>12-06-2010</td>\n",
       "      <td>Sahaspur</td>\n",
       "      <td>2 Wheeler accidents</td>\n",
       "      <td>1</td>\n",
       "      <td>26</td>\n",
       "      <td>CUR</td>\n",
       "      <td>HIW</td>\n",
       "      <td>AGL</td>\n",
       "      <td>0</td>\n",
       "      <td>4</td>\n",
       "      <td>2010-12-06</td>\n",
       "    </tr>\n",
       "  </tbody>\n",
       "</table>\n",
       "</div>"
      ],
      "text/plain": [
       "  incident_time incident_date incident_tehsil  \\\n",
       "0      22:23:19    07-11-2012          Raipur   \n",
       "1      20:23:09    02-11-2011          Raipur   \n",
       "2      20:37:15    25-07-2009          Raipur   \n",
       "3      15:20:22    19-05-2012          Raipur   \n",
       "4      16:22:17    12-06-2010        Sahaspur   \n",
       "\n",
       "                                  cause_of_emergency  base_to_scene_distance  \\\n",
       "0                        Multiple Vehicular Incident                      13   \n",
       "1                                2 Wheeler accidents                       1   \n",
       "2  Non motorised vehicle accidents(Bullock cart,B...                       2   \n",
       "3                                2 Wheeler accidents                       8   \n",
       "4                                2 Wheeler accidents                       1   \n",
       "\n",
       "   scene_to_hospital_distance roadway_feature road_type surrounding_area  \\\n",
       "0                          12             CUR       HIW              FOR   \n",
       "1                           5             CUR       HIW              AGL   \n",
       "2                           2             INT       LOC             HOSP   \n",
       "3                           4             CUR       HIW              HIL   \n",
       "4                          26             CUR       HIW              AGL   \n",
       "\n",
       "   criticality incident_time_category incident_date1  \n",
       "0            0                      5     2012-07-11  \n",
       "1            0                      5     2011-02-11  \n",
       "2            0                      5     2009-07-25  \n",
       "3            0                      3     2012-05-19  \n",
       "4            0                      4     2010-12-06  "
      ]
     },
     "execution_count": 27,
     "metadata": {},
     "output_type": "execute_result"
    }
   ],
   "source": [
    "data1.head()"
   ]
  },
  {
   "cell_type": "code",
   "execution_count": 28,
   "metadata": {},
   "outputs": [],
   "source": [
    "data1['day_of_week'] = data1['incident_date1'].dt.weekday_name\n"
   ]
  },
  {
   "cell_type": "code",
   "execution_count": 29,
   "metadata": {},
   "outputs": [
    {
     "data": {
      "text/html": [
       "<div>\n",
       "<style scoped>\n",
       "    .dataframe tbody tr th:only-of-type {\n",
       "        vertical-align: middle;\n",
       "    }\n",
       "\n",
       "    .dataframe tbody tr th {\n",
       "        vertical-align: top;\n",
       "    }\n",
       "\n",
       "    .dataframe thead th {\n",
       "        text-align: right;\n",
       "    }\n",
       "</style>\n",
       "<table border=\"1\" class=\"dataframe\">\n",
       "  <thead>\n",
       "    <tr style=\"text-align: right;\">\n",
       "      <th></th>\n",
       "      <th>incident_time</th>\n",
       "      <th>incident_date</th>\n",
       "      <th>incident_tehsil</th>\n",
       "      <th>cause_of_emergency</th>\n",
       "      <th>base_to_scene_distance</th>\n",
       "      <th>scene_to_hospital_distance</th>\n",
       "      <th>roadway_feature</th>\n",
       "      <th>road_type</th>\n",
       "      <th>surrounding_area</th>\n",
       "      <th>criticality</th>\n",
       "      <th>incident_time_category</th>\n",
       "      <th>incident_date1</th>\n",
       "      <th>day_of_week</th>\n",
       "    </tr>\n",
       "  </thead>\n",
       "  <tbody>\n",
       "    <tr>\n",
       "      <th>0</th>\n",
       "      <td>22:23:19</td>\n",
       "      <td>07-11-2012</td>\n",
       "      <td>Raipur</td>\n",
       "      <td>Multiple Vehicular Incident</td>\n",
       "      <td>13</td>\n",
       "      <td>12</td>\n",
       "      <td>CUR</td>\n",
       "      <td>HIW</td>\n",
       "      <td>FOR</td>\n",
       "      <td>0</td>\n",
       "      <td>5</td>\n",
       "      <td>2012-07-11</td>\n",
       "      <td>Wednesday</td>\n",
       "    </tr>\n",
       "    <tr>\n",
       "      <th>1</th>\n",
       "      <td>20:23:09</td>\n",
       "      <td>02-11-2011</td>\n",
       "      <td>Raipur</td>\n",
       "      <td>2 Wheeler accidents</td>\n",
       "      <td>1</td>\n",
       "      <td>5</td>\n",
       "      <td>CUR</td>\n",
       "      <td>HIW</td>\n",
       "      <td>AGL</td>\n",
       "      <td>0</td>\n",
       "      <td>5</td>\n",
       "      <td>2011-02-11</td>\n",
       "      <td>Friday</td>\n",
       "    </tr>\n",
       "    <tr>\n",
       "      <th>2</th>\n",
       "      <td>20:37:15</td>\n",
       "      <td>25-07-2009</td>\n",
       "      <td>Raipur</td>\n",
       "      <td>Non motorised vehicle accidents(Bullock cart,B...</td>\n",
       "      <td>2</td>\n",
       "      <td>2</td>\n",
       "      <td>INT</td>\n",
       "      <td>LOC</td>\n",
       "      <td>HOSP</td>\n",
       "      <td>0</td>\n",
       "      <td>5</td>\n",
       "      <td>2009-07-25</td>\n",
       "      <td>Saturday</td>\n",
       "    </tr>\n",
       "    <tr>\n",
       "      <th>3</th>\n",
       "      <td>15:20:22</td>\n",
       "      <td>19-05-2012</td>\n",
       "      <td>Raipur</td>\n",
       "      <td>2 Wheeler accidents</td>\n",
       "      <td>8</td>\n",
       "      <td>4</td>\n",
       "      <td>CUR</td>\n",
       "      <td>HIW</td>\n",
       "      <td>HIL</td>\n",
       "      <td>0</td>\n",
       "      <td>3</td>\n",
       "      <td>2012-05-19</td>\n",
       "      <td>Saturday</td>\n",
       "    </tr>\n",
       "    <tr>\n",
       "      <th>4</th>\n",
       "      <td>16:22:17</td>\n",
       "      <td>12-06-2010</td>\n",
       "      <td>Sahaspur</td>\n",
       "      <td>2 Wheeler accidents</td>\n",
       "      <td>1</td>\n",
       "      <td>26</td>\n",
       "      <td>CUR</td>\n",
       "      <td>HIW</td>\n",
       "      <td>AGL</td>\n",
       "      <td>0</td>\n",
       "      <td>4</td>\n",
       "      <td>2010-12-06</td>\n",
       "      <td>Monday</td>\n",
       "    </tr>\n",
       "  </tbody>\n",
       "</table>\n",
       "</div>"
      ],
      "text/plain": [
       "  incident_time incident_date incident_tehsil  \\\n",
       "0      22:23:19    07-11-2012          Raipur   \n",
       "1      20:23:09    02-11-2011          Raipur   \n",
       "2      20:37:15    25-07-2009          Raipur   \n",
       "3      15:20:22    19-05-2012          Raipur   \n",
       "4      16:22:17    12-06-2010        Sahaspur   \n",
       "\n",
       "                                  cause_of_emergency  base_to_scene_distance  \\\n",
       "0                        Multiple Vehicular Incident                      13   \n",
       "1                                2 Wheeler accidents                       1   \n",
       "2  Non motorised vehicle accidents(Bullock cart,B...                       2   \n",
       "3                                2 Wheeler accidents                       8   \n",
       "4                                2 Wheeler accidents                       1   \n",
       "\n",
       "   scene_to_hospital_distance roadway_feature road_type surrounding_area  \\\n",
       "0                          12             CUR       HIW              FOR   \n",
       "1                           5             CUR       HIW              AGL   \n",
       "2                           2             INT       LOC             HOSP   \n",
       "3                           4             CUR       HIW              HIL   \n",
       "4                          26             CUR       HIW              AGL   \n",
       "\n",
       "   criticality incident_time_category incident_date1 day_of_week  \n",
       "0            0                      5     2012-07-11   Wednesday  \n",
       "1            0                      5     2011-02-11      Friday  \n",
       "2            0                      5     2009-07-25    Saturday  \n",
       "3            0                      3     2012-05-19    Saturday  \n",
       "4            0                      4     2010-12-06      Monday  "
      ]
     },
     "execution_count": 29,
     "metadata": {},
     "output_type": "execute_result"
    }
   ],
   "source": [
    "data1.head()"
   ]
  },
  {
   "cell_type": "code",
   "execution_count": 30,
   "metadata": {},
   "outputs": [],
   "source": [
    "B=data1.incident_date.str.split('-', expand=True)"
   ]
  },
  {
   "cell_type": "code",
   "execution_count": 31,
   "metadata": {
    "scrolled": true
   },
   "outputs": [
    {
     "data": {
      "text/html": [
       "<div>\n",
       "<style scoped>\n",
       "    .dataframe tbody tr th:only-of-type {\n",
       "        vertical-align: middle;\n",
       "    }\n",
       "\n",
       "    .dataframe tbody tr th {\n",
       "        vertical-align: top;\n",
       "    }\n",
       "\n",
       "    .dataframe thead th {\n",
       "        text-align: right;\n",
       "    }\n",
       "</style>\n",
       "<table border=\"1\" class=\"dataframe\">\n",
       "  <thead>\n",
       "    <tr style=\"text-align: right;\">\n",
       "      <th></th>\n",
       "      <th>0</th>\n",
       "      <th>1</th>\n",
       "      <th>2</th>\n",
       "    </tr>\n",
       "  </thead>\n",
       "  <tbody>\n",
       "    <tr>\n",
       "      <th>0</th>\n",
       "      <td>07</td>\n",
       "      <td>11</td>\n",
       "      <td>2012</td>\n",
       "    </tr>\n",
       "    <tr>\n",
       "      <th>1</th>\n",
       "      <td>02</td>\n",
       "      <td>11</td>\n",
       "      <td>2011</td>\n",
       "    </tr>\n",
       "    <tr>\n",
       "      <th>2</th>\n",
       "      <td>25</td>\n",
       "      <td>07</td>\n",
       "      <td>2009</td>\n",
       "    </tr>\n",
       "    <tr>\n",
       "      <th>3</th>\n",
       "      <td>19</td>\n",
       "      <td>05</td>\n",
       "      <td>2012</td>\n",
       "    </tr>\n",
       "    <tr>\n",
       "      <th>4</th>\n",
       "      <td>12</td>\n",
       "      <td>06</td>\n",
       "      <td>2010</td>\n",
       "    </tr>\n",
       "  </tbody>\n",
       "</table>\n",
       "</div>"
      ],
      "text/plain": [
       "    0   1     2\n",
       "0  07  11  2012\n",
       "1  02  11  2011\n",
       "2  25  07  2009\n",
       "3  19  05  2012\n",
       "4  12  06  2010"
      ]
     },
     "execution_count": 31,
     "metadata": {},
     "output_type": "execute_result"
    }
   ],
   "source": [
    "B.head()"
   ]
  },
  {
   "cell_type": "code",
   "execution_count": 32,
   "metadata": {},
   "outputs": [],
   "source": [
    "final_data=pd.concat([data1,B] , axis=1)"
   ]
  },
  {
   "cell_type": "code",
   "execution_count": 33,
   "metadata": {},
   "outputs": [
    {
     "data": {
      "text/html": [
       "<div>\n",
       "<style scoped>\n",
       "    .dataframe tbody tr th:only-of-type {\n",
       "        vertical-align: middle;\n",
       "    }\n",
       "\n",
       "    .dataframe tbody tr th {\n",
       "        vertical-align: top;\n",
       "    }\n",
       "\n",
       "    .dataframe thead th {\n",
       "        text-align: right;\n",
       "    }\n",
       "</style>\n",
       "<table border=\"1\" class=\"dataframe\">\n",
       "  <thead>\n",
       "    <tr style=\"text-align: right;\">\n",
       "      <th></th>\n",
       "      <th>incident_time</th>\n",
       "      <th>incident_date</th>\n",
       "      <th>incident_tehsil</th>\n",
       "      <th>cause_of_emergency</th>\n",
       "      <th>base_to_scene_distance</th>\n",
       "      <th>scene_to_hospital_distance</th>\n",
       "      <th>roadway_feature</th>\n",
       "      <th>road_type</th>\n",
       "      <th>surrounding_area</th>\n",
       "      <th>criticality</th>\n",
       "      <th>incident_time_category</th>\n",
       "      <th>incident_date1</th>\n",
       "      <th>day_of_week</th>\n",
       "      <th>0</th>\n",
       "      <th>1</th>\n",
       "      <th>2</th>\n",
       "    </tr>\n",
       "  </thead>\n",
       "  <tbody>\n",
       "    <tr>\n",
       "      <th>0</th>\n",
       "      <td>22:23:19</td>\n",
       "      <td>07-11-2012</td>\n",
       "      <td>Raipur</td>\n",
       "      <td>Multiple Vehicular Incident</td>\n",
       "      <td>13</td>\n",
       "      <td>12</td>\n",
       "      <td>CUR</td>\n",
       "      <td>HIW</td>\n",
       "      <td>FOR</td>\n",
       "      <td>0</td>\n",
       "      <td>5</td>\n",
       "      <td>2012-07-11</td>\n",
       "      <td>Wednesday</td>\n",
       "      <td>07</td>\n",
       "      <td>11</td>\n",
       "      <td>2012</td>\n",
       "    </tr>\n",
       "    <tr>\n",
       "      <th>1</th>\n",
       "      <td>20:23:09</td>\n",
       "      <td>02-11-2011</td>\n",
       "      <td>Raipur</td>\n",
       "      <td>2 Wheeler accidents</td>\n",
       "      <td>1</td>\n",
       "      <td>5</td>\n",
       "      <td>CUR</td>\n",
       "      <td>HIW</td>\n",
       "      <td>AGL</td>\n",
       "      <td>0</td>\n",
       "      <td>5</td>\n",
       "      <td>2011-02-11</td>\n",
       "      <td>Friday</td>\n",
       "      <td>02</td>\n",
       "      <td>11</td>\n",
       "      <td>2011</td>\n",
       "    </tr>\n",
       "    <tr>\n",
       "      <th>2</th>\n",
       "      <td>20:37:15</td>\n",
       "      <td>25-07-2009</td>\n",
       "      <td>Raipur</td>\n",
       "      <td>Non motorised vehicle accidents(Bullock cart,B...</td>\n",
       "      <td>2</td>\n",
       "      <td>2</td>\n",
       "      <td>INT</td>\n",
       "      <td>LOC</td>\n",
       "      <td>HOSP</td>\n",
       "      <td>0</td>\n",
       "      <td>5</td>\n",
       "      <td>2009-07-25</td>\n",
       "      <td>Saturday</td>\n",
       "      <td>25</td>\n",
       "      <td>07</td>\n",
       "      <td>2009</td>\n",
       "    </tr>\n",
       "    <tr>\n",
       "      <th>3</th>\n",
       "      <td>15:20:22</td>\n",
       "      <td>19-05-2012</td>\n",
       "      <td>Raipur</td>\n",
       "      <td>2 Wheeler accidents</td>\n",
       "      <td>8</td>\n",
       "      <td>4</td>\n",
       "      <td>CUR</td>\n",
       "      <td>HIW</td>\n",
       "      <td>HIL</td>\n",
       "      <td>0</td>\n",
       "      <td>3</td>\n",
       "      <td>2012-05-19</td>\n",
       "      <td>Saturday</td>\n",
       "      <td>19</td>\n",
       "      <td>05</td>\n",
       "      <td>2012</td>\n",
       "    </tr>\n",
       "    <tr>\n",
       "      <th>4</th>\n",
       "      <td>16:22:17</td>\n",
       "      <td>12-06-2010</td>\n",
       "      <td>Sahaspur</td>\n",
       "      <td>2 Wheeler accidents</td>\n",
       "      <td>1</td>\n",
       "      <td>26</td>\n",
       "      <td>CUR</td>\n",
       "      <td>HIW</td>\n",
       "      <td>AGL</td>\n",
       "      <td>0</td>\n",
       "      <td>4</td>\n",
       "      <td>2010-12-06</td>\n",
       "      <td>Monday</td>\n",
       "      <td>12</td>\n",
       "      <td>06</td>\n",
       "      <td>2010</td>\n",
       "    </tr>\n",
       "  </tbody>\n",
       "</table>\n",
       "</div>"
      ],
      "text/plain": [
       "  incident_time incident_date incident_tehsil  \\\n",
       "0      22:23:19    07-11-2012          Raipur   \n",
       "1      20:23:09    02-11-2011          Raipur   \n",
       "2      20:37:15    25-07-2009          Raipur   \n",
       "3      15:20:22    19-05-2012          Raipur   \n",
       "4      16:22:17    12-06-2010        Sahaspur   \n",
       "\n",
       "                                  cause_of_emergency  base_to_scene_distance  \\\n",
       "0                        Multiple Vehicular Incident                      13   \n",
       "1                                2 Wheeler accidents                       1   \n",
       "2  Non motorised vehicle accidents(Bullock cart,B...                       2   \n",
       "3                                2 Wheeler accidents                       8   \n",
       "4                                2 Wheeler accidents                       1   \n",
       "\n",
       "   scene_to_hospital_distance roadway_feature road_type surrounding_area  \\\n",
       "0                          12             CUR       HIW              FOR   \n",
       "1                           5             CUR       HIW              AGL   \n",
       "2                           2             INT       LOC             HOSP   \n",
       "3                           4             CUR       HIW              HIL   \n",
       "4                          26             CUR       HIW              AGL   \n",
       "\n",
       "   criticality incident_time_category incident_date1 day_of_week   0   1     2  \n",
       "0            0                      5     2012-07-11   Wednesday  07  11  2012  \n",
       "1            0                      5     2011-02-11      Friday  02  11  2011  \n",
       "2            0                      5     2009-07-25    Saturday  25  07  2009  \n",
       "3            0                      3     2012-05-19    Saturday  19  05  2012  \n",
       "4            0                      4     2010-12-06      Monday  12  06  2010  "
      ]
     },
     "execution_count": 33,
     "metadata": {},
     "output_type": "execute_result"
    }
   ],
   "source": [
    "final_data.head()"
   ]
  },
  {
   "cell_type": "code",
   "execution_count": 34,
   "metadata": {},
   "outputs": [],
   "source": [
    "del final_data[\"incident_date1\"]\n",
    "del final_data[0]\n",
    "del final_data[\"incident_time\"]\n",
    "del final_data[\"incident_date\"]"
   ]
  },
  {
   "cell_type": "code",
   "execution_count": 35,
   "metadata": {
    "scrolled": true
   },
   "outputs": [
    {
     "data": {
      "text/html": [
       "<div>\n",
       "<style scoped>\n",
       "    .dataframe tbody tr th:only-of-type {\n",
       "        vertical-align: middle;\n",
       "    }\n",
       "\n",
       "    .dataframe tbody tr th {\n",
       "        vertical-align: top;\n",
       "    }\n",
       "\n",
       "    .dataframe thead th {\n",
       "        text-align: right;\n",
       "    }\n",
       "</style>\n",
       "<table border=\"1\" class=\"dataframe\">\n",
       "  <thead>\n",
       "    <tr style=\"text-align: right;\">\n",
       "      <th></th>\n",
       "      <th>incident_tehsil</th>\n",
       "      <th>cause_of_emergency</th>\n",
       "      <th>base_to_scene_distance</th>\n",
       "      <th>scene_to_hospital_distance</th>\n",
       "      <th>roadway_feature</th>\n",
       "      <th>road_type</th>\n",
       "      <th>surrounding_area</th>\n",
       "      <th>criticality</th>\n",
       "      <th>incident_time_category</th>\n",
       "      <th>day_of_week</th>\n",
       "      <th>1</th>\n",
       "      <th>2</th>\n",
       "    </tr>\n",
       "  </thead>\n",
       "  <tbody>\n",
       "    <tr>\n",
       "      <th>0</th>\n",
       "      <td>Raipur</td>\n",
       "      <td>Multiple Vehicular Incident</td>\n",
       "      <td>13</td>\n",
       "      <td>12</td>\n",
       "      <td>CUR</td>\n",
       "      <td>HIW</td>\n",
       "      <td>FOR</td>\n",
       "      <td>0</td>\n",
       "      <td>5</td>\n",
       "      <td>Wednesday</td>\n",
       "      <td>11</td>\n",
       "      <td>2012</td>\n",
       "    </tr>\n",
       "    <tr>\n",
       "      <th>1</th>\n",
       "      <td>Raipur</td>\n",
       "      <td>2 Wheeler accidents</td>\n",
       "      <td>1</td>\n",
       "      <td>5</td>\n",
       "      <td>CUR</td>\n",
       "      <td>HIW</td>\n",
       "      <td>AGL</td>\n",
       "      <td>0</td>\n",
       "      <td>5</td>\n",
       "      <td>Friday</td>\n",
       "      <td>11</td>\n",
       "      <td>2011</td>\n",
       "    </tr>\n",
       "    <tr>\n",
       "      <th>2</th>\n",
       "      <td>Raipur</td>\n",
       "      <td>Non motorised vehicle accidents(Bullock cart,B...</td>\n",
       "      <td>2</td>\n",
       "      <td>2</td>\n",
       "      <td>INT</td>\n",
       "      <td>LOC</td>\n",
       "      <td>HOSP</td>\n",
       "      <td>0</td>\n",
       "      <td>5</td>\n",
       "      <td>Saturday</td>\n",
       "      <td>07</td>\n",
       "      <td>2009</td>\n",
       "    </tr>\n",
       "    <tr>\n",
       "      <th>3</th>\n",
       "      <td>Raipur</td>\n",
       "      <td>2 Wheeler accidents</td>\n",
       "      <td>8</td>\n",
       "      <td>4</td>\n",
       "      <td>CUR</td>\n",
       "      <td>HIW</td>\n",
       "      <td>HIL</td>\n",
       "      <td>0</td>\n",
       "      <td>3</td>\n",
       "      <td>Saturday</td>\n",
       "      <td>05</td>\n",
       "      <td>2012</td>\n",
       "    </tr>\n",
       "    <tr>\n",
       "      <th>4</th>\n",
       "      <td>Sahaspur</td>\n",
       "      <td>2 Wheeler accidents</td>\n",
       "      <td>1</td>\n",
       "      <td>26</td>\n",
       "      <td>CUR</td>\n",
       "      <td>HIW</td>\n",
       "      <td>AGL</td>\n",
       "      <td>0</td>\n",
       "      <td>4</td>\n",
       "      <td>Monday</td>\n",
       "      <td>06</td>\n",
       "      <td>2010</td>\n",
       "    </tr>\n",
       "  </tbody>\n",
       "</table>\n",
       "</div>"
      ],
      "text/plain": [
       "  incident_tehsil                                 cause_of_emergency  \\\n",
       "0          Raipur                        Multiple Vehicular Incident   \n",
       "1          Raipur                                2 Wheeler accidents   \n",
       "2          Raipur  Non motorised vehicle accidents(Bullock cart,B...   \n",
       "3          Raipur                                2 Wheeler accidents   \n",
       "4        Sahaspur                                2 Wheeler accidents   \n",
       "\n",
       "   base_to_scene_distance  scene_to_hospital_distance roadway_feature  \\\n",
       "0                      13                          12             CUR   \n",
       "1                       1                           5             CUR   \n",
       "2                       2                           2             INT   \n",
       "3                       8                           4             CUR   \n",
       "4                       1                          26             CUR   \n",
       "\n",
       "  road_type surrounding_area  criticality incident_time_category day_of_week  \\\n",
       "0       HIW              FOR            0                      5   Wednesday   \n",
       "1       HIW              AGL            0                      5      Friday   \n",
       "2       LOC             HOSP            0                      5    Saturday   \n",
       "3       HIW              HIL            0                      3    Saturday   \n",
       "4       HIW              AGL            0                      4      Monday   \n",
       "\n",
       "    1     2  \n",
       "0  11  2012  \n",
       "1  11  2011  \n",
       "2  07  2009  \n",
       "3  05  2012  \n",
       "4  06  2010  "
      ]
     },
     "execution_count": 35,
     "metadata": {},
     "output_type": "execute_result"
    }
   ],
   "source": [
    "final_data.head()"
   ]
  },
  {
   "cell_type": "code",
   "execution_count": 36,
   "metadata": {
    "scrolled": false
   },
   "outputs": [
    {
     "data": {
      "text/plain": [
       "Text(0.5,1,'Days')"
      ]
     },
     "execution_count": 36,
     "metadata": {},
     "output_type": "execute_result"
    },
    {
     "data": {
      "image/png": "[encoded data removed]",
      "text/plain": [
       "<matplotlib.figure.Figure at 0x7f5f2a0b7f98>"
      ]
     },
     "metadata": {},
     "output_type": "display_data"
    }
   ],
   "source": [
    "plt.figure()\n",
    "pd.Series(final_data['day_of_week']).value_counts().plot(kind = 'bar')\n",
    "plt.xlabel(\"Category\")\n",
    "plt.ylabel(\"Count\")\n",
    "plt.title(\"Days\")"
   ]
  },
  {
   "cell_type": "code",
   "execution_count": 37,
   "metadata": {},
   "outputs": [],
   "source": [
    "#highly imbalced data -_-"
   ]
  },
  {
   "cell_type": "code",
   "execution_count": 38,
   "metadata": {},
   "outputs": [
    {
     "data": {
      "text/plain": [
       "Text(0.5,1,'Days')"
      ]
     },
     "execution_count": 38,
     "metadata": {},
     "output_type": "execute_result"
    },
    {
     "data": {
      "image/png": "[encoded data removed]",
      "text/plain": [
       "<matplotlib.figure.Figure at 0x7f5f2a0b7128>"
      ]
     },
     "metadata": {},
     "output_type": "display_data"
    }
   ],
   "source": [
    "plt.figure()\n",
    "pd.Series(final_data['criticality']).value_counts().plot(kind = 'bar')\n",
    "plt.xlabel(\"Category\")\n",
    "plt.ylabel(\"Count\")\n",
    "plt.title(\"Days\")"
   ]
  },
  {
   "cell_type": "code",
   "execution_count": 39,
   "metadata": {},
   "outputs": [],
   "source": [
    "final_data.to_csv(\"AVdata.csv\")"
   ]
  },
  {
   "cell_type": "code",
   "execution_count": 40,
   "metadata": {},
   "outputs": [],
   "source": [
    "categorical_variable=final_data.dtypes[final_data.dtypes==\"object\"].index.values"
   ]
  },
  {
   "cell_type": "code",
   "execution_count": 41,
   "metadata": {},
   "outputs": [],
   "source": [
    "from sklearn.preprocessing import LabelEncoder"
   ]
  },
  {
   "cell_type": "code",
   "execution_count": 42,
   "metadata": {},
   "outputs": [],
   "source": [
    "le=LabelEncoder()"
   ]
  },
  {
   "cell_type": "code",
   "execution_count": 43,
   "metadata": {},
   "outputs": [],
   "source": [
    "for var in categorical_variable:\n",
    "    final_data[var]=le.fit_transform(final_data[var])"
   ]
  },
  {
   "cell_type": "code",
   "execution_count": 44,
   "metadata": {},
   "outputs": [],
   "source": [
    "##categorical_variabless=test.dtypes[test.dtypes==\"object\"].index.values"
   ]
  },
  {
   "cell_type": "code",
   "execution_count": 45,
   "metadata": {},
   "outputs": [],
   "source": [
    "##for var in categorical_variabless:\n",
    "   ## test[var]=le.fit_transform(test[var])"
   ]
  },
  {
   "cell_type": "code",
   "execution_count": 46,
   "metadata": {},
   "outputs": [
    {
     "data": {
      "text/html": [
       "<div>\n",
       "<style scoped>\n",
       "    .dataframe tbody tr th:only-of-type {\n",
       "        vertical-align: middle;\n",
       "    }\n",
       "\n",
       "    .dataframe tbody tr th {\n",
       "        vertical-align: top;\n",
       "    }\n",
       "\n",
       "    .dataframe thead th {\n",
       "        text-align: right;\n",
       "    }\n",
       "</style>\n",
       "<table border=\"1\" class=\"dataframe\">\n",
       "  <thead>\n",
       "    <tr style=\"text-align: right;\">\n",
       "      <th></th>\n",
       "      <th>incident_tehsil</th>\n",
       "      <th>cause_of_emergency</th>\n",
       "      <th>base_to_scene_distance</th>\n",
       "      <th>scene_to_hospital_distance</th>\n",
       "      <th>roadway_feature</th>\n",
       "      <th>road_type</th>\n",
       "      <th>surrounding_area</th>\n",
       "      <th>criticality</th>\n",
       "      <th>incident_time_category</th>\n",
       "      <th>day_of_week</th>\n",
       "      <th>1</th>\n",
       "      <th>2</th>\n",
       "    </tr>\n",
       "  </thead>\n",
       "  <tbody>\n",
       "    <tr>\n",
       "      <th>incident_tehsil</th>\n",
       "      <td>1.000000</td>\n",
       "      <td>-0.037732</td>\n",
       "      <td>-0.018019</td>\n",
       "      <td>-0.025858</td>\n",
       "      <td>-0.039480</td>\n",
       "      <td>0.020305</td>\n",
       "      <td>0.005204</td>\n",
       "      <td>-0.027447</td>\n",
       "      <td>0.007360</td>\n",
       "      <td>-0.006433</td>\n",
       "      <td>0.083384</td>\n",
       "      <td>0.057493</td>\n",
       "    </tr>\n",
       "    <tr>\n",
       "      <th>cause_of_emergency</th>\n",
       "      <td>-0.037732</td>\n",
       "      <td>1.000000</td>\n",
       "      <td>0.155088</td>\n",
       "      <td>0.152042</td>\n",
       "      <td>0.027072</td>\n",
       "      <td>0.002524</td>\n",
       "      <td>-0.004728</td>\n",
       "      <td>0.074312</td>\n",
       "      <td>-0.096022</td>\n",
       "      <td>-0.021618</td>\n",
       "      <td>0.013362</td>\n",
       "      <td>0.009353</td>\n",
       "    </tr>\n",
       "    <tr>\n",
       "      <th>base_to_scene_distance</th>\n",
       "      <td>-0.018019</td>\n",
       "      <td>0.155088</td>\n",
       "      <td>1.000000</td>\n",
       "      <td>0.418133</td>\n",
       "      <td>0.011228</td>\n",
       "      <td>0.005839</td>\n",
       "      <td>0.012373</td>\n",
       "      <td>0.059941</td>\n",
       "      <td>-0.046795</td>\n",
       "      <td>0.007670</td>\n",
       "      <td>0.016156</td>\n",
       "      <td>-0.052821</td>\n",
       "    </tr>\n",
       "    <tr>\n",
       "      <th>scene_to_hospital_distance</th>\n",
       "      <td>-0.025858</td>\n",
       "      <td>0.152042</td>\n",
       "      <td>0.418133</td>\n",
       "      <td>1.000000</td>\n",
       "      <td>0.048947</td>\n",
       "      <td>0.023402</td>\n",
       "      <td>-0.019555</td>\n",
       "      <td>0.202170</td>\n",
       "      <td>-0.045377</td>\n",
       "      <td>0.004404</td>\n",
       "      <td>0.017083</td>\n",
       "      <td>0.048433</td>\n",
       "    </tr>\n",
       "    <tr>\n",
       "      <th>roadway_feature</th>\n",
       "      <td>-0.039480</td>\n",
       "      <td>0.027072</td>\n",
       "      <td>0.011228</td>\n",
       "      <td>0.048947</td>\n",
       "      <td>1.000000</td>\n",
       "      <td>0.482765</td>\n",
       "      <td>-0.142630</td>\n",
       "      <td>0.028033</td>\n",
       "      <td>-0.028819</td>\n",
       "      <td>0.016801</td>\n",
       "      <td>0.047009</td>\n",
       "      <td>0.393014</td>\n",
       "    </tr>\n",
       "    <tr>\n",
       "      <th>road_type</th>\n",
       "      <td>0.020305</td>\n",
       "      <td>0.002524</td>\n",
       "      <td>0.005839</td>\n",
       "      <td>0.023402</td>\n",
       "      <td>0.482765</td>\n",
       "      <td>1.000000</td>\n",
       "      <td>-0.064676</td>\n",
       "      <td>0.002184</td>\n",
       "      <td>-0.013203</td>\n",
       "      <td>0.005178</td>\n",
       "      <td>0.125277</td>\n",
       "      <td>0.208063</td>\n",
       "    </tr>\n",
       "    <tr>\n",
       "      <th>surrounding_area</th>\n",
       "      <td>0.005204</td>\n",
       "      <td>-0.004728</td>\n",
       "      <td>0.012373</td>\n",
       "      <td>-0.019555</td>\n",
       "      <td>-0.142630</td>\n",
       "      <td>-0.064676</td>\n",
       "      <td>1.000000</td>\n",
       "      <td>0.016998</td>\n",
       "      <td>0.015928</td>\n",
       "      <td>0.030272</td>\n",
       "      <td>0.170468</td>\n",
       "      <td>-0.326350</td>\n",
       "    </tr>\n",
       "    <tr>\n",
       "      <th>criticality</th>\n",
       "      <td>-0.027447</td>\n",
       "      <td>0.074312</td>\n",
       "      <td>0.059941</td>\n",
       "      <td>0.202170</td>\n",
       "      <td>0.028033</td>\n",
       "      <td>0.002184</td>\n",
       "      <td>0.016998</td>\n",
       "      <td>1.000000</td>\n",
       "      <td>-0.017009</td>\n",
       "      <td>-0.000294</td>\n",
       "      <td>0.001721</td>\n",
       "      <td>-0.050583</td>\n",
       "    </tr>\n",
       "    <tr>\n",
       "      <th>incident_time_category</th>\n",
       "      <td>0.007360</td>\n",
       "      <td>-0.096022</td>\n",
       "      <td>-0.046795</td>\n",
       "      <td>-0.045377</td>\n",
       "      <td>-0.028819</td>\n",
       "      <td>-0.013203</td>\n",
       "      <td>0.015928</td>\n",
       "      <td>-0.017009</td>\n",
       "      <td>1.000000</td>\n",
       "      <td>-0.003527</td>\n",
       "      <td>-0.003552</td>\n",
       "      <td>-0.014857</td>\n",
       "    </tr>\n",
       "    <tr>\n",
       "      <th>day_of_week</th>\n",
       "      <td>-0.006433</td>\n",
       "      <td>-0.021618</td>\n",
       "      <td>0.007670</td>\n",
       "      <td>0.004404</td>\n",
       "      <td>0.016801</td>\n",
       "      <td>0.005178</td>\n",
       "      <td>0.030272</td>\n",
       "      <td>-0.000294</td>\n",
       "      <td>-0.003527</td>\n",
       "      <td>1.000000</td>\n",
       "      <td>0.004738</td>\n",
       "      <td>-0.002321</td>\n",
       "    </tr>\n",
       "    <tr>\n",
       "      <th>1</th>\n",
       "      <td>0.083384</td>\n",
       "      <td>0.013362</td>\n",
       "      <td>0.016156</td>\n",
       "      <td>0.017083</td>\n",
       "      <td>0.047009</td>\n",
       "      <td>0.125277</td>\n",
       "      <td>0.170468</td>\n",
       "      <td>0.001721</td>\n",
       "      <td>-0.003552</td>\n",
       "      <td>0.004738</td>\n",
       "      <td>1.000000</td>\n",
       "      <td>-0.051091</td>\n",
       "    </tr>\n",
       "    <tr>\n",
       "      <th>2</th>\n",
       "      <td>0.057493</td>\n",
       "      <td>0.009353</td>\n",
       "      <td>-0.052821</td>\n",
       "      <td>0.048433</td>\n",
       "      <td>0.393014</td>\n",
       "      <td>0.208063</td>\n",
       "      <td>-0.326350</td>\n",
       "      <td>-0.050583</td>\n",
       "      <td>-0.014857</td>\n",
       "      <td>-0.002321</td>\n",
       "      <td>-0.051091</td>\n",
       "      <td>1.000000</td>\n",
       "    </tr>\n",
       "  </tbody>\n",
       "</table>\n",
       "</div>"
      ],
      "text/plain": [
       "                            incident_tehsil  cause_of_emergency  \\\n",
       "incident_tehsil                    1.000000           -0.037732   \n",
       "cause_of_emergency                -0.037732            1.000000   \n",
       "base_to_scene_distance            -0.018019            0.155088   \n",
       "scene_to_hospital_distance        -0.025858            0.152042   \n",
       "roadway_feature                   -0.039480            0.027072   \n",
       "road_type                          0.020305            0.002524   \n",
       "surrounding_area                   0.005204           -0.004728   \n",
       "criticality                       -0.027447            0.074312   \n",
       "incident_time_category             0.007360           -0.096022   \n",
       "day_of_week                       -0.006433           -0.021618   \n",
       "1                                  0.083384            0.013362   \n",
       "2                                  0.057493            0.009353   \n",
       "\n",
       "                            base_to_scene_distance  \\\n",
       "incident_tehsil                          -0.018019   \n",
       "cause_of_emergency                        0.155088   \n",
       "base_to_scene_distance                    1.000000   \n",
       "scene_to_hospital_distance                0.418133   \n",
       "roadway_feature                           0.011228   \n",
       "road_type                                 0.005839   \n",
       "surrounding_area                          0.012373   \n",
       "criticality                               0.059941   \n",
       "incident_time_category                   -0.046795   \n",
       "day_of_week                               0.007670   \n",
       "1                                         0.016156   \n",
       "2                                        -0.052821   \n",
       "\n",
       "                            scene_to_hospital_distance  roadway_feature  \\\n",
       "incident_tehsil                              -0.025858        -0.039480   \n",
       "cause_of_emergency                            0.152042         0.027072   \n",
       "base_to_scene_distance                        0.418133         0.011228   \n",
       "scene_to_hospital_distance                    1.000000         0.048947   \n",
       "roadway_feature                               0.048947         1.000000   \n",
       "road_type                                     0.023402         0.482765   \n",
       "surrounding_area                             -0.019555        -0.142630   \n",
       "criticality                                   0.202170         0.028033   \n",
       "incident_time_category                       -0.045377        -0.028819   \n",
       "day_of_week                                   0.004404         0.016801   \n",
       "1                                             0.017083         0.047009   \n",
       "2                                             0.048433         0.393014   \n",
       "\n",
       "                            road_type  surrounding_area  criticality  \\\n",
       "incident_tehsil              0.020305          0.005204    -0.027447   \n",
       "cause_of_emergency           0.002524         -0.004728     0.074312   \n",
       "base_to_scene_distance       0.005839          0.012373     0.059941   \n",
       "scene_to_hospital_distance   0.023402         -0.019555     0.202170   \n",
       "roadway_feature              0.482765         -0.142630     0.028033   \n",
       "road_type                    1.000000         -0.064676     0.002184   \n",
       "surrounding_area            -0.064676          1.000000     0.016998   \n",
       "criticality                  0.002184          0.016998     1.000000   \n",
       "incident_time_category      -0.013203          0.015928    -0.017009   \n",
       "day_of_week                  0.005178          0.030272    -0.000294   \n",
       "1                            0.125277          0.170468     0.001721   \n",
       "2                            0.208063         -0.326350    -0.050583   \n",
       "\n",
       "                            incident_time_category  day_of_week         1  \\\n",
       "incident_tehsil                           0.007360    -0.006433  0.083384   \n",
       "cause_of_emergency                       -0.096022    -0.021618  0.013362   \n",
       "base_to_scene_distance                   -0.046795     0.007670  0.016156   \n",
       "scene_to_hospital_distance               -0.045377     0.004404  0.017083   \n",
       "roadway_feature                          -0.028819     0.016801  0.047009   \n",
       "road_type                                -0.013203     0.005178  0.125277   \n",
       "surrounding_area                          0.015928     0.030272  0.170468   \n",
       "criticality                              -0.017009    -0.000294  0.001721   \n",
       "incident_time_category                    1.000000    -0.003527 -0.003552   \n",
       "day_of_week                              -0.003527     1.000000  0.004738   \n",
       "1                                        -0.003552     0.004738  1.000000   \n",
       "2                                        -0.014857    -0.002321 -0.051091   \n",
       "\n",
       "                                   2  \n",
       "incident_tehsil             0.057493  \n",
       "cause_of_emergency          0.009353  \n",
       "base_to_scene_distance     -0.052821  \n",
       "scene_to_hospital_distance  0.048433  \n",
       "roadway_feature             0.393014  \n",
       "road_type                   0.208063  \n",
       "surrounding_area           -0.326350  \n",
       "criticality                -0.050583  \n",
       "incident_time_category     -0.014857  \n",
       "day_of_week                -0.002321  \n",
       "1                          -0.051091  \n",
       "2                           1.000000  "
      ]
     },
     "execution_count": 46,
     "metadata": {},
     "output_type": "execute_result"
    }
   ],
   "source": [
    "final_data.corr()"
   ]
  },
  {
   "cell_type": "code",
   "execution_count": 47,
   "metadata": {
    "scrolled": true
   },
   "outputs": [
    {
     "data": {
      "text/html": [
       "<div>\n",
       "<style scoped>\n",
       "    .dataframe tbody tr th:only-of-type {\n",
       "        vertical-align: middle;\n",
       "    }\n",
       "\n",
       "    .dataframe tbody tr th {\n",
       "        vertical-align: top;\n",
       "    }\n",
       "\n",
       "    .dataframe thead th {\n",
       "        text-align: right;\n",
       "    }\n",
       "</style>\n",
       "<table border=\"1\" class=\"dataframe\">\n",
       "  <thead>\n",
       "    <tr style=\"text-align: right;\">\n",
       "      <th></th>\n",
       "      <th>incident_tehsil</th>\n",
       "      <th>cause_of_emergency</th>\n",
       "      <th>base_to_scene_distance</th>\n",
       "      <th>scene_to_hospital_distance</th>\n",
       "      <th>roadway_feature</th>\n",
       "      <th>road_type</th>\n",
       "      <th>surrounding_area</th>\n",
       "      <th>criticality</th>\n",
       "      <th>incident_time_category</th>\n",
       "      <th>day_of_week</th>\n",
       "      <th>1</th>\n",
       "      <th>2</th>\n",
       "    </tr>\n",
       "  </thead>\n",
       "  <tbody>\n",
       "    <tr>\n",
       "      <th>0</th>\n",
       "      <td>4</td>\n",
       "      <td>9</td>\n",
       "      <td>13</td>\n",
       "      <td>12</td>\n",
       "      <td>0</td>\n",
       "      <td>0</td>\n",
       "      <td>2</td>\n",
       "      <td>0</td>\n",
       "      <td>5</td>\n",
       "      <td>6</td>\n",
       "      <td>10</td>\n",
       "      <td>3</td>\n",
       "    </tr>\n",
       "    <tr>\n",
       "      <th>1</th>\n",
       "      <td>4</td>\n",
       "      <td>0</td>\n",
       "      <td>1</td>\n",
       "      <td>5</td>\n",
       "      <td>0</td>\n",
       "      <td>0</td>\n",
       "      <td>0</td>\n",
       "      <td>0</td>\n",
       "      <td>5</td>\n",
       "      <td>0</td>\n",
       "      <td>10</td>\n",
       "      <td>2</td>\n",
       "    </tr>\n",
       "    <tr>\n",
       "      <th>2</th>\n",
       "      <td>4</td>\n",
       "      <td>10</td>\n",
       "      <td>2</td>\n",
       "      <td>2</td>\n",
       "      <td>1</td>\n",
       "      <td>1</td>\n",
       "      <td>4</td>\n",
       "      <td>0</td>\n",
       "      <td>5</td>\n",
       "      <td>2</td>\n",
       "      <td>6</td>\n",
       "      <td>0</td>\n",
       "    </tr>\n",
       "    <tr>\n",
       "      <th>3</th>\n",
       "      <td>4</td>\n",
       "      <td>0</td>\n",
       "      <td>8</td>\n",
       "      <td>4</td>\n",
       "      <td>0</td>\n",
       "      <td>0</td>\n",
       "      <td>3</td>\n",
       "      <td>0</td>\n",
       "      <td>3</td>\n",
       "      <td>2</td>\n",
       "      <td>4</td>\n",
       "      <td>3</td>\n",
       "    </tr>\n",
       "    <tr>\n",
       "      <th>4</th>\n",
       "      <td>5</td>\n",
       "      <td>0</td>\n",
       "      <td>1</td>\n",
       "      <td>26</td>\n",
       "      <td>0</td>\n",
       "      <td>0</td>\n",
       "      <td>0</td>\n",
       "      <td>0</td>\n",
       "      <td>4</td>\n",
       "      <td>1</td>\n",
       "      <td>5</td>\n",
       "      <td>1</td>\n",
       "    </tr>\n",
       "  </tbody>\n",
       "</table>\n",
       "</div>"
      ],
      "text/plain": [
       "   incident_tehsil  cause_of_emergency  base_to_scene_distance  \\\n",
       "0                4                   9                      13   \n",
       "1                4                   0                       1   \n",
       "2                4                  10                       2   \n",
       "3                4                   0                       8   \n",
       "4                5                   0                       1   \n",
       "\n",
       "   scene_to_hospital_distance  roadway_feature  road_type  surrounding_area  \\\n",
       "0                          12                0          0                 2   \n",
       "1                           5                0          0                 0   \n",
       "2                           2                1          1                 4   \n",
       "3                           4                0          0                 3   \n",
       "4                          26                0          0                 0   \n",
       "\n",
       "   criticality  incident_time_category  day_of_week   1  2  \n",
       "0            0                       5            6  10  3  \n",
       "1            0                       5            0  10  2  \n",
       "2            0                       5            2   6  0  \n",
       "3            0                       3            2   4  3  \n",
       "4            0                       4            1   5  1  "
      ]
     },
     "execution_count": 47,
     "metadata": {},
     "output_type": "execute_result"
    }
   ],
   "source": [
    "final_data.head()"
   ]
  },
  {
   "cell_type": "code",
   "execution_count": 48,
   "metadata": {
    "scrolled": true
   },
   "outputs": [
    {
     "data": {
      "text/plain": [
       "<matplotlib.axes._subplots.AxesSubplot at 0x7f5f29bc1c88>"
      ]
     },
     "execution_count": 48,
     "metadata": {},
     "output_type": "execute_result"
    },
    {
     "data": {
      "image/png": "[encoded data removed]",
      "text/plain": [
       "<matplotlib.figure.Figure at 0x7f5f29bc1400>"
      ]
     },
     "metadata": {},
     "output_type": "display_data"
    }
   ],
   "source": [
    "final_data.boxplot(\"base_to_scene_distance\")"
   ]
  },
  {
   "cell_type": "code",
   "execution_count": 49,
   "metadata": {},
   "outputs": [
    {
     "data": {
      "text/plain": [
       "array([[<matplotlib.axes._subplots.AxesSubplot object at 0x7f5f29b80860>]],\n",
       "      dtype=object)"
      ]
     },
     "execution_count": 49,
     "metadata": {},
     "output_type": "execute_result"
    },
    {
     "data": {
      "image/png": "[encoded data removed]",
      "text/plain": [
       "<matplotlib.figure.Figure at 0x7f5f29bd6cf8>"
      ]
     },
     "metadata": {},
     "output_type": "display_data"
    }
   ],
   "source": [
    "final_data.hist(\"road_type\")"
   ]
  },
  {
   "cell_type": "code",
   "execution_count": 50,
   "metadata": {
    "scrolled": false
   },
   "outputs": [
    {
     "data": {
      "text/plain": [
       "array([[<matplotlib.axes._subplots.AxesSubplot object at 0x7f5f29bb2358>]],\n",
       "      dtype=object)"
      ]
     },
     "execution_count": 50,
     "metadata": {},
     "output_type": "execute_result"
    },
    {
     "data": {
      "image/png": "[encoded data removed]",
      "text/plain": [
       "<matplotlib.figure.Figure at 0x7f5f29b464e0>"
      ]
     },
     "metadata": {},
     "output_type": "display_data"
    }
   ],
   "source": [
    "final_data.hist(\"roadway_feature\")"
   ]
  },
  {
   "cell_type": "code",
   "execution_count": 51,
   "metadata": {},
   "outputs": [
    {
     "data": {
      "image/png": "[encoded data removed]",
      "text/plain": [
       "<matplotlib.figure.Figure at 0x7f5f29abcac8>"
      ]
     },
     "metadata": {},
     "output_type": "display_data"
    }
   ],
   "source": [
    "final_data.iloc[30].plot(kind='bar');"
   ]
  },
  {
   "cell_type": "code",
   "execution_count": 52,
   "metadata": {},
   "outputs": [
    {
     "data": {
      "image/png": "[encoded data removed]",
      "text/plain": [
       "<matplotlib.figure.Figure at 0x7f5f21054208>"
      ]
     },
     "metadata": {},
     "output_type": "display_data"
    }
   ],
   "source": [
    "final_data.iloc[5].plot(kind='bar');"
   ]
  },
  {
   "cell_type": "code",
   "execution_count": 53,
   "metadata": {},
   "outputs": [],
   "source": [
    "dependent_variable=\"criticality\"\n",
    "independent_variale=[x for x in final_data.columns if x not in [\"criticality\"]]"
   ]
  },
  {
   "cell_type": "code",
   "execution_count": 54,
   "metadata": {},
   "outputs": [],
   "source": [
    "from sklearn.model_selection import train_test_split"
   ]
  },
  {
   "cell_type": "code",
   "execution_count": 55,
   "metadata": {},
   "outputs": [],
   "source": [
    "X_train, X_test, y_train, y_test=train_test_split(final_data[independent_variale],final_data[dependent_variable],test_size=.1)"
   ]
  },
  {
   "cell_type": "code",
   "execution_count": 56,
   "metadata": {},
   "outputs": [],
   "source": [
    "from imblearn.over_sampling import SMOTE"
   ]
  },
  {
   "cell_type": "code",
   "execution_count": 57,
   "metadata": {},
   "outputs": [],
   "source": [
    "sm = SMOTE(kind='regular')\n",
    "X_res, y_res = sm.fit_sample(X_train,y_train)"
   ]
  },
  {
   "cell_type": "code",
   "execution_count": 58,
   "metadata": {
    "scrolled": true
   },
   "outputs": [
    {
     "data": {
      "text/plain": [
       "array([[ 2.        ,  0.        ,  2.        , ...,  4.        ,\n",
       "        11.        ,  0.        ],\n",
       "       [ 5.        ,  8.        , 10.        , ...,  2.        ,\n",
       "         6.        ,  4.        ],\n",
       "       [ 2.        ,  0.        ,  5.        , ...,  1.        ,\n",
       "        11.        ,  3.        ],\n",
       "       ...,\n",
       "       [ 2.        ,  7.60392684, 14.76732114, ...,  2.53464228,\n",
       "         0.76732114,  0.        ],\n",
       "       [ 4.474573  , 12.        , 22.89829201, ...,  1.949146  ,\n",
       "         1.89829201,  0.        ],\n",
       "       [ 1.20585919,  3.20585919,  2.79414081, ...,  1.20585919,\n",
       "         0.61757756,  0.41171837]])"
      ]
     },
     "execution_count": 58,
     "metadata": {},
     "output_type": "execute_result"
    }
   ],
   "source": [
    "X_res"
   ]
  },
  {
   "cell_type": "code",
   "execution_count": 59,
   "metadata": {},
   "outputs": [],
   "source": [
    "balanced_data=pd.DataFrame(X_res)"
   ]
  },
  {
   "cell_type": "code",
   "execution_count": 60,
   "metadata": {
    "scrolled": true
   },
   "outputs": [
    {
     "data": {
      "text/html": [
       "<div>\n",
       "<style scoped>\n",
       "    .dataframe tbody tr th:only-of-type {\n",
       "        vertical-align: middle;\n",
       "    }\n",
       "\n",
       "    .dataframe tbody tr th {\n",
       "        vertical-align: top;\n",
       "    }\n",
       "\n",
       "    .dataframe thead th {\n",
       "        text-align: right;\n",
       "    }\n",
       "</style>\n",
       "<table border=\"1\" class=\"dataframe\">\n",
       "  <thead>\n",
       "    <tr style=\"text-align: right;\">\n",
       "      <th></th>\n",
       "      <th>0</th>\n",
       "      <th>1</th>\n",
       "      <th>2</th>\n",
       "      <th>3</th>\n",
       "      <th>4</th>\n",
       "      <th>5</th>\n",
       "      <th>6</th>\n",
       "      <th>7</th>\n",
       "      <th>8</th>\n",
       "      <th>9</th>\n",
       "      <th>10</th>\n",
       "    </tr>\n",
       "  </thead>\n",
       "  <tbody>\n",
       "    <tr>\n",
       "      <th>0</th>\n",
       "      <td>2.0</td>\n",
       "      <td>0.0</td>\n",
       "      <td>2.0</td>\n",
       "      <td>9.0</td>\n",
       "      <td>1.0</td>\n",
       "      <td>1.0</td>\n",
       "      <td>4.0</td>\n",
       "      <td>5.0</td>\n",
       "      <td>4.0</td>\n",
       "      <td>11.0</td>\n",
       "      <td>0.0</td>\n",
       "    </tr>\n",
       "    <tr>\n",
       "      <th>1</th>\n",
       "      <td>5.0</td>\n",
       "      <td>8.0</td>\n",
       "      <td>10.0</td>\n",
       "      <td>0.0</td>\n",
       "      <td>1.0</td>\n",
       "      <td>0.0</td>\n",
       "      <td>5.0</td>\n",
       "      <td>5.0</td>\n",
       "      <td>2.0</td>\n",
       "      <td>6.0</td>\n",
       "      <td>4.0</td>\n",
       "    </tr>\n",
       "    <tr>\n",
       "      <th>2</th>\n",
       "      <td>2.0</td>\n",
       "      <td>0.0</td>\n",
       "      <td>5.0</td>\n",
       "      <td>4.0</td>\n",
       "      <td>0.0</td>\n",
       "      <td>0.0</td>\n",
       "      <td>0.0</td>\n",
       "      <td>3.0</td>\n",
       "      <td>1.0</td>\n",
       "      <td>11.0</td>\n",
       "      <td>3.0</td>\n",
       "    </tr>\n",
       "    <tr>\n",
       "      <th>3</th>\n",
       "      <td>5.0</td>\n",
       "      <td>4.0</td>\n",
       "      <td>9.0</td>\n",
       "      <td>23.0</td>\n",
       "      <td>4.0</td>\n",
       "      <td>1.0</td>\n",
       "      <td>0.0</td>\n",
       "      <td>3.0</td>\n",
       "      <td>1.0</td>\n",
       "      <td>9.0</td>\n",
       "      <td>5.0</td>\n",
       "    </tr>\n",
       "    <tr>\n",
       "      <th>4</th>\n",
       "      <td>2.0</td>\n",
       "      <td>9.0</td>\n",
       "      <td>5.0</td>\n",
       "      <td>3.0</td>\n",
       "      <td>0.0</td>\n",
       "      <td>0.0</td>\n",
       "      <td>0.0</td>\n",
       "      <td>1.0</td>\n",
       "      <td>2.0</td>\n",
       "      <td>9.0</td>\n",
       "      <td>2.0</td>\n",
       "    </tr>\n",
       "  </tbody>\n",
       "</table>\n",
       "</div>"
      ],
      "text/plain": [
       "    0    1     2     3    4    5    6    7    8     9    10\n",
       "0  2.0  0.0   2.0   9.0  1.0  1.0  4.0  5.0  4.0  11.0  0.0\n",
       "1  5.0  8.0  10.0   0.0  1.0  0.0  5.0  5.0  2.0   6.0  4.0\n",
       "2  2.0  0.0   5.0   4.0  0.0  0.0  0.0  3.0  1.0  11.0  3.0\n",
       "3  5.0  4.0   9.0  23.0  4.0  1.0  0.0  3.0  1.0   9.0  5.0\n",
       "4  2.0  9.0   5.0   3.0  0.0  0.0  0.0  1.0  2.0   9.0  2.0"
      ]
     },
     "execution_count": 60,
     "metadata": {},
     "output_type": "execute_result"
    }
   ],
   "source": [
    "balanced_data.head()"
   ]
  },
  {
   "cell_type": "code",
   "execution_count": 61,
   "metadata": {},
   "outputs": [],
   "source": [
    "dependent=pd.DataFrame(y_res)"
   ]
  },
  {
   "cell_type": "code",
   "execution_count": 62,
   "metadata": {
    "scrolled": true
   },
   "outputs": [
    {
     "data": {
      "text/html": [
       "<div>\n",
       "<style scoped>\n",
       "    .dataframe tbody tr th:only-of-type {\n",
       "        vertical-align: middle;\n",
       "    }\n",
       "\n",
       "    .dataframe tbody tr th {\n",
       "        vertical-align: top;\n",
       "    }\n",
       "\n",
       "    .dataframe thead th {\n",
       "        text-align: right;\n",
       "    }\n",
       "</style>\n",
       "<table border=\"1\" class=\"dataframe\">\n",
       "  <thead>\n",
       "    <tr style=\"text-align: right;\">\n",
       "      <th></th>\n",
       "      <th>0</th>\n",
       "    </tr>\n",
       "  </thead>\n",
       "  <tbody>\n",
       "    <tr>\n",
       "      <th>0</th>\n",
       "      <td>0</td>\n",
       "    </tr>\n",
       "    <tr>\n",
       "      <th>1</th>\n",
       "      <td>0</td>\n",
       "    </tr>\n",
       "    <tr>\n",
       "      <th>2</th>\n",
       "      <td>0</td>\n",
       "    </tr>\n",
       "    <tr>\n",
       "      <th>3</th>\n",
       "      <td>0</td>\n",
       "    </tr>\n",
       "    <tr>\n",
       "      <th>4</th>\n",
       "      <td>0</td>\n",
       "    </tr>\n",
       "  </tbody>\n",
       "</table>\n",
       "</div>"
      ],
      "text/plain": [
       "   0\n",
       "0  0\n",
       "1  0\n",
       "2  0\n",
       "3  0\n",
       "4  0"
      ]
     },
     "execution_count": 62,
     "metadata": {},
     "output_type": "execute_result"
    }
   ],
   "source": [
    "dependent.head()"
   ]
  },
  {
   "cell_type": "code",
   "execution_count": 63,
   "metadata": {},
   "outputs": [],
   "source": [
    "balanced_data=balanced_data.rename(columns={0:'incident_tehsil', 1:'cause_of_emergency',2:'base_to_scene_distance',3:'scene_to_hospital_distance',4:'roadway_feature',5:'road_type',6:'surrounding_area',7:'incident_time_category',8 :'day_of_week',9 :'1',10:'2'})"
   ]
  },
  {
   "cell_type": "code",
   "execution_count": 64,
   "metadata": {
    "scrolled": true
   },
   "outputs": [
    {
     "data": {
      "text/html": [
       "<div>\n",
       "<style scoped>\n",
       "    .dataframe tbody tr th:only-of-type {\n",
       "        vertical-align: middle;\n",
       "    }\n",
       "\n",
       "    .dataframe tbody tr th {\n",
       "        vertical-align: top;\n",
       "    }\n",
       "\n",
       "    .dataframe thead th {\n",
       "        text-align: right;\n",
       "    }\n",
       "</style>\n",
       "<table border=\"1\" class=\"dataframe\">\n",
       "  <thead>\n",
       "    <tr style=\"text-align: right;\">\n",
       "      <th></th>\n",
       "      <th>incident_tehsil</th>\n",
       "      <th>cause_of_emergency</th>\n",
       "      <th>base_to_scene_distance</th>\n",
       "      <th>scene_to_hospital_distance</th>\n",
       "      <th>roadway_feature</th>\n",
       "      <th>road_type</th>\n",
       "      <th>surrounding_area</th>\n",
       "      <th>incident_time_category</th>\n",
       "      <th>day_of_week</th>\n",
       "      <th>1</th>\n",
       "      <th>2</th>\n",
       "    </tr>\n",
       "  </thead>\n",
       "  <tbody>\n",
       "    <tr>\n",
       "      <th>0</th>\n",
       "      <td>2.0</td>\n",
       "      <td>0.0</td>\n",
       "      <td>2.0</td>\n",
       "      <td>9.0</td>\n",
       "      <td>1.0</td>\n",
       "      <td>1.0</td>\n",
       "      <td>4.0</td>\n",
       "      <td>5.0</td>\n",
       "      <td>4.0</td>\n",
       "      <td>11.0</td>\n",
       "      <td>0.0</td>\n",
       "    </tr>\n",
       "    <tr>\n",
       "      <th>1</th>\n",
       "      <td>5.0</td>\n",
       "      <td>8.0</td>\n",
       "      <td>10.0</td>\n",
       "      <td>0.0</td>\n",
       "      <td>1.0</td>\n",
       "      <td>0.0</td>\n",
       "      <td>5.0</td>\n",
       "      <td>5.0</td>\n",
       "      <td>2.0</td>\n",
       "      <td>6.0</td>\n",
       "      <td>4.0</td>\n",
       "    </tr>\n",
       "    <tr>\n",
       "      <th>2</th>\n",
       "      <td>2.0</td>\n",
       "      <td>0.0</td>\n",
       "      <td>5.0</td>\n",
       "      <td>4.0</td>\n",
       "      <td>0.0</td>\n",
       "      <td>0.0</td>\n",
       "      <td>0.0</td>\n",
       "      <td>3.0</td>\n",
       "      <td>1.0</td>\n",
       "      <td>11.0</td>\n",
       "      <td>3.0</td>\n",
       "    </tr>\n",
       "    <tr>\n",
       "      <th>3</th>\n",
       "      <td>5.0</td>\n",
       "      <td>4.0</td>\n",
       "      <td>9.0</td>\n",
       "      <td>23.0</td>\n",
       "      <td>4.0</td>\n",
       "      <td>1.0</td>\n",
       "      <td>0.0</td>\n",
       "      <td>3.0</td>\n",
       "      <td>1.0</td>\n",
       "      <td>9.0</td>\n",
       "      <td>5.0</td>\n",
       "    </tr>\n",
       "    <tr>\n",
       "      <th>4</th>\n",
       "      <td>2.0</td>\n",
       "      <td>9.0</td>\n",
       "      <td>5.0</td>\n",
       "      <td>3.0</td>\n",
       "      <td>0.0</td>\n",
       "      <td>0.0</td>\n",
       "      <td>0.0</td>\n",
       "      <td>1.0</td>\n",
       "      <td>2.0</td>\n",
       "      <td>9.0</td>\n",
       "      <td>2.0</td>\n",
       "    </tr>\n",
       "  </tbody>\n",
       "</table>\n",
       "</div>"
      ],
      "text/plain": [
       "   incident_tehsil  cause_of_emergency  base_to_scene_distance  \\\n",
       "0              2.0                 0.0                     2.0   \n",
       "1              5.0                 8.0                    10.0   \n",
       "2              2.0                 0.0                     5.0   \n",
       "3              5.0                 4.0                     9.0   \n",
       "4              2.0                 9.0                     5.0   \n",
       "\n",
       "   scene_to_hospital_distance  roadway_feature  road_type  surrounding_area  \\\n",
       "0                         9.0              1.0        1.0               4.0   \n",
       "1                         0.0              1.0        0.0               5.0   \n",
       "2                         4.0              0.0        0.0               0.0   \n",
       "3                        23.0              4.0        1.0               0.0   \n",
       "4                         3.0              0.0        0.0               0.0   \n",
       "\n",
       "   incident_time_category  day_of_week     1    2  \n",
       "0                     5.0          4.0  11.0  0.0  \n",
       "1                     5.0          2.0   6.0  4.0  \n",
       "2                     3.0          1.0  11.0  3.0  \n",
       "3                     3.0          1.0   9.0  5.0  \n",
       "4                     1.0          2.0   9.0  2.0  "
      ]
     },
     "execution_count": 64,
     "metadata": {},
     "output_type": "execute_result"
    }
   ],
   "source": [
    "features=['incident_tehsil', 'cause_of_emergency','base_to_scene_distance','scene_to_hospital_distance','roadway_feature','road_type','surrounding_area','incident_time_category','day_of_week','1','2']\n",
    "\n",
    "for var in features:\n",
    "    balanced_data[var] = balanced_data[var].round()\n",
    "balanced_data.head()"
   ]
  },
  {
   "cell_type": "code",
   "execution_count": 65,
   "metadata": {},
   "outputs": [],
   "source": [
    "dependent=dependent.round()"
   ]
  },
  {
   "cell_type": "code",
   "execution_count": 66,
   "metadata": {},
   "outputs": [],
   "source": [
    "balanced_data.to_csv(\"final_data.csv\")"
   ]
  },
  {
   "cell_type": "code",
   "execution_count": 67,
   "metadata": {},
   "outputs": [],
   "source": [
    "dependent.to_csv(\"target.csv\")"
   ]
  },
  {
   "cell_type": "code",
   "execution_count": 68,
   "metadata": {},
   "outputs": [
    {
     "data": {
      "text/plain": [
       "0    10126\n",
       "dtype: int64"
      ]
     },
     "execution_count": 68,
     "metadata": {},
     "output_type": "execute_result"
    }
   ],
   "source": [
    "dependent[dependent==0].count()"
   ]
  },
  {
   "cell_type": "code",
   "execution_count": 69,
   "metadata": {},
   "outputs": [],
   "source": [
    "from xgboost import XGBClassifier"
   ]
  },
  {
   "cell_type": "code",
   "execution_count": 70,
   "metadata": {},
   "outputs": [],
   "source": [
    "from sklearn.model_selection import GridSearchCV\n",
    "from sklearn.metrics import roc_auc_score,make_scorer"
   ]
  },
  {
   "cell_type": "code",
   "execution_count": 71,
   "metadata": {},
   "outputs": [],
   "source": [
    "params=[{'max_depth':[3,4,5,6,7,8,9,10]},{'gamma':[0,1,10,100]}]"
   ]
  },
  {
   "cell_type": "code",
   "execution_count": 72,
   "metadata": {},
   "outputs": [],
   "source": [
    "model=GridSearchCV(XGBClassifier(), params,cv=5, scoring=make_scorer(roc_auc_score))"
   ]
  },
  {
   "cell_type": "raw",
   "metadata": {
    "scrolled": true
   },
   "source": [
    "model.fit(balanced_data, dependent)"
   ]
  },
  {
   "cell_type": "code",
   "execution_count": 74,
   "metadata": {},
   "outputs": [
    {
     "name": "stderr",
     "output_type": "stream",
     "text": [
      "/home/ashiya/anaconda3/lib/python3.6/site-packages/sklearn/preprocessing/label.py:151: DeprecationWarning: The truth value of an empty array is ambiguous. Returning False, but in future this will result in an error. Use `array.size > 0` to check that an array is not empty.\n",
      "  if diff:\n"
     ]
    }
   ],
   "source": [
    "prediction_train3=model.predict(X_test)"
   ]
  },
  {
   "cell_type": "code",
   "execution_count": 75,
   "metadata": {},
   "outputs": [],
   "source": [
    "auc_roc3=roc_auc_score(y_test,prediction_train3)\n",
    "#print( auc_roc3)"
   ]
  },
  {
   "cell_type": "code",
   "execution_count": 77,
   "metadata": {},
   "outputs": [],
   "source": [
    "del test[\"incident_location\"]\n",
    "del test[\"victim_id\"]\n",
    "A=test.incident_time.str.split(':', expand=True)\n",
    "del A[1]\n",
    "del A[2]\n",
    "A.rename(columns={0:'incident_time_category'}, inplace=True)\n",
    "test1=pd.concat([test,A], axis=1)\n",
    "itemsB=[\"00\",\"01\",\"02\",\"03\"]\n",
    "for x in itemsB:\n",
    "    test1.loc[test1[\"incident_time_category\"]==x,'incident_time_category']=\"0\"\n",
    "itemsB=[\"04\",\"05\",\"06\",\"07\"]\n",
    "for x in itemsB:\n",
    "    test1.loc[test1[\"incident_time_category\"]==x,'incident_time_category']=\"1\"\n",
    "itemsB=[\"08\",\"09\",\"10\",\"11\"]\n",
    "for x in itemsB:\n",
    "    test1.loc[test1[\"incident_time_category\"]==x,'incident_time_category']=\"2\"\n",
    "itemsB=[\"12\",\"13\",\"14\",\"15\"]\n",
    "for x in itemsB:\n",
    "    test1.loc[test1[\"incident_time_category\"]==x,'incident_time_category']=\"3\"\n",
    "itemsB=[\"16\",\"17\",\"18\",\"19\"]\n",
    "for x in itemsB:\n",
    "    test1.loc[test1[\"incident_time_category\"]==x,'incident_time_category']=\"4\"\n",
    "itemsB=[\"20\",\"21\",\"22\",\"23\"]\n",
    "for x in itemsB:\n",
    "    test1.loc[test1[\"incident_time_category\"]==x,'incident_time_category']=\"5\"\n",
    "test1['incident_date1'] = pd.to_datetime(test1['incident_date'])\n",
    "test1['day_of_week'] = test1['incident_date1'].dt.weekday_name\n",
    "B=test1.incident_date.str.split('-', expand=True)\n",
    "final_test=pd.concat([test1,B] , axis=1)\n",
    "del final_test[\"incident_date1\"]\n",
    "del final_test[0]\n",
    "del final_test[\"incident_time\"]\n",
    "del final_test[\"incident_date\"]"
   ]
  },
  {
   "cell_type": "code",
   "execution_count": 78,
   "metadata": {},
   "outputs": [],
   "source": [
    "## RANDOM OVERSAMPLING"
   ]
  },
  {
   "cell_type": "code",
   "execution_count": 79,
   "metadata": {},
   "outputs": [],
   "source": [
    "from imblearn.over_sampling import RandomOverSampler"
   ]
  },
  {
   "cell_type": "code",
   "execution_count": 80,
   "metadata": {},
   "outputs": [],
   "source": [
    "ros=RandomOverSampler()"
   ]
  },
  {
   "cell_type": "code",
   "execution_count": 81,
   "metadata": {},
   "outputs": [],
   "source": [
    "X_resa, y_resa = ros.fit_sample(X_train, y_train)"
   ]
  },
  {
   "cell_type": "code",
   "execution_count": 82,
   "metadata": {},
   "outputs": [],
   "source": [
    "balanced_dataros=pd.DataFrame(X_resa)"
   ]
  },
  {
   "cell_type": "code",
   "execution_count": 83,
   "metadata": {},
   "outputs": [],
   "source": [
    "dependentros=pd.DataFrame(y_resa)"
   ]
  },
  {
   "cell_type": "code",
   "execution_count": 84,
   "metadata": {},
   "outputs": [],
   "source": [
    "balanced_dataros=balanced_dataros.rename(columns={0:'incident_tehsil', 1:'cause_of_emergency',2:'base_to_scene_distance',3:'scene_to_hospital_distance',4:'roadway_feature',5:'road_type',6:'surrounding_area',7:'incident_time_category',8 :'day_of_week',9 :'1',10:'2'})"
   ]
  },
  {
   "cell_type": "code",
   "execution_count": 85,
   "metadata": {},
   "outputs": [],
   "source": [
    "modelros=GridSearchCV(XGBClassifier(), params,cv=5, scoring=make_scorer(roc_auc_score))"
   ]
  },
  {
   "cell_type": "raw",
   "metadata": {
    "scrolled": true
   },
   "source": [
    "modelros.fit(balanced_dataros, dependentros)"
   ]
  },
  {
   "cell_type": "code",
   "execution_count": 87,
   "metadata": {},
   "outputs": [
    {
     "name": "stderr",
     "output_type": "stream",
     "text": [
      "/home/ashiya/anaconda3/lib/python3.6/site-packages/sklearn/preprocessing/label.py:151: DeprecationWarning: The truth value of an empty array is ambiguous. Returning False, but in future this will result in an error. Use `array.size > 0` to check that an array is not empty.\n",
      "  if diff:\n"
     ]
    }
   ],
   "source": [
    "prediction_trainros=modelros.predict(X_test)"
   ]
  },
  {
   "cell_type": "code",
   "execution_count": 88,
   "metadata": {},
   "outputs": [],
   "source": [
    "auc_rocros=roc_auc_score(y_test,prediction_trainros)\n",
    "#print (auc_rocros)"
   ]
  },
  {
   "cell_type": "code",
   "execution_count": 89,
   "metadata": {},
   "outputs": [],
   "source": [
    "categorical_variable=final_test.dtypes[final_test.dtypes==\"object\"].index.values\n",
    "for var in categorical_variable:\n",
    "    final_test[var]=le.fit_transform(final_test[var])"
   ]
  },
  {
   "cell_type": "code",
   "execution_count": 90,
   "metadata": {},
   "outputs": [
    {
     "name": "stderr",
     "output_type": "stream",
     "text": [
      "/home/ashiya/anaconda3/lib/python3.6/site-packages/sklearn/preprocessing/label.py:151: DeprecationWarning: The truth value of an empty array is ambiguous. Returning False, but in future this will result in an error. Use `array.size > 0` to check that an array is not empty.\n",
      "  if diff:\n"
     ]
    }
   ],
   "source": [
    "pre=model.predict(final_test)"
   ]
  },
  {
   "cell_type": "code",
   "execution_count": 91,
   "metadata": {},
   "outputs": [],
   "source": [
    "prediction=pd.DataFrame(pre)"
   ]
  },
  {
   "cell_type": "code",
   "execution_count": 92,
   "metadata": {},
   "outputs": [],
   "source": [
    "prediction.to_csv(\"predict_finale.csv\")"
   ]
  },
  {
   "cell_type": "code",
   "execution_count": 93,
   "metadata": {},
   "outputs": [],
   "source": [
    "balanced_dataros=balanced_dataros.rename(columns={0:'incident_tehsil', 1:'cause_of_emergency',2:'base_to_scene_distance',3:'scene_to_hospital_distance',4:'roadway_feature',5:'road_type',6:'surrounding_area',7:'incident_time_category',8 :'day_of_week',9 :'1',10:'2'})"
   ]
  },
  {
   "cell_type": "code",
   "execution_count": 94,
   "metadata": {},
   "outputs": [],
   "source": [
    "## Undersampling"
   ]
  },
  {
   "cell_type": "code",
   "execution_count": 95,
   "metadata": {},
   "outputs": [],
   "source": [
    "from imblearn.under_sampling import RandomUnderSampler\n"
   ]
  },
  {
   "cell_type": "code",
   "execution_count": 96,
   "metadata": {},
   "outputs": [],
   "source": [
    "rus=RandomUnderSampler()"
   ]
  },
  {
   "cell_type": "code",
   "execution_count": 97,
   "metadata": {},
   "outputs": [],
   "source": [
    "X_resu, y_resu = ros.fit_sample(X_train, y_train)"
   ]
  },
  {
   "cell_type": "code",
   "execution_count": 98,
   "metadata": {},
   "outputs": [],
   "source": [
    "balanced_datarus=pd.DataFrame(X_resu)"
   ]
  },
  {
   "cell_type": "code",
   "execution_count": 99,
   "metadata": {},
   "outputs": [],
   "source": [
    "dependentrus=pd.DataFrame(y_resu)"
   ]
  },
  {
   "cell_type": "code",
   "execution_count": 100,
   "metadata": {},
   "outputs": [],
   "source": [
    "balanced_datarus=balanced_datarus.rename(columns={0:'incident_tehsil', 1:'cause_of_emergency',2:'base_to_scene_distance',3:'scene_to_hospital_distance',4:'roadway_feature',5:'road_type',6:'surrounding_area',7:'incident_time_category',8 :'day_of_week',9 :'1',10:'2'})"
   ]
  },
  {
   "cell_type": "code",
   "execution_count": 101,
   "metadata": {},
   "outputs": [],
   "source": [
    "modelrus=GridSearchCV(XGBClassifier(), params,cv=5, scoring=make_scorer(roc_auc_score))"
   ]
  },
  {
   "cell_type": "raw",
   "metadata": {
    "scrolled": true
   },
   "source": [
    "modelrus.fit(balanced_datarus, dependentrus)"
   ]
  },
  {
   "cell_type": "code",
   "execution_count": 103,
   "metadata": {},
   "outputs": [
    {
     "name": "stderr",
     "output_type": "stream",
     "text": [
      "/home/ashiya/anaconda3/lib/python3.6/site-packages/sklearn/preprocessing/label.py:151: DeprecationWarning: The truth value of an empty array is ambiguous. Returning False, but in future this will result in an error. Use `array.size > 0` to check that an array is not empty.\n",
      "  if diff:\n"
     ]
    }
   ],
   "source": [
    "prediction_trainrus=modelrus.predict(X_test)"
   ]
  },
  {
   "cell_type": "code",
   "execution_count": 104,
   "metadata": {},
   "outputs": [],
   "source": [
    "auc_rocrus=roc_auc_score(y_test,prediction_trainrus)\n",
    "#print (auc_rocrus)"
   ]
  },
  {
   "cell_type": "code",
   "execution_count": 105,
   "metadata": {},
   "outputs": [],
   "source": [
    "params=[{'max_depth':[3,4,5,6,7,8,9,10]},{'max_features':['sqrt']}]"
   ]
  },
  {
   "cell_type": "code",
   "execution_count": 106,
   "metadata": {},
   "outputs": [],
   "source": [
    "from sklearn.tree import DecisionTreeClassifier"
   ]
  },
  {
   "cell_type": "code",
   "execution_count": 107,
   "metadata": {},
   "outputs": [],
   "source": [
    "X_train, X_test, y_train, y_test=train_test_split(final_data[independent_variale],final_data[dependent_variable],test_size=.1)"
   ]
  },
  {
   "cell_type": "code",
   "execution_count": 108,
   "metadata": {},
   "outputs": [],
   "source": [
    "clf = GridSearchCV(DecisionTreeClassifier(),params, cv=5,\n",
    "                       scoring=make_scorer(roc_auc_score))"
   ]
  },
  {
   "cell_type": "code",
   "execution_count": 109,
   "metadata": {},
   "outputs": [
    {
     "data": {
      "text/plain": [
       "GridSearchCV(cv=5, error_score='raise',\n",
       "       estimator=DecisionTreeClassifier(class_weight=None, criterion='gini', max_depth=None,\n",
       "            max_features=None, max_leaf_nodes=None,\n",
       "            min_impurity_decrease=0.0, min_impurity_split=None,\n",
       "            min_samples_leaf=1, min_samples_split=2,\n",
       "            min_weight_fraction_leaf=0.0, presort=False, random_state=None,\n",
       "            splitter='best'),\n",
       "       fit_params=None, iid=True, n_jobs=1,\n",
       "       param_grid=[{'max_depth': [3, 4, 5, 6, 7, 8, 9, 10]}, {'max_features': ['sqrt']}],\n",
       "       pre_dispatch='2*n_jobs', refit=True, return_train_score='warn',\n",
       "       scoring=make_scorer(roc_auc_score), verbose=0)"
      ]
     },
     "execution_count": 109,
     "metadata": {},
     "output_type": "execute_result"
    }
   ],
   "source": [
    "clf.fit(X_train, y_train)\n",
    "#clf.fit(balanced_datarus, dependentrus)"
   ]
  },
  {
   "cell_type": "code",
   "execution_count": 110,
   "metadata": {},
   "outputs": [],
   "source": [
    "prediction_train=clf.predict(X_test)"
   ]
  },
  {
   "cell_type": "code",
   "execution_count": 111,
   "metadata": {},
   "outputs": [],
   "source": [
    "auc_roc=roc_auc_score(y_test,prediction_train)"
   ]
  },
  {
   "cell_type": "code",
   "execution_count": 112,
   "metadata": {},
   "outputs": [
    {
     "name": "stdout",
     "output_type": "stream",
     "text": [
      "0.5195136268343815\n"
     ]
    }
   ],
   "source": [
    "print (auc_roc)"
   ]
  },
  {
   "cell_type": "code",
   "execution_count": 113,
   "metadata": {},
   "outputs": [],
   "source": [
    "params=[{'max_depth':[3,4,5,6,7,8,9,10]},{'gamma':[0,1,10,100]}]"
   ]
  },
  {
   "cell_type": "code",
   "execution_count": 114,
   "metadata": {},
   "outputs": [],
   "source": [
    "model=GridSearchCV(XGBClassifier(), params,cv=5, scoring=make_scorer(roc_auc_score))"
   ]
  },
  {
   "cell_type": "raw",
   "metadata": {},
   "source": [
    "model.fit(X_train, y_train)"
   ]
  },
  {
   "cell_type": "code",
   "execution_count": 116,
   "metadata": {},
   "outputs": [],
   "source": [
    "prediction_train2=clf.predict(X_test)"
   ]
  },
  {
   "cell_type": "code",
   "execution_count": 117,
   "metadata": {},
   "outputs": [],
   "source": [
    "auc_roc2=roc_auc_score(y_test,prediction_train)\n",
    "#print (auc_roc2)"
   ]
  }
 ],
 "metadata": {
  "kernelspec": {
   "display_name": "Python 3",
   "language": "python",
   "name": "python3"
  },
  "language_info": {
   "codemirror_mode": {
    "name": "ipython",
    "version": 3
   },
   "file_extension": ".py",
   "mimetype": "text/x-python",
   "name": "python",
   "nbconvert_exporter": "python",
   "pygments_lexer": "ipython3",
   "version": "3.6.4"
  }
 },
 "nbformat": 4,
 "nbformat_minor": 2
}
