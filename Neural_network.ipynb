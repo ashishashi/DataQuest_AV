{
 "cells": [
  {
   "cell_type": "code",
   "execution_count": 1,
   "metadata": {},
   "outputs": [],
   "source": [
    "import numpy as np\n",
    "import pandas as pd\n",
    "import matplotlib.pyplot as plt\n",
    "import warnings\n",
    "warnings.filterwarnings('ignore')\n",
    "warnings.simplefilter(\"ignore\")\n",
    "import pandas as pd"
   ]
  },
  {
   "cell_type": "code",
   "execution_count": 2,
   "metadata": {},
   "outputs": [],
   "source": [
    "data=pd.read_csv(\"AVdata.csv\")"
   ]
  },
  {
   "cell_type": "code",
   "execution_count": 3,
   "metadata": {},
   "outputs": [
    {
     "data": {
      "text/html": [
       "<div>\n",
       "<style scoped>\n",
       "    .dataframe tbody tr th:only-of-type {\n",
       "        vertical-align: middle;\n",
       "    }\n",
       "\n",
       "    .dataframe tbody tr th {\n",
       "        vertical-align: top;\n",
       "    }\n",
       "\n",
       "    .dataframe thead th {\n",
       "        text-align: right;\n",
       "    }\n",
       "</style>\n",
       "<table border=\"1\" class=\"dataframe\">\n",
       "  <thead>\n",
       "    <tr style=\"text-align: right;\">\n",
       "      <th></th>\n",
       "      <th>Unnamed: 0</th>\n",
       "      <th>incident_tehsil</th>\n",
       "      <th>cause_of_emergency</th>\n",
       "      <th>base_to_scene_distance</th>\n",
       "      <th>scene_to_hospital_distance</th>\n",
       "      <th>roadway_feature</th>\n",
       "      <th>road_type</th>\n",
       "      <th>surrounding_area</th>\n",
       "      <th>criticality</th>\n",
       "      <th>incident_time_category</th>\n",
       "      <th>day_of_week</th>\n",
       "      <th>1</th>\n",
       "      <th>2</th>\n",
       "    </tr>\n",
       "  </thead>\n",
       "  <tbody>\n",
       "    <tr>\n",
       "      <th>0</th>\n",
       "      <td>0</td>\n",
       "      <td>Raipur</td>\n",
       "      <td>Multiple Vehicular Incident</td>\n",
       "      <td>13</td>\n",
       "      <td>12</td>\n",
       "      <td>CUR</td>\n",
       "      <td>HIW</td>\n",
       "      <td>FOR</td>\n",
       "      <td>0</td>\n",
       "      <td>5</td>\n",
       "      <td>Wednesday</td>\n",
       "      <td>11</td>\n",
       "      <td>2012</td>\n",
       "    </tr>\n",
       "    <tr>\n",
       "      <th>1</th>\n",
       "      <td>1</td>\n",
       "      <td>Raipur</td>\n",
       "      <td>2 Wheeler accidents</td>\n",
       "      <td>1</td>\n",
       "      <td>5</td>\n",
       "      <td>CUR</td>\n",
       "      <td>HIW</td>\n",
       "      <td>AGL</td>\n",
       "      <td>0</td>\n",
       "      <td>5</td>\n",
       "      <td>Friday</td>\n",
       "      <td>11</td>\n",
       "      <td>2011</td>\n",
       "    </tr>\n",
       "    <tr>\n",
       "      <th>2</th>\n",
       "      <td>2</td>\n",
       "      <td>Raipur</td>\n",
       "      <td>Non motorised vehicle accidents(Bullock cart,B...</td>\n",
       "      <td>2</td>\n",
       "      <td>2</td>\n",
       "      <td>INT</td>\n",
       "      <td>LOC</td>\n",
       "      <td>HOSP</td>\n",
       "      <td>0</td>\n",
       "      <td>5</td>\n",
       "      <td>Saturday</td>\n",
       "      <td>7</td>\n",
       "      <td>2009</td>\n",
       "    </tr>\n",
       "    <tr>\n",
       "      <th>3</th>\n",
       "      <td>3</td>\n",
       "      <td>Raipur</td>\n",
       "      <td>2 Wheeler accidents</td>\n",
       "      <td>8</td>\n",
       "      <td>4</td>\n",
       "      <td>CUR</td>\n",
       "      <td>HIW</td>\n",
       "      <td>HIL</td>\n",
       "      <td>0</td>\n",
       "      <td>3</td>\n",
       "      <td>Saturday</td>\n",
       "      <td>5</td>\n",
       "      <td>2012</td>\n",
       "    </tr>\n",
       "    <tr>\n",
       "      <th>4</th>\n",
       "      <td>4</td>\n",
       "      <td>Sahaspur</td>\n",
       "      <td>2 Wheeler accidents</td>\n",
       "      <td>1</td>\n",
       "      <td>26</td>\n",
       "      <td>CUR</td>\n",
       "      <td>HIW</td>\n",
       "      <td>AGL</td>\n",
       "      <td>0</td>\n",
       "      <td>4</td>\n",
       "      <td>Monday</td>\n",
       "      <td>6</td>\n",
       "      <td>2010</td>\n",
       "    </tr>\n",
       "  </tbody>\n",
       "</table>\n",
       "</div>"
      ],
      "text/plain": [
       "   Unnamed: 0 incident_tehsil  \\\n",
       "0           0          Raipur   \n",
       "1           1          Raipur   \n",
       "2           2          Raipur   \n",
       "3           3          Raipur   \n",
       "4           4        Sahaspur   \n",
       "\n",
       "                                  cause_of_emergency  base_to_scene_distance  \\\n",
       "0                        Multiple Vehicular Incident                      13   \n",
       "1                                2 Wheeler accidents                       1   \n",
       "2  Non motorised vehicle accidents(Bullock cart,B...                       2   \n",
       "3                                2 Wheeler accidents                       8   \n",
       "4                                2 Wheeler accidents                       1   \n",
       "\n",
       "   scene_to_hospital_distance roadway_feature road_type surrounding_area  \\\n",
       "0                          12             CUR       HIW              FOR   \n",
       "1                           5             CUR       HIW              AGL   \n",
       "2                           2             INT       LOC             HOSP   \n",
       "3                           4             CUR       HIW              HIL   \n",
       "4                          26             CUR       HIW              AGL   \n",
       "\n",
       "   criticality  incident_time_category day_of_week   1     2  \n",
       "0            0                       5   Wednesday  11  2012  \n",
       "1            0                       5      Friday  11  2011  \n",
       "2            0                       5    Saturday   7  2009  \n",
       "3            0                       3    Saturday   5  2012  \n",
       "4            0                       4      Monday   6  2010  "
      ]
     },
     "execution_count": 3,
     "metadata": {},
     "output_type": "execute_result"
    }
   ],
   "source": [
    "data.head()"
   ]
  },
  {
   "cell_type": "code",
   "execution_count": 4,
   "metadata": {},
   "outputs": [
    {
     "name": "stderr",
     "output_type": "stream",
     "text": [
      "Using TensorFlow backend.\n"
     ]
    }
   ],
   "source": [
    "from keras.models import Sequential\n",
    "from keras.layers import Dense"
   ]
  },
  {
   "cell_type": "code",
   "execution_count": 5,
   "metadata": {},
   "outputs": [],
   "source": [
    "from sklearn.preprocessing import LabelEncoder\n",
    "le=LabelEncoder()"
   ]
  },
  {
   "cell_type": "code",
   "execution_count": 6,
   "metadata": {},
   "outputs": [],
   "source": [
    "for var in data:\n",
    "    data[var]=le.fit_transform(data[var])"
   ]
  },
  {
   "cell_type": "code",
   "execution_count": 7,
   "metadata": {
    "scrolled": true
   },
   "outputs": [
    {
     "data": {
      "text/html": [
       "<div>\n",
       "<style scoped>\n",
       "    .dataframe tbody tr th:only-of-type {\n",
       "        vertical-align: middle;\n",
       "    }\n",
       "\n",
       "    .dataframe tbody tr th {\n",
       "        vertical-align: top;\n",
       "    }\n",
       "\n",
       "    .dataframe thead th {\n",
       "        text-align: right;\n",
       "    }\n",
       "</style>\n",
       "<table border=\"1\" class=\"dataframe\">\n",
       "  <thead>\n",
       "    <tr style=\"text-align: right;\">\n",
       "      <th></th>\n",
       "      <th>Unnamed: 0</th>\n",
       "      <th>incident_tehsil</th>\n",
       "      <th>cause_of_emergency</th>\n",
       "      <th>base_to_scene_distance</th>\n",
       "      <th>scene_to_hospital_distance</th>\n",
       "      <th>roadway_feature</th>\n",
       "      <th>road_type</th>\n",
       "      <th>surrounding_area</th>\n",
       "      <th>criticality</th>\n",
       "      <th>incident_time_category</th>\n",
       "      <th>day_of_week</th>\n",
       "      <th>1</th>\n",
       "      <th>2</th>\n",
       "    </tr>\n",
       "  </thead>\n",
       "  <tbody>\n",
       "    <tr>\n",
       "      <th>11772</th>\n",
       "      <td>11772</td>\n",
       "      <td>4</td>\n",
       "      <td>9</td>\n",
       "      <td>3</td>\n",
       "      <td>3</td>\n",
       "      <td>0</td>\n",
       "      <td>0</td>\n",
       "      <td>3</td>\n",
       "      <td>0</td>\n",
       "      <td>5</td>\n",
       "      <td>6</td>\n",
       "      <td>5</td>\n",
       "      <td>3</td>\n",
       "    </tr>\n",
       "    <tr>\n",
       "      <th>11773</th>\n",
       "      <td>11773</td>\n",
       "      <td>4</td>\n",
       "      <td>0</td>\n",
       "      <td>0</td>\n",
       "      <td>2</td>\n",
       "      <td>0</td>\n",
       "      <td>0</td>\n",
       "      <td>0</td>\n",
       "      <td>0</td>\n",
       "      <td>0</td>\n",
       "      <td>4</td>\n",
       "      <td>2</td>\n",
       "      <td>2</td>\n",
       "    </tr>\n",
       "    <tr>\n",
       "      <th>11774</th>\n",
       "      <td>11774</td>\n",
       "      <td>5</td>\n",
       "      <td>0</td>\n",
       "      <td>24</td>\n",
       "      <td>22</td>\n",
       "      <td>1</td>\n",
       "      <td>0</td>\n",
       "      <td>4</td>\n",
       "      <td>0</td>\n",
       "      <td>5</td>\n",
       "      <td>2</td>\n",
       "      <td>6</td>\n",
       "      <td>0</td>\n",
       "    </tr>\n",
       "    <tr>\n",
       "      <th>11775</th>\n",
       "      <td>11775</td>\n",
       "      <td>2</td>\n",
       "      <td>9</td>\n",
       "      <td>7</td>\n",
       "      <td>8</td>\n",
       "      <td>4</td>\n",
       "      <td>1</td>\n",
       "      <td>0</td>\n",
       "      <td>1</td>\n",
       "      <td>1</td>\n",
       "      <td>1</td>\n",
       "      <td>5</td>\n",
       "      <td>5</td>\n",
       "    </tr>\n",
       "    <tr>\n",
       "      <th>11776</th>\n",
       "      <td>11776</td>\n",
       "      <td>4</td>\n",
       "      <td>13</td>\n",
       "      <td>7</td>\n",
       "      <td>3</td>\n",
       "      <td>1</td>\n",
       "      <td>0</td>\n",
       "      <td>5</td>\n",
       "      <td>0</td>\n",
       "      <td>4</td>\n",
       "      <td>3</td>\n",
       "      <td>4</td>\n",
       "      <td>1</td>\n",
       "    </tr>\n",
       "  </tbody>\n",
       "</table>\n",
       "</div>"
      ],
      "text/plain": [
       "       Unnamed: 0  incident_tehsil  cause_of_emergency  \\\n",
       "11772       11772                4                   9   \n",
       "11773       11773                4                   0   \n",
       "11774       11774                5                   0   \n",
       "11775       11775                2                   9   \n",
       "11776       11776                4                  13   \n",
       "\n",
       "       base_to_scene_distance  scene_to_hospital_distance  roadway_feature  \\\n",
       "11772                       3                           3                0   \n",
       "11773                       0                           2                0   \n",
       "11774                      24                          22                1   \n",
       "11775                       7                           8                4   \n",
       "11776                       7                           3                1   \n",
       "\n",
       "       road_type  surrounding_area  criticality  incident_time_category  \\\n",
       "11772          0                 3            0                       5   \n",
       "11773          0                 0            0                       0   \n",
       "11774          0                 4            0                       5   \n",
       "11775          1                 0            1                       1   \n",
       "11776          0                 5            0                       4   \n",
       "\n",
       "       day_of_week  1  2  \n",
       "11772            6  5  3  \n",
       "11773            4  2  2  \n",
       "11774            2  6  0  \n",
       "11775            1  5  5  \n",
       "11776            3  4  1  "
      ]
     },
     "execution_count": 7,
     "metadata": {},
     "output_type": "execute_result"
    }
   ],
   "source": [
    "data.tail()"
   ]
  },
  {
   "cell_type": "code",
   "execution_count": 8,
   "metadata": {},
   "outputs": [],
   "source": [
    "del data[\"Unnamed: 0\"]"
   ]
  },
  {
   "cell_type": "code",
   "execution_count": 9,
   "metadata": {
    "scrolled": false
   },
   "outputs": [],
   "source": [
    "dataset = np.genfromtxt(data, delimiter=\",\")"
   ]
  },
  {
   "cell_type": "code",
   "execution_count": 10,
   "metadata": {
    "scrolled": true
   },
   "outputs": [
    {
     "data": {
      "text/plain": [
       "array([nan, nan, nan, nan, nan, nan, nan, nan])"
      ]
     },
     "execution_count": 10,
     "metadata": {},
     "output_type": "execute_result"
    }
   ],
   "source": [
    "dataset[:8]"
   ]
  },
  {
   "cell_type": "code",
   "execution_count": 11,
   "metadata": {},
   "outputs": [],
   "source": [
    "from sklearn.model_selection import train_test_split"
   ]
  },
  {
   "cell_type": "code",
   "execution_count": 12,
   "metadata": {},
   "outputs": [],
   "source": [
    "p=data[\"criticality\"]"
   ]
  },
  {
   "cell_type": "code",
   "execution_count": 13,
   "metadata": {},
   "outputs": [],
   "source": [
    "del data[\"criticality\"]"
   ]
  },
  {
   "cell_type": "code",
   "execution_count": 14,
   "metadata": {},
   "outputs": [],
   "source": [
    "X=data"
   ]
  },
  {
   "cell_type": "code",
   "execution_count": 15,
   "metadata": {
    "scrolled": true
   },
   "outputs": [
    {
     "data": {
      "text/html": [
       "<div>\n",
       "<style scoped>\n",
       "    .dataframe tbody tr th:only-of-type {\n",
       "        vertical-align: middle;\n",
       "    }\n",
       "\n",
       "    .dataframe tbody tr th {\n",
       "        vertical-align: top;\n",
       "    }\n",
       "\n",
       "    .dataframe thead th {\n",
       "        text-align: right;\n",
       "    }\n",
       "</style>\n",
       "<table border=\"1\" class=\"dataframe\">\n",
       "  <thead>\n",
       "    <tr style=\"text-align: right;\">\n",
       "      <th></th>\n",
       "      <th>incident_tehsil</th>\n",
       "      <th>cause_of_emergency</th>\n",
       "      <th>base_to_scene_distance</th>\n",
       "      <th>scene_to_hospital_distance</th>\n",
       "      <th>roadway_feature</th>\n",
       "      <th>road_type</th>\n",
       "      <th>surrounding_area</th>\n",
       "      <th>incident_time_category</th>\n",
       "      <th>day_of_week</th>\n",
       "      <th>1</th>\n",
       "      <th>2</th>\n",
       "    </tr>\n",
       "  </thead>\n",
       "  <tbody>\n",
       "    <tr>\n",
       "      <th>0</th>\n",
       "      <td>4</td>\n",
       "      <td>9</td>\n",
       "      <td>12</td>\n",
       "      <td>12</td>\n",
       "      <td>0</td>\n",
       "      <td>0</td>\n",
       "      <td>2</td>\n",
       "      <td>5</td>\n",
       "      <td>6</td>\n",
       "      <td>10</td>\n",
       "      <td>3</td>\n",
       "    </tr>\n",
       "    <tr>\n",
       "      <th>1</th>\n",
       "      <td>4</td>\n",
       "      <td>0</td>\n",
       "      <td>0</td>\n",
       "      <td>5</td>\n",
       "      <td>0</td>\n",
       "      <td>0</td>\n",
       "      <td>0</td>\n",
       "      <td>5</td>\n",
       "      <td>0</td>\n",
       "      <td>10</td>\n",
       "      <td>2</td>\n",
       "    </tr>\n",
       "    <tr>\n",
       "      <th>2</th>\n",
       "      <td>4</td>\n",
       "      <td>10</td>\n",
       "      <td>1</td>\n",
       "      <td>2</td>\n",
       "      <td>1</td>\n",
       "      <td>1</td>\n",
       "      <td>4</td>\n",
       "      <td>5</td>\n",
       "      <td>2</td>\n",
       "      <td>6</td>\n",
       "      <td>0</td>\n",
       "    </tr>\n",
       "    <tr>\n",
       "      <th>3</th>\n",
       "      <td>4</td>\n",
       "      <td>0</td>\n",
       "      <td>7</td>\n",
       "      <td>4</td>\n",
       "      <td>0</td>\n",
       "      <td>0</td>\n",
       "      <td>3</td>\n",
       "      <td>3</td>\n",
       "      <td>2</td>\n",
       "      <td>4</td>\n",
       "      <td>3</td>\n",
       "    </tr>\n",
       "    <tr>\n",
       "      <th>4</th>\n",
       "      <td>5</td>\n",
       "      <td>0</td>\n",
       "      <td>0</td>\n",
       "      <td>26</td>\n",
       "      <td>0</td>\n",
       "      <td>0</td>\n",
       "      <td>0</td>\n",
       "      <td>4</td>\n",
       "      <td>1</td>\n",
       "      <td>5</td>\n",
       "      <td>1</td>\n",
       "    </tr>\n",
       "  </tbody>\n",
       "</table>\n",
       "</div>"
      ],
      "text/plain": [
       "   incident_tehsil  cause_of_emergency  base_to_scene_distance  \\\n",
       "0                4                   9                      12   \n",
       "1                4                   0                       0   \n",
       "2                4                  10                       1   \n",
       "3                4                   0                       7   \n",
       "4                5                   0                       0   \n",
       "\n",
       "   scene_to_hospital_distance  roadway_feature  road_type  surrounding_area  \\\n",
       "0                          12                0          0                 2   \n",
       "1                           5                0          0                 0   \n",
       "2                           2                1          1                 4   \n",
       "3                           4                0          0                 3   \n",
       "4                          26                0          0                 0   \n",
       "\n",
       "   incident_time_category  day_of_week   1  2  \n",
       "0                       5            6  10  3  \n",
       "1                       5            0  10  2  \n",
       "2                       5            2   6  0  \n",
       "3                       3            2   4  3  \n",
       "4                       4            1   5  1  "
      ]
     },
     "execution_count": 15,
     "metadata": {},
     "output_type": "execute_result"
    }
   ],
   "source": [
    "X.head()"
   ]
  },
  {
   "cell_type": "code",
   "execution_count": 16,
   "metadata": {},
   "outputs": [],
   "source": [
    "X_train, X_test, y_train, y_test = train_test_split(X,p,test_size=0.1)\n",
    "from imblearn.over_sampling import SMOTE\n",
    "sm = SMOTE(kind='borderline2',ratio={1:5000})\n",
    "X_res, y_res = sm.fit_sample(X_train,y_train)\n",
    "balanced_data=pd.DataFrame(X_res)\n",
    "dependent=pd.DataFrame(y_res)\n",
    "balanced_data=balanced_data.rename(columns={0:'incident_tehsil', 1:'cause_of_emergency',2:'base_to_scene_distance',3:'scene_to_hospital_distance',4:'roadway_feature',5:'road_type',6:'surrounding_area',7:'incident_time_category',8 :'day_of_week',9 :'1',10:'2'})\n",
    "features=['incident_tehsil', 'cause_of_emergency','base_to_scene_distance','scene_to_hospital_distance','roadway_feature','road_type','surrounding_area','incident_time_category','day_of_week','1','2']\n",
    "\n",
    "for var in features:\n",
    "    balanced_data[var] = balanced_data[var].round()\n",
    "dependent=dependent.round()"
   ]
  },
  {
   "cell_type": "code",
   "execution_count": 17,
   "metadata": {
    "scrolled": true
   },
   "outputs": [
    {
     "data": {
      "text/plain": [
       "(15129, 1)"
      ]
     },
     "execution_count": 17,
     "metadata": {},
     "output_type": "execute_result"
    }
   ],
   "source": [
    "dependent.shape"
   ]
  },
  {
   "cell_type": "code",
   "execution_count": 18,
   "metadata": {},
   "outputs": [],
   "source": [
    "X_train=balanced_data\n",
    "y_train=dependent"
   ]
  },
  {
   "cell_type": "code",
   "execution_count": 19,
   "metadata": {
    "scrolled": false
   },
   "outputs": [
    {
     "data": {
      "text/html": [
       "<div>\n",
       "<style scoped>\n",
       "    .dataframe tbody tr th:only-of-type {\n",
       "        vertical-align: middle;\n",
       "    }\n",
       "\n",
       "    .dataframe tbody tr th {\n",
       "        vertical-align: top;\n",
       "    }\n",
       "\n",
       "    .dataframe thead th {\n",
       "        text-align: right;\n",
       "    }\n",
       "</style>\n",
       "<table border=\"1\" class=\"dataframe\">\n",
       "  <thead>\n",
       "    <tr style=\"text-align: right;\">\n",
       "      <th></th>\n",
       "      <th>incident_tehsil</th>\n",
       "      <th>cause_of_emergency</th>\n",
       "      <th>base_to_scene_distance</th>\n",
       "      <th>scene_to_hospital_distance</th>\n",
       "      <th>roadway_feature</th>\n",
       "      <th>road_type</th>\n",
       "      <th>surrounding_area</th>\n",
       "      <th>incident_time_category</th>\n",
       "      <th>day_of_week</th>\n",
       "      <th>1</th>\n",
       "      <th>2</th>\n",
       "    </tr>\n",
       "  </thead>\n",
       "  <tbody>\n",
       "    <tr>\n",
       "      <th>0</th>\n",
       "      <td>6.0</td>\n",
       "      <td>0.0</td>\n",
       "      <td>0.0</td>\n",
       "      <td>1.0</td>\n",
       "      <td>3.0</td>\n",
       "      <td>0.0</td>\n",
       "      <td>0.0</td>\n",
       "      <td>3.0</td>\n",
       "      <td>5.0</td>\n",
       "      <td>2.0</td>\n",
       "      <td>0.0</td>\n",
       "    </tr>\n",
       "    <tr>\n",
       "      <th>1</th>\n",
       "      <td>4.0</td>\n",
       "      <td>0.0</td>\n",
       "      <td>6.0</td>\n",
       "      <td>3.0</td>\n",
       "      <td>0.0</td>\n",
       "      <td>1.0</td>\n",
       "      <td>3.0</td>\n",
       "      <td>4.0</td>\n",
       "      <td>0.0</td>\n",
       "      <td>3.0</td>\n",
       "      <td>3.0</td>\n",
       "    </tr>\n",
       "    <tr>\n",
       "      <th>2</th>\n",
       "      <td>4.0</td>\n",
       "      <td>0.0</td>\n",
       "      <td>0.0</td>\n",
       "      <td>6.0</td>\n",
       "      <td>0.0</td>\n",
       "      <td>0.0</td>\n",
       "      <td>0.0</td>\n",
       "      <td>1.0</td>\n",
       "      <td>2.0</td>\n",
       "      <td>9.0</td>\n",
       "      <td>2.0</td>\n",
       "    </tr>\n",
       "    <tr>\n",
       "      <th>3</th>\n",
       "      <td>4.0</td>\n",
       "      <td>0.0</td>\n",
       "      <td>5.0</td>\n",
       "      <td>9.0</td>\n",
       "      <td>0.0</td>\n",
       "      <td>0.0</td>\n",
       "      <td>0.0</td>\n",
       "      <td>2.0</td>\n",
       "      <td>5.0</td>\n",
       "      <td>11.0</td>\n",
       "      <td>2.0</td>\n",
       "    </tr>\n",
       "    <tr>\n",
       "      <th>4</th>\n",
       "      <td>5.0</td>\n",
       "      <td>0.0</td>\n",
       "      <td>10.0</td>\n",
       "      <td>15.0</td>\n",
       "      <td>4.0</td>\n",
       "      <td>1.0</td>\n",
       "      <td>0.0</td>\n",
       "      <td>5.0</td>\n",
       "      <td>2.0</td>\n",
       "      <td>6.0</td>\n",
       "      <td>5.0</td>\n",
       "    </tr>\n",
       "  </tbody>\n",
       "</table>\n",
       "</div>"
      ],
      "text/plain": [
       "   incident_tehsil  cause_of_emergency  base_to_scene_distance  \\\n",
       "0              6.0                 0.0                     0.0   \n",
       "1              4.0                 0.0                     6.0   \n",
       "2              4.0                 0.0                     0.0   \n",
       "3              4.0                 0.0                     5.0   \n",
       "4              5.0                 0.0                    10.0   \n",
       "\n",
       "   scene_to_hospital_distance  roadway_feature  road_type  surrounding_area  \\\n",
       "0                         1.0              3.0        0.0               0.0   \n",
       "1                         3.0              0.0        1.0               3.0   \n",
       "2                         6.0              0.0        0.0               0.0   \n",
       "3                         9.0              0.0        0.0               0.0   \n",
       "4                        15.0              4.0        1.0               0.0   \n",
       "\n",
       "   incident_time_category  day_of_week     1    2  \n",
       "0                     3.0          5.0   2.0  0.0  \n",
       "1                     4.0          0.0   3.0  3.0  \n",
       "2                     1.0          2.0   9.0  2.0  \n",
       "3                     2.0          5.0  11.0  2.0  \n",
       "4                     5.0          2.0   6.0  5.0  "
      ]
     },
     "execution_count": 19,
     "metadata": {},
     "output_type": "execute_result"
    }
   ],
   "source": [
    "X_train.head()"
   ]
  },
  {
   "cell_type": "code",
   "execution_count": 20,
   "metadata": {},
   "outputs": [],
   "source": [
    "from keras.layers import Dropout"
   ]
  },
  {
   "cell_type": "code",
   "execution_count": 21,
   "metadata": {
    "scrolled": false
   },
   "outputs": [],
   "source": [
    "model = Sequential()\n",
    "model.add(Dense(units = 11, activation = 'relu', input_dim = 11))\n",
    "model.add(Dense(units = 16,activation = 'relu'))\n",
    "#model.add(Dropout(0.3))\n",
    "model.add(Dense(units = 8,activation = 'relu'))\n",
    "model.add(Dense(units =1 ,activation = 'sigmoid'))"
   ]
  },
  {
   "cell_type": "code",
   "execution_count": 22,
   "metadata": {
    "scrolled": false
   },
   "outputs": [
    {
     "name": "stdout",
     "output_type": "stream",
     "text": [
      "_________________________________________________________________\n",
      "Layer (type)                 Output Shape              Param #   \n",
      "=================================================================\n",
      "dense_1 (Dense)              (None, 11)                132       \n",
      "_________________________________________________________________\n",
      "dense_2 (Dense)              (None, 16)                192       \n",
      "_________________________________________________________________\n",
      "dense_3 (Dense)              (None, 8)                 136       \n",
      "_________________________________________________________________\n",
      "dense_4 (Dense)              (None, 1)                 9         \n",
      "=================================================================\n",
      "Total params: 469\n",
      "Trainable params: 469\n",
      "Non-trainable params: 0\n",
      "_________________________________________________________________\n"
     ]
    }
   ],
   "source": [
    "model.summary()"
   ]
  },
  {
   "cell_type": "code",
   "execution_count": 23,
   "metadata": {},
   "outputs": [],
   "source": [
    "y_train=pd.DataFrame(y_train)"
   ]
  },
  {
   "cell_type": "code",
   "execution_count": 24,
   "metadata": {},
   "outputs": [
    {
     "data": {
      "text/plain": [
       "(15129, 1)"
      ]
     },
     "execution_count": 24,
     "metadata": {},
     "output_type": "execute_result"
    }
   ],
   "source": [
    "np.array(y_train).shape"
   ]
  },
  {
   "cell_type": "code",
   "execution_count": 25,
   "metadata": {
    "scrolled": false
   },
   "outputs": [
    {
     "name": "stdout",
     "output_type": "stream",
     "text": [
      "Epoch 1/5\n",
      "15129/15129 [==============================] - 1s 71us/step - loss: 0.5244 - acc: 0.7404\n",
      "Epoch 2/5\n",
      "15129/15129 [==============================] - 1s 40us/step - loss: 0.4539 - acc: 0.7847\n",
      "Epoch 3/5\n",
      "15129/15129 [==============================] - 1s 42us/step - loss: 0.4433 - acc: 0.7933\n",
      "Epoch 4/5\n",
      "15129/15129 [==============================] - 1s 42us/step - loss: 0.4367 - acc: 0.7958\n",
      "Epoch 5/5\n",
      "15129/15129 [==============================] - 1s 48us/step - loss: 0.4298 - acc: 0.7989\n"
     ]
    },
    {
     "data": {
      "text/plain": [
       "<keras.callbacks.History at 0x7f803c66df60>"
      ]
     },
     "execution_count": 25,
     "metadata": {},
     "output_type": "execute_result"
    }
   ],
   "source": [
    "model.compile(optimizer = 'adam', loss = 'binary_crossentropy', metrics = ['accuracy'])\n",
    "\n",
    "\n",
    "model.fit(np.array(X_train), np.array(y_train), batch_size = 32, epochs = 5)"
   ]
  },
  {
   "cell_type": "code",
   "execution_count": 26,
   "metadata": {},
   "outputs": [],
   "source": [
    "z=model.predict(X_test)"
   ]
  },
  {
   "cell_type": "code",
   "execution_count": 27,
   "metadata": {
    "scrolled": false
   },
   "outputs": [
    {
     "data": {
      "text/plain": [
       "array([[0.00203022],\n",
       "       [0.06228853],\n",
       "       [0.14422323],\n",
       "       ...,\n",
       "       [0.6257167 ],\n",
       "       [0.5161799 ],\n",
       "       [0.51559925]], dtype=float32)"
      ]
     },
     "execution_count": 27,
     "metadata": {},
     "output_type": "execute_result"
    }
   ],
   "source": [
    "z"
   ]
  },
  {
   "cell_type": "code",
   "execution_count": 28,
   "metadata": {},
   "outputs": [],
   "source": [
    "z=pd.DataFrame(z)"
   ]
  },
  {
   "cell_type": "code",
   "execution_count": 29,
   "metadata": {},
   "outputs": [],
   "source": [
    "th=[.5,.4,.39,.38,.37,.36,.35,.34,.33,.32,.31,.3,.29,.28,.27,.26,.255,.25,.245,.24,.23,.22,.21,.2,.1,.09,.08,.07,.06,.055,.05,.045,.04,.03,.02,.01,.005]"
   ]
  },
  {
   "cell_type": "code",
   "execution_count": 31,
   "metadata": {},
   "outputs": [],
   "source": [
    "from sklearn.metrics import roc_auc_score"
   ]
  },
  {
   "cell_type": "code",
   "execution_count": 35,
   "metadata": {},
   "outputs": [
    {
     "data": {
      "text/plain": [
       "[0.6560151660062851,\n",
       " 0.665169422052193,\n",
       " 0.6826239923486814,\n",
       " 0.6909072277633557,\n",
       " 0.6996345129116,\n",
       " 0.7070296488591338,\n",
       " 0.7043653504577128,\n",
       " 0.7030332012570024,\n",
       " 0.7104283372045361,\n",
       " 0.7082080885366854,\n",
       " 0.7046556906681241,\n",
       " 0.7019913922667032,\n",
       " 0.6957746959967209,\n",
       " 0.690446099193879,\n",
       " 0.6860056018581774,\n",
       " 0.6811210547889056,\n",
       " 0.6780127066539146,\n",
       " 0.676680557453204,\n",
       " 0.6744603087853532,\n",
       " 0.6818554447328871,\n",
       " 0.6747506489957644,\n",
       " 0.667645853258642,\n",
       " 0.6627613061893701,\n",
       " 0.6556565104522476,\n",
       " 0.5795702964885914,\n",
       " 0.5763082388304412,\n",
       " 0.5743783303730018,\n",
       " 0.5693400737805712,\n",
       " 0.5716969531356743,\n",
       " 0.5697670446782347,\n",
       " 0.5617741494739719,\n",
       " 0.5515610056018582,\n",
       " 0.5522953955458396,\n",
       " 0.5620474108484765,\n",
       " 0.5407330236371088,\n",
       " 0.5349432982647903,\n",
       " 0.5214680967345265]"
      ]
     },
     "execution_count": 35,
     "metadata": {},
     "output_type": "execute_result"
    }
   ],
   "source": [
    "scores=[]\n",
    "for k in th:\n",
    "    z=model.predict(X_test)\n",
    "    z=pd.DataFrame(z)\n",
    "    z[z>k]=1\n",
    "    z[z<=k]=0\n",
    "    q=roc_auc_score(y_test,z)\n",
    "    scores.append((q))\n",
    "scores"
   ]
  },
  {
   "cell_type": "code",
   "execution_count": 36,
   "metadata": {
    "scrolled": true
   },
   "outputs": [
    {
     "data": {
      "text/html": [
       "<div>\n",
       "<style scoped>\n",
       "    .dataframe tbody tr th:only-of-type {\n",
       "        vertical-align: middle;\n",
       "    }\n",
       "\n",
       "    .dataframe tbody tr th {\n",
       "        vertical-align: top;\n",
       "    }\n",
       "\n",
       "    .dataframe thead th {\n",
       "        text-align: right;\n",
       "    }\n",
       "</style>\n",
       "<table border=\"1\" class=\"dataframe\">\n",
       "  <thead>\n",
       "    <tr style=\"text-align: right;\">\n",
       "      <th></th>\n",
       "      <th>0</th>\n",
       "    </tr>\n",
       "  </thead>\n",
       "  <tbody>\n",
       "    <tr>\n",
       "      <th>0</th>\n",
       "      <td>0.0</td>\n",
       "    </tr>\n",
       "    <tr>\n",
       "      <th>1</th>\n",
       "      <td>1.0</td>\n",
       "    </tr>\n",
       "    <tr>\n",
       "      <th>2</th>\n",
       "      <td>1.0</td>\n",
       "    </tr>\n",
       "    <tr>\n",
       "      <th>3</th>\n",
       "      <td>1.0</td>\n",
       "    </tr>\n",
       "    <tr>\n",
       "      <th>4</th>\n",
       "      <td>1.0</td>\n",
       "    </tr>\n",
       "  </tbody>\n",
       "</table>\n",
       "</div>"
      ],
      "text/plain": [
       "     0\n",
       "0  0.0\n",
       "1  1.0\n",
       "2  1.0\n",
       "3  1.0\n",
       "4  1.0"
      ]
     },
     "execution_count": 36,
     "metadata": {},
     "output_type": "execute_result"
    }
   ],
   "source": [
    "z.head()"
   ]
  },
  {
   "cell_type": "code",
   "execution_count": 37,
   "metadata": {},
   "outputs": [
    {
     "data": {
      "image/png": "[encoded data removed]",
      "text/plain": [
       "<matplotlib.figure.Figure at 0x7f803846eb38>"
      ]
     },
     "metadata": {},
     "output_type": "display_data"
    }
   ],
   "source": [
    "plt.scatter(th,scores)\n",
    "plt.show()"
   ]
  },
  {
   "cell_type": "code",
   "execution_count": 38,
   "metadata": {},
   "outputs": [],
   "source": [
    "from sklearn.metrics import roc_auc_score,make_scorer"
   ]
  },
  {
   "cell_type": "code",
   "execution_count": 39,
   "metadata": {},
   "outputs": [],
   "source": [
    "q=roc_auc_score(y_test,z)"
   ]
  },
  {
   "cell_type": "code",
   "execution_count": 40,
   "metadata": {},
   "outputs": [
    {
     "data": {
      "text/plain": [
       "0.5214680967345265"
      ]
     },
     "execution_count": 40,
     "metadata": {},
     "output_type": "execute_result"
    }
   ],
   "source": [
    "q"
   ]
  },
  {
   "cell_type": "code",
   "execution_count": 41,
   "metadata": {},
   "outputs": [],
   "source": [
    "test=pd.read_csv('test_TQDFDgg.csv')"
   ]
  },
  {
   "cell_type": "code",
   "execution_count": 42,
   "metadata": {},
   "outputs": [],
   "source": [
    "del test[\"incident_location\"]\n",
    "del test[\"victim_id\"]\n",
    "A=test.incident_time.str.split(':', expand=True)\n",
    "del A[1]\n",
    "del A[2]\n",
    "A.rename(columns={0:'incident_time_category'}, inplace=True)\n",
    "test1=pd.concat([test,A], axis=1)\n",
    "itemsB=[\"00\",\"01\",\"02\",\"03\"]\n",
    "for x in itemsB:\n",
    "    test1.loc[test1[\"incident_time_category\"]==x,'incident_time_category']=\"0\"\n",
    "itemsB=[\"04\",\"05\",\"06\",\"07\"]\n",
    "for x in itemsB:\n",
    "    test1.loc[test1[\"incident_time_category\"]==x,'incident_time_category']=\"1\"\n",
    "itemsB=[\"08\",\"09\",\"10\",\"11\"]\n",
    "for x in itemsB:\n",
    "    test1.loc[test1[\"incident_time_category\"]==x,'incident_time_category']=\"2\"\n",
    "itemsB=[\"12\",\"13\",\"14\",\"15\"]\n",
    "for x in itemsB:\n",
    "    test1.loc[test1[\"incident_time_category\"]==x,'incident_time_category']=\"3\"\n",
    "itemsB=[\"16\",\"17\",\"18\",\"19\"]\n",
    "for x in itemsB:\n",
    "    test1.loc[test1[\"incident_time_category\"]==x,'incident_time_category']=\"4\"\n",
    "itemsB=[\"20\",\"21\",\"22\",\"23\"]\n",
    "for x in itemsB:\n",
    "    test1.loc[test1[\"incident_time_category\"]==x,'incident_time_category']=\"5\"\n",
    "test1['incident_date1'] = pd.to_datetime(test1['incident_date'])\n",
    "test1['day_of_week'] = test1['incident_date1'].dt.weekday_name\n",
    "B=test1.incident_date.str.split('-', expand=True)\n",
    "final_test=pd.concat([test1,B] , axis=1)\n",
    "del final_test[\"incident_date1\"]\n",
    "del final_test[0]\n",
    "del final_test[\"incident_time\"]\n",
    "del final_test[\"incident_date\"]"
   ]
  },
  {
   "cell_type": "code",
   "execution_count": 43,
   "metadata": {},
   "outputs": [],
   "source": [
    "categorical_variable=final_test.dtypes[final_test.dtypes==\"object\"].index.values\n",
    "for var in categorical_variable:\n",
    "    final_test[var]=le.fit_transform(final_test[var])"
   ]
  },
  {
   "cell_type": "code",
   "execution_count": 44,
   "metadata": {},
   "outputs": [],
   "source": [
    "submission=model.predict(final_test)"
   ]
  },
  {
   "cell_type": "code",
   "execution_count": 45,
   "metadata": {},
   "outputs": [],
   "source": [
    "sub=pd.DataFrame(submission)"
   ]
  },
  {
   "cell_type": "code",
   "execution_count": 46,
   "metadata": {},
   "outputs": [],
   "source": [
    "sub.head()\n",
    "sub[sub>0.25]=1\n",
    "sub[sub<=0.25]=0"
   ]
  },
  {
   "cell_type": "code",
   "execution_count": 47,
   "metadata": {},
   "outputs": [],
   "source": [
    "sub.to_csv(\"submission2.csv\")"
   ]
  }
 ],
 "metadata": {
  "kernelspec": {
   "display_name": "Python 3",
   "language": "python",
   "name": "python3"
  },
  "language_info": {
   "codemirror_mode": {
    "name": "ipython",
    "version": 3
   },
   "file_extension": ".py",
   "mimetype": "text/x-python",
   "name": "python",
   "nbconvert_exporter": "python",
   "pygments_lexer": "ipython3",
   "version": "3.6.4"
  }
 },
 "nbformat": 4,
 "nbformat_minor": 2
}
