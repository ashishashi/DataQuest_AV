{
 "cells": [
  {
   "cell_type": "code",
   "execution_count": 1,
   "metadata": {},
   "outputs": [],
   "source": [
    "import numpy as np\n",
    "import pandas as pd\n",
    "import matplotlib.pyplot as plt\n",
    "import pandas as pd\n",
    "import warnings\n",
    "warnings.filterwarnings('ignore')\n",
    "warnings.simplefilter(\"ignore\")"
   ]
  },
  {
   "cell_type": "code",
   "execution_count": 2,
   "metadata": {},
   "outputs": [],
   "source": [
    "data=pd.read_csv(\"AVdata.csv\")"
   ]
  },
  {
   "cell_type": "code",
   "execution_count": 3,
   "metadata": {},
   "outputs": [
    {
     "data": {
      "text/html": [
       "<div>\n",
       "<style scoped>\n",
       "    .dataframe tbody tr th:only-of-type {\n",
       "        vertical-align: middle;\n",
       "    }\n",
       "\n",
       "    .dataframe tbody tr th {\n",
       "        vertical-align: top;\n",
       "    }\n",
       "\n",
       "    .dataframe thead th {\n",
       "        text-align: right;\n",
       "    }\n",
       "</style>\n",
       "<table border=\"1\" class=\"dataframe\">\n",
       "  <thead>\n",
       "    <tr style=\"text-align: right;\">\n",
       "      <th></th>\n",
       "      <th>Unnamed: 0</th>\n",
       "      <th>incident_tehsil</th>\n",
       "      <th>cause_of_emergency</th>\n",
       "      <th>base_to_scene_distance</th>\n",
       "      <th>scene_to_hospital_distance</th>\n",
       "      <th>roadway_feature</th>\n",
       "      <th>road_type</th>\n",
       "      <th>surrounding_area</th>\n",
       "      <th>criticality</th>\n",
       "      <th>incident_time_category</th>\n",
       "      <th>day_of_week</th>\n",
       "      <th>1</th>\n",
       "      <th>2</th>\n",
       "    </tr>\n",
       "  </thead>\n",
       "  <tbody>\n",
       "    <tr>\n",
       "      <th>0</th>\n",
       "      <td>0</td>\n",
       "      <td>Raipur</td>\n",
       "      <td>Multiple Vehicular Incident</td>\n",
       "      <td>13</td>\n",
       "      <td>12</td>\n",
       "      <td>CUR</td>\n",
       "      <td>HIW</td>\n",
       "      <td>FOR</td>\n",
       "      <td>0</td>\n",
       "      <td>5</td>\n",
       "      <td>Wednesday</td>\n",
       "      <td>11</td>\n",
       "      <td>2012</td>\n",
       "    </tr>\n",
       "    <tr>\n",
       "      <th>1</th>\n",
       "      <td>1</td>\n",
       "      <td>Raipur</td>\n",
       "      <td>2 Wheeler accidents</td>\n",
       "      <td>1</td>\n",
       "      <td>5</td>\n",
       "      <td>CUR</td>\n",
       "      <td>HIW</td>\n",
       "      <td>AGL</td>\n",
       "      <td>0</td>\n",
       "      <td>5</td>\n",
       "      <td>Friday</td>\n",
       "      <td>11</td>\n",
       "      <td>2011</td>\n",
       "    </tr>\n",
       "    <tr>\n",
       "      <th>2</th>\n",
       "      <td>2</td>\n",
       "      <td>Raipur</td>\n",
       "      <td>Non motorised vehicle accidents(Bullock cart,B...</td>\n",
       "      <td>2</td>\n",
       "      <td>2</td>\n",
       "      <td>INT</td>\n",
       "      <td>LOC</td>\n",
       "      <td>HOSP</td>\n",
       "      <td>0</td>\n",
       "      <td>5</td>\n",
       "      <td>Saturday</td>\n",
       "      <td>7</td>\n",
       "      <td>2009</td>\n",
       "    </tr>\n",
       "    <tr>\n",
       "      <th>3</th>\n",
       "      <td>3</td>\n",
       "      <td>Raipur</td>\n",
       "      <td>2 Wheeler accidents</td>\n",
       "      <td>8</td>\n",
       "      <td>4</td>\n",
       "      <td>CUR</td>\n",
       "      <td>HIW</td>\n",
       "      <td>HIL</td>\n",
       "      <td>0</td>\n",
       "      <td>3</td>\n",
       "      <td>Saturday</td>\n",
       "      <td>5</td>\n",
       "      <td>2012</td>\n",
       "    </tr>\n",
       "    <tr>\n",
       "      <th>4</th>\n",
       "      <td>4</td>\n",
       "      <td>Sahaspur</td>\n",
       "      <td>2 Wheeler accidents</td>\n",
       "      <td>1</td>\n",
       "      <td>26</td>\n",
       "      <td>CUR</td>\n",
       "      <td>HIW</td>\n",
       "      <td>AGL</td>\n",
       "      <td>0</td>\n",
       "      <td>4</td>\n",
       "      <td>Monday</td>\n",
       "      <td>6</td>\n",
       "      <td>2010</td>\n",
       "    </tr>\n",
       "  </tbody>\n",
       "</table>\n",
       "</div>"
      ],
      "text/plain": [
       "   Unnamed: 0 incident_tehsil  \\\n",
       "0           0          Raipur   \n",
       "1           1          Raipur   \n",
       "2           2          Raipur   \n",
       "3           3          Raipur   \n",
       "4           4        Sahaspur   \n",
       "\n",
       "                                  cause_of_emergency  base_to_scene_distance  \\\n",
       "0                        Multiple Vehicular Incident                      13   \n",
       "1                                2 Wheeler accidents                       1   \n",
       "2  Non motorised vehicle accidents(Bullock cart,B...                       2   \n",
       "3                                2 Wheeler accidents                       8   \n",
       "4                                2 Wheeler accidents                       1   \n",
       "\n",
       "   scene_to_hospital_distance roadway_feature road_type surrounding_area  \\\n",
       "0                          12             CUR       HIW              FOR   \n",
       "1                           5             CUR       HIW              AGL   \n",
       "2                           2             INT       LOC             HOSP   \n",
       "3                           4             CUR       HIW              HIL   \n",
       "4                          26             CUR       HIW              AGL   \n",
       "\n",
       "   criticality  incident_time_category day_of_week   1     2  \n",
       "0            0                       5   Wednesday  11  2012  \n",
       "1            0                       5      Friday  11  2011  \n",
       "2            0                       5    Saturday   7  2009  \n",
       "3            0                       3    Saturday   5  2012  \n",
       "4            0                       4      Monday   6  2010  "
      ]
     },
     "execution_count": 3,
     "metadata": {},
     "output_type": "execute_result"
    }
   ],
   "source": [
    "data.head()"
   ]
  },
  {
   "cell_type": "code",
   "execution_count": 4,
   "metadata": {},
   "outputs": [
    {
     "name": "stderr",
     "output_type": "stream",
     "text": [
      "Using TensorFlow backend.\n"
     ]
    }
   ],
   "source": [
    "from keras.models import Sequential\n",
    "from keras.layers import Dense"
   ]
  },
  {
   "cell_type": "code",
   "execution_count": 5,
   "metadata": {},
   "outputs": [],
   "source": [
    "from sklearn.preprocessing import LabelEncoder\n",
    "le=LabelEncoder()"
   ]
  },
  {
   "cell_type": "code",
   "execution_count": 6,
   "metadata": {},
   "outputs": [],
   "source": [
    "for var in data:\n",
    "    data[var]=le.fit_transform(data[var])"
   ]
  },
  {
   "cell_type": "code",
   "execution_count": 40,
   "metadata": {
    "scrolled": false
   },
   "outputs": [
    {
     "data": {
      "text/html": [
       "<div>\n",
       "<style scoped>\n",
       "    .dataframe tbody tr th:only-of-type {\n",
       "        vertical-align: middle;\n",
       "    }\n",
       "\n",
       "    .dataframe tbody tr th {\n",
       "        vertical-align: top;\n",
       "    }\n",
       "\n",
       "    .dataframe thead th {\n",
       "        text-align: right;\n",
       "    }\n",
       "</style>\n",
       "<table border=\"1\" class=\"dataframe\">\n",
       "  <thead>\n",
       "    <tr style=\"text-align: right;\">\n",
       "      <th></th>\n",
       "      <th>incident_tehsil</th>\n",
       "      <th>cause_of_emergency</th>\n",
       "      <th>base_to_scene_distance</th>\n",
       "      <th>scene_to_hospital_distance</th>\n",
       "      <th>roadway_feature</th>\n",
       "      <th>road_type</th>\n",
       "      <th>surrounding_area</th>\n",
       "      <th>incident_time_category</th>\n",
       "      <th>day_of_week</th>\n",
       "      <th>1</th>\n",
       "      <th>2</th>\n",
       "    </tr>\n",
       "  </thead>\n",
       "  <tbody>\n",
       "    <tr>\n",
       "      <th>0</th>\n",
       "      <td>4</td>\n",
       "      <td>9</td>\n",
       "      <td>12</td>\n",
       "      <td>12</td>\n",
       "      <td>0</td>\n",
       "      <td>0</td>\n",
       "      <td>2</td>\n",
       "      <td>5</td>\n",
       "      <td>6</td>\n",
       "      <td>10</td>\n",
       "      <td>3</td>\n",
       "    </tr>\n",
       "    <tr>\n",
       "      <th>1</th>\n",
       "      <td>4</td>\n",
       "      <td>0</td>\n",
       "      <td>0</td>\n",
       "      <td>5</td>\n",
       "      <td>0</td>\n",
       "      <td>0</td>\n",
       "      <td>0</td>\n",
       "      <td>5</td>\n",
       "      <td>0</td>\n",
       "      <td>10</td>\n",
       "      <td>2</td>\n",
       "    </tr>\n",
       "    <tr>\n",
       "      <th>2</th>\n",
       "      <td>4</td>\n",
       "      <td>10</td>\n",
       "      <td>1</td>\n",
       "      <td>2</td>\n",
       "      <td>1</td>\n",
       "      <td>1</td>\n",
       "      <td>4</td>\n",
       "      <td>5</td>\n",
       "      <td>2</td>\n",
       "      <td>6</td>\n",
       "      <td>0</td>\n",
       "    </tr>\n",
       "    <tr>\n",
       "      <th>3</th>\n",
       "      <td>4</td>\n",
       "      <td>0</td>\n",
       "      <td>7</td>\n",
       "      <td>4</td>\n",
       "      <td>0</td>\n",
       "      <td>0</td>\n",
       "      <td>3</td>\n",
       "      <td>3</td>\n",
       "      <td>2</td>\n",
       "      <td>4</td>\n",
       "      <td>3</td>\n",
       "    </tr>\n",
       "    <tr>\n",
       "      <th>4</th>\n",
       "      <td>5</td>\n",
       "      <td>0</td>\n",
       "      <td>0</td>\n",
       "      <td>26</td>\n",
       "      <td>0</td>\n",
       "      <td>0</td>\n",
       "      <td>0</td>\n",
       "      <td>4</td>\n",
       "      <td>1</td>\n",
       "      <td>5</td>\n",
       "      <td>1</td>\n",
       "    </tr>\n",
       "  </tbody>\n",
       "</table>\n",
       "</div>"
      ],
      "text/plain": [
       "   incident_tehsil  cause_of_emergency  base_to_scene_distance  \\\n",
       "0                4                   9                      12   \n",
       "1                4                   0                       0   \n",
       "2                4                  10                       1   \n",
       "3                4                   0                       7   \n",
       "4                5                   0                       0   \n",
       "\n",
       "   scene_to_hospital_distance  roadway_feature  road_type  surrounding_area  \\\n",
       "0                          12                0          0                 2   \n",
       "1                           5                0          0                 0   \n",
       "2                           2                1          1                 4   \n",
       "3                           4                0          0                 3   \n",
       "4                          26                0          0                 0   \n",
       "\n",
       "   incident_time_category  day_of_week   1  2  \n",
       "0                       5            6  10  3  \n",
       "1                       5            0  10  2  \n",
       "2                       5            2   6  0  \n",
       "3                       3            2   4  3  \n",
       "4                       4            1   5  1  "
      ]
     },
     "execution_count": 40,
     "metadata": {},
     "output_type": "execute_result"
    }
   ],
   "source": [
    "data.head()"
   ]
  },
  {
   "cell_type": "code",
   "execution_count": 8,
   "metadata": {},
   "outputs": [],
   "source": [
    "del data[\"Unnamed: 0\"]"
   ]
  },
  {
   "cell_type": "code",
   "execution_count": 9,
   "metadata": {
    "scrolled": false
   },
   "outputs": [],
   "source": [
    "dataset = np.genfromtxt(data, delimiter=\",\")"
   ]
  },
  {
   "cell_type": "code",
   "execution_count": 10,
   "metadata": {
    "scrolled": true
   },
   "outputs": [
    {
     "data": {
      "text/plain": [
       "array([nan, nan, nan, nan, nan, nan, nan, nan])"
      ]
     },
     "execution_count": 10,
     "metadata": {},
     "output_type": "execute_result"
    }
   ],
   "source": [
    "dataset[:8]"
   ]
  },
  {
   "cell_type": "code",
   "execution_count": 11,
   "metadata": {},
   "outputs": [],
   "source": [
    "from sklearn.model_selection import train_test_split"
   ]
  },
  {
   "cell_type": "code",
   "execution_count": 12,
   "metadata": {},
   "outputs": [],
   "source": [
    "p=data[\"criticality\"]"
   ]
  },
  {
   "cell_type": "code",
   "execution_count": 13,
   "metadata": {},
   "outputs": [],
   "source": [
    "del data[\"criticality\"]"
   ]
  },
  {
   "cell_type": "code",
   "execution_count": 14,
   "metadata": {},
   "outputs": [],
   "source": [
    "X=data"
   ]
  },
  {
   "cell_type": "code",
   "execution_count": 15,
   "metadata": {},
   "outputs": [
    {
     "data": {
      "text/html": [
       "<div>\n",
       "<style scoped>\n",
       "    .dataframe tbody tr th:only-of-type {\n",
       "        vertical-align: middle;\n",
       "    }\n",
       "\n",
       "    .dataframe tbody tr th {\n",
       "        vertical-align: top;\n",
       "    }\n",
       "\n",
       "    .dataframe thead th {\n",
       "        text-align: right;\n",
       "    }\n",
       "</style>\n",
       "<table border=\"1\" class=\"dataframe\">\n",
       "  <thead>\n",
       "    <tr style=\"text-align: right;\">\n",
       "      <th></th>\n",
       "      <th>incident_tehsil</th>\n",
       "      <th>cause_of_emergency</th>\n",
       "      <th>base_to_scene_distance</th>\n",
       "      <th>scene_to_hospital_distance</th>\n",
       "      <th>roadway_feature</th>\n",
       "      <th>road_type</th>\n",
       "      <th>surrounding_area</th>\n",
       "      <th>incident_time_category</th>\n",
       "      <th>day_of_week</th>\n",
       "      <th>1</th>\n",
       "      <th>2</th>\n",
       "    </tr>\n",
       "  </thead>\n",
       "  <tbody>\n",
       "    <tr>\n",
       "      <th>0</th>\n",
       "      <td>4</td>\n",
       "      <td>9</td>\n",
       "      <td>12</td>\n",
       "      <td>12</td>\n",
       "      <td>0</td>\n",
       "      <td>0</td>\n",
       "      <td>2</td>\n",
       "      <td>5</td>\n",
       "      <td>6</td>\n",
       "      <td>10</td>\n",
       "      <td>3</td>\n",
       "    </tr>\n",
       "    <tr>\n",
       "      <th>1</th>\n",
       "      <td>4</td>\n",
       "      <td>0</td>\n",
       "      <td>0</td>\n",
       "      <td>5</td>\n",
       "      <td>0</td>\n",
       "      <td>0</td>\n",
       "      <td>0</td>\n",
       "      <td>5</td>\n",
       "      <td>0</td>\n",
       "      <td>10</td>\n",
       "      <td>2</td>\n",
       "    </tr>\n",
       "    <tr>\n",
       "      <th>2</th>\n",
       "      <td>4</td>\n",
       "      <td>10</td>\n",
       "      <td>1</td>\n",
       "      <td>2</td>\n",
       "      <td>1</td>\n",
       "      <td>1</td>\n",
       "      <td>4</td>\n",
       "      <td>5</td>\n",
       "      <td>2</td>\n",
       "      <td>6</td>\n",
       "      <td>0</td>\n",
       "    </tr>\n",
       "    <tr>\n",
       "      <th>3</th>\n",
       "      <td>4</td>\n",
       "      <td>0</td>\n",
       "      <td>7</td>\n",
       "      <td>4</td>\n",
       "      <td>0</td>\n",
       "      <td>0</td>\n",
       "      <td>3</td>\n",
       "      <td>3</td>\n",
       "      <td>2</td>\n",
       "      <td>4</td>\n",
       "      <td>3</td>\n",
       "    </tr>\n",
       "    <tr>\n",
       "      <th>4</th>\n",
       "      <td>5</td>\n",
       "      <td>0</td>\n",
       "      <td>0</td>\n",
       "      <td>26</td>\n",
       "      <td>0</td>\n",
       "      <td>0</td>\n",
       "      <td>0</td>\n",
       "      <td>4</td>\n",
       "      <td>1</td>\n",
       "      <td>5</td>\n",
       "      <td>1</td>\n",
       "    </tr>\n",
       "  </tbody>\n",
       "</table>\n",
       "</div>"
      ],
      "text/plain": [
       "   incident_tehsil  cause_of_emergency  base_to_scene_distance  \\\n",
       "0                4                   9                      12   \n",
       "1                4                   0                       0   \n",
       "2                4                  10                       1   \n",
       "3                4                   0                       7   \n",
       "4                5                   0                       0   \n",
       "\n",
       "   scene_to_hospital_distance  roadway_feature  road_type  surrounding_area  \\\n",
       "0                          12                0          0                 2   \n",
       "1                           5                0          0                 0   \n",
       "2                           2                1          1                 4   \n",
       "3                           4                0          0                 3   \n",
       "4                          26                0          0                 0   \n",
       "\n",
       "   incident_time_category  day_of_week   1  2  \n",
       "0                       5            6  10  3  \n",
       "1                       5            0  10  2  \n",
       "2                       5            2   6  0  \n",
       "3                       3            2   4  3  \n",
       "4                       4            1   5  1  "
      ]
     },
     "execution_count": 15,
     "metadata": {},
     "output_type": "execute_result"
    }
   ],
   "source": [
    "X.head()"
   ]
  },
  {
   "cell_type": "code",
   "execution_count": 16,
   "metadata": {},
   "outputs": [],
   "source": [
    "X_train, X_test, y_train, y_test = train_test_split(X,p,test_size=0.1)\n"
   ]
  },
  {
   "cell_type": "code",
   "execution_count": 17,
   "metadata": {
    "scrolled": false
   },
   "outputs": [],
   "source": [
    "model = Sequential()\n",
    "model.add(Dense(units = 11, kernel_initializer = 'uniform', activation = 'relu', input_dim = 11))\n",
    "model.add(Dense(units = 16, kernel_initializer = 'uniform', activation = 'relu'))\n",
    "model.add(Dense(units = 12, kernel_initializer = 'uniform', activation = 'relu'))\n",
    "model.add(Dense(units = 1, kernel_initializer = 'uniform', activation = 'sigmoid'))\n",
    "\n"
   ]
  },
  {
   "cell_type": "code",
   "execution_count": 18,
   "metadata": {},
   "outputs": [],
   "source": [
    "class_weight = {0 : 1,\n",
    "    1: 8,\n",
    "}"
   ]
  },
  {
   "cell_type": "code",
   "execution_count": 19,
   "metadata": {},
   "outputs": [
    {
     "name": "stdout",
     "output_type": "stream",
     "text": [
      "Epoch 1/8\n",
      "10599/10599 [==============================] - 1s 52us/step - loss: 0.7574 - acc: 0.9551\n",
      "Epoch 2/8\n",
      "10599/10599 [==============================] - 1s 53us/step - loss: 0.6722 - acc: 0.8980\n",
      "Epoch 3/8\n",
      "10599/10599 [==============================] - 1s 75us/step - loss: 0.6606 - acc: 0.8633\n",
      "Epoch 4/8\n",
      "10599/10599 [==============================] - 1s 50us/step - loss: 0.6570 - acc: 0.8658\n",
      "Epoch 5/8\n",
      "10599/10599 [==============================] - 0s 42us/step - loss: 0.6516 - acc: 0.8639\n",
      "Epoch 6/8\n",
      "10599/10599 [==============================] - 0s 41us/step - loss: 0.6516 - acc: 0.8605\n",
      "Epoch 7/8\n",
      "10599/10599 [==============================] - 1s 54us/step - loss: 0.6501 - acc: 0.8698\n",
      "Epoch 8/8\n",
      "10599/10599 [==============================] - 1s 84us/step - loss: 0.6468 - acc: 0.8735\n"
     ]
    },
    {
     "data": {
      "text/plain": [
       "<keras.callbacks.History at 0x7f82b2b62b70>"
      ]
     },
     "execution_count": 19,
     "metadata": {},
     "output_type": "execute_result"
    }
   ],
   "source": [
    "model.compile(optimizer = 'adam', loss = 'binary_crossentropy', metrics = ['accuracy'])\n",
    "\n",
    "model.fit(X_train, y_train, batch_size = 32, epochs = 8, class_weight=class_weight)"
   ]
  },
  {
   "cell_type": "code",
   "execution_count": 20,
   "metadata": {},
   "outputs": [],
   "source": [
    "z=model.predict(X_test)"
   ]
  },
  {
   "cell_type": "code",
   "execution_count": 21,
   "metadata": {
    "scrolled": true
   },
   "outputs": [
    {
     "data": {
      "text/plain": [
       "array([[0.30591097],\n",
       "       [0.05670345],\n",
       "       [0.12925857],\n",
       "       ...,\n",
       "       [0.13725525],\n",
       "       [0.23690155],\n",
       "       [0.08484364]], dtype=float32)"
      ]
     },
     "execution_count": 21,
     "metadata": {},
     "output_type": "execute_result"
    }
   ],
   "source": [
    "z"
   ]
  },
  {
   "cell_type": "code",
   "execution_count": 22,
   "metadata": {},
   "outputs": [],
   "source": [
    "z=pd.DataFrame(z)"
   ]
  },
  {
   "cell_type": "code",
   "execution_count": 23,
   "metadata": {},
   "outputs": [],
   "source": [
    "th=[.5,.4,.39,.38,.37,.36,.35,.34,.33,.32,.31,.3,.29,.28,.27,.26,.255,.25,.245,.24,.23,.22,.21,.2,.1,.09,.08,.07,.06,.055,.05,.045,.04,.03,.02,.01,.005]"
   ]
  },
  {
   "cell_type": "code",
   "execution_count": 24,
   "metadata": {},
   "outputs": [],
   "source": [
    "from sklearn.metrics import roc_auc_score,make_scorer"
   ]
  },
  {
   "cell_type": "code",
   "execution_count": 25,
   "metadata": {},
   "outputs": [
    {
     "data": {
      "text/plain": [
       "[(0.5967986840440338, 0.5),\n",
       " (0.621707850545001, 0.4),\n",
       " (0.6296975831962546, 0.39),\n",
       " (0.6283689738074149, 0.38),\n",
       " (0.6359158366623886, 0.37),\n",
       " (0.6332586178847093, 0.36),\n",
       " (0.6292727897181902, 0.35),\n",
       " (0.6372625223694438, 0.34),\n",
       " (0.6439236456318578, 0.33),\n",
       " (0.6678928435856184, 0.32),\n",
       " (0.6732253574591927, 0.31),\n",
       " (0.6696823990889536, 0.3),\n",
       " (0.6856618643914607, 0.29),\n",
       " (0.6794616872435423, 0.28),\n",
       " (0.6706042913179444, 0.27),\n",
       " (0.6644041141700259, 0.26),\n",
       " (0.6613040255960665, 0.255),\n",
       " (0.655546718244428, 0.25),\n",
       " (0.6613221019142821, 0.245),\n",
       " (0.6688689647692557, 0.24),\n",
       " (0.6719871296614306, 0.23),\n",
       " (0.6626868639395528, 0.22),\n",
       " (0.6556009471990745, 0.21),\n",
       " (0.6613763308689287, 0.2),\n",
       " (0.6043726613763309, 0.1),\n",
       " (0.5928761229912691, 0.09),\n",
       " (0.5804938450136476, 0.08),\n",
       " (0.5672258274434664, 0.07),\n",
       " (0.5641618915059381, 0.06),\n",
       " (0.5641980441423691, 0.055),\n",
       " (0.551797689846532, 0.05),\n",
       " (0.5402830751432548, 0.045),\n",
       " (0.5292113302362575, 0.04),\n",
       " (0.5199291408325952, 0.03),\n",
       " (0.5088573959255979, 0.02),\n",
       " (0.5017714791851196, 0.01),\n",
       " (0.5004428697962799, 0.005)]"
      ]
     },
     "execution_count": 25,
     "metadata": {},
     "output_type": "execute_result"
    }
   ],
   "source": [
    "scores=[]\n",
    "for k in th:\n",
    "    z=model.predict(X_test)\n",
    "    z=pd.DataFrame(z)\n",
    "    z[z>k]=1\n",
    "    z[z<=k]=0\n",
    "    q=roc_auc_score(y_test,z)\n",
    "    scores.append((q,k))\n",
    "scores"
   ]
  },
  {
   "cell_type": "code",
   "execution_count": 26,
   "metadata": {},
   "outputs": [],
   "source": [
    "z[z>0.06]=1\n",
    "z[z<=0.06]=0"
   ]
  },
  {
   "cell_type": "code",
   "execution_count": 28,
   "metadata": {
    "scrolled": false
   },
   "outputs": [
    {
     "data": {
      "text/html": [
       "<div>\n",
       "<style scoped>\n",
       "    .dataframe tbody tr th:only-of-type {\n",
       "        vertical-align: middle;\n",
       "    }\n",
       "\n",
       "    .dataframe tbody tr th {\n",
       "        vertical-align: top;\n",
       "    }\n",
       "\n",
       "    .dataframe thead th {\n",
       "        text-align: right;\n",
       "    }\n",
       "</style>\n",
       "<table border=\"1\" class=\"dataframe\">\n",
       "  <thead>\n",
       "    <tr style=\"text-align: right;\">\n",
       "      <th></th>\n",
       "      <th>0</th>\n",
       "    </tr>\n",
       "  </thead>\n",
       "  <tbody>\n",
       "    <tr>\n",
       "      <th>0</th>\n",
       "      <td>1.0</td>\n",
       "    </tr>\n",
       "    <tr>\n",
       "      <th>1</th>\n",
       "      <td>1.0</td>\n",
       "    </tr>\n",
       "    <tr>\n",
       "      <th>2</th>\n",
       "      <td>1.0</td>\n",
       "    </tr>\n",
       "    <tr>\n",
       "      <th>3</th>\n",
       "      <td>1.0</td>\n",
       "    </tr>\n",
       "    <tr>\n",
       "      <th>4</th>\n",
       "      <td>1.0</td>\n",
       "    </tr>\n",
       "  </tbody>\n",
       "</table>\n",
       "</div>"
      ],
      "text/plain": [
       "     0\n",
       "0  1.0\n",
       "1  1.0\n",
       "2  1.0\n",
       "3  1.0\n",
       "4  1.0"
      ]
     },
     "execution_count": 28,
     "metadata": {},
     "output_type": "execute_result"
    }
   ],
   "source": [
    "z.head()"
   ]
  },
  {
   "cell_type": "code",
   "execution_count": 29,
   "metadata": {},
   "outputs": [
    {
     "name": "stdout",
     "output_type": "stream",
     "text": [
      "0\n"
     ]
    }
   ],
   "source": [
    "for i in z:\n",
    "    print(i)\n",
    "    if (i>0.1):\n",
    "        i=1"
   ]
  },
  {
   "cell_type": "code",
   "execution_count": null,
   "metadata": {},
   "outputs": [],
   "source": []
  },
  {
   "cell_type": "code",
   "execution_count": 30,
   "metadata": {},
   "outputs": [],
   "source": [
    "q=roc_auc_score(y_test,z)"
   ]
  },
  {
   "cell_type": "code",
   "execution_count": 31,
   "metadata": {},
   "outputs": [
    {
     "data": {
      "text/plain": [
       "0.5004428697962799"
      ]
     },
     "execution_count": 31,
     "metadata": {},
     "output_type": "execute_result"
    }
   ],
   "source": [
    "q"
   ]
  },
  {
   "cell_type": "code",
   "execution_count": 32,
   "metadata": {},
   "outputs": [],
   "source": [
    "test=pd.read_csv('test_TQDFDgg.csv')"
   ]
  },
  {
   "cell_type": "code",
   "execution_count": 33,
   "metadata": {
    "scrolled": true
   },
   "outputs": [],
   "source": [
    "del test[\"incident_location\"]\n",
    "del test[\"victim_id\"]\n",
    "A=test.incident_time.str.split(':', expand=True)\n",
    "del A[1]\n",
    "del A[2]\n",
    "A.rename(columns={0:'incident_time_category'}, inplace=True)\n",
    "test1=pd.concat([test,A], axis=1)\n",
    "itemsB=[\"00\",\"01\",\"02\",\"03\"]\n",
    "for x in itemsB:\n",
    "    test1.loc[test1[\"incident_time_category\"]==x,'incident_time_category']=\"0\"\n",
    "itemsB=[\"04\",\"05\",\"06\",\"07\"]\n",
    "for x in itemsB:\n",
    "    test1.loc[test1[\"incident_time_category\"]==x,'incident_time_category']=\"1\"\n",
    "itemsB=[\"08\",\"09\",\"10\",\"11\"]\n",
    "for x in itemsB:\n",
    "    test1.loc[test1[\"incident_time_category\"]==x,'incident_time_category']=\"2\"\n",
    "itemsB=[\"12\",\"13\",\"14\",\"15\"]\n",
    "for x in itemsB:\n",
    "    test1.loc[test1[\"incident_time_category\"]==x,'incident_time_category']=\"3\"\n",
    "itemsB=[\"16\",\"17\",\"18\",\"19\"]\n",
    "for x in itemsB:\n",
    "    test1.loc[test1[\"incident_time_category\"]==x,'incident_time_category']=\"4\"\n",
    "itemsB=[\"20\",\"21\",\"22\",\"23\"]\n",
    "for x in itemsB:\n",
    "    test1.loc[test1[\"incident_time_category\"]==x,'incident_time_category']=\"5\"\n",
    "test1['incident_date1'] = pd.to_datetime(test1['incident_date'])\n",
    "test1['day_of_week'] = test1['incident_date1'].dt.weekday_name\n",
    "B=test1.incident_date.str.split('-', expand=True)\n",
    "final_test=pd.concat([test1,B] , axis=1)\n",
    "del final_test[\"incident_date1\"]\n",
    "del final_test[0]\n",
    "del final_test[\"incident_time\"]\n",
    "del final_test[\"incident_date\"]\n"
   ]
  },
  {
   "cell_type": "code",
   "execution_count": 34,
   "metadata": {},
   "outputs": [
    {
     "data": {
      "text/html": [
       "<div>\n",
       "<style scoped>\n",
       "    .dataframe tbody tr th:only-of-type {\n",
       "        vertical-align: middle;\n",
       "    }\n",
       "\n",
       "    .dataframe tbody tr th {\n",
       "        vertical-align: top;\n",
       "    }\n",
       "\n",
       "    .dataframe thead th {\n",
       "        text-align: right;\n",
       "    }\n",
       "</style>\n",
       "<table border=\"1\" class=\"dataframe\">\n",
       "  <thead>\n",
       "    <tr style=\"text-align: right;\">\n",
       "      <th></th>\n",
       "      <th>incident_tehsil</th>\n",
       "      <th>cause_of_emergency</th>\n",
       "      <th>base_to_scene_distance</th>\n",
       "      <th>scene_to_hospital_distance</th>\n",
       "      <th>roadway_feature</th>\n",
       "      <th>road_type</th>\n",
       "      <th>surrounding_area</th>\n",
       "      <th>incident_time_category</th>\n",
       "      <th>day_of_week</th>\n",
       "      <th>1</th>\n",
       "      <th>2</th>\n",
       "    </tr>\n",
       "  </thead>\n",
       "  <tbody>\n",
       "    <tr>\n",
       "      <th>0</th>\n",
       "      <td>Sahaspur</td>\n",
       "      <td>MVC - Pedestrian (Run Over/Hit &amp; Run)</td>\n",
       "      <td>23</td>\n",
       "      <td>27</td>\n",
       "      <td>INT</td>\n",
       "      <td>LOC</td>\n",
       "      <td>MAR</td>\n",
       "      <td>3</td>\n",
       "      <td>Wednesday</td>\n",
       "      <td>05</td>\n",
       "      <td>2010</td>\n",
       "    </tr>\n",
       "    <tr>\n",
       "      <th>1</th>\n",
       "      <td>Doiwala</td>\n",
       "      <td>Multiple Vehicular Incident</td>\n",
       "      <td>5</td>\n",
       "      <td>21</td>\n",
       "      <td>CUR</td>\n",
       "      <td>HIW</td>\n",
       "      <td>AGL</td>\n",
       "      <td>4</td>\n",
       "      <td>Sunday</td>\n",
       "      <td>03</td>\n",
       "      <td>2012</td>\n",
       "    </tr>\n",
       "    <tr>\n",
       "      <th>2</th>\n",
       "      <td>Raipur</td>\n",
       "      <td>Multiple Vehicular Incident</td>\n",
       "      <td>3</td>\n",
       "      <td>1</td>\n",
       "      <td>CUR</td>\n",
       "      <td>HIW</td>\n",
       "      <td>AGL</td>\n",
       "      <td>4</td>\n",
       "      <td>Monday</td>\n",
       "      <td>01</td>\n",
       "      <td>2013</td>\n",
       "    </tr>\n",
       "    <tr>\n",
       "      <th>3</th>\n",
       "      <td>Sahaspur</td>\n",
       "      <td>Multiple Vehicular Incident</td>\n",
       "      <td>18</td>\n",
       "      <td>14</td>\n",
       "      <td>UNK</td>\n",
       "      <td>LOC</td>\n",
       "      <td>AGL</td>\n",
       "      <td>4</td>\n",
       "      <td>Saturday</td>\n",
       "      <td>05</td>\n",
       "      <td>2014</td>\n",
       "    </tr>\n",
       "    <tr>\n",
       "      <th>4</th>\n",
       "      <td>Vikasnagar</td>\n",
       "      <td>2 Wheeler accidents</td>\n",
       "      <td>6</td>\n",
       "      <td>10</td>\n",
       "      <td>INT</td>\n",
       "      <td>LOC</td>\n",
       "      <td>MAR</td>\n",
       "      <td>3</td>\n",
       "      <td>Wednesday</td>\n",
       "      <td>12</td>\n",
       "      <td>2009</td>\n",
       "    </tr>\n",
       "  </tbody>\n",
       "</table>\n",
       "</div>"
      ],
      "text/plain": [
       "  incident_tehsil                     cause_of_emergency  \\\n",
       "0        Sahaspur  MVC - Pedestrian (Run Over/Hit & Run)   \n",
       "1         Doiwala            Multiple Vehicular Incident   \n",
       "2          Raipur            Multiple Vehicular Incident   \n",
       "3        Sahaspur            Multiple Vehicular Incident   \n",
       "4      Vikasnagar                    2 Wheeler accidents   \n",
       "\n",
       "   base_to_scene_distance  scene_to_hospital_distance roadway_feature  \\\n",
       "0                      23                          27             INT   \n",
       "1                       5                          21             CUR   \n",
       "2                       3                           1             CUR   \n",
       "3                      18                          14             UNK   \n",
       "4                       6                          10             INT   \n",
       "\n",
       "  road_type surrounding_area incident_time_category day_of_week   1     2  \n",
       "0       LOC              MAR                      3   Wednesday  05  2010  \n",
       "1       HIW              AGL                      4      Sunday  03  2012  \n",
       "2       HIW              AGL                      4      Monday  01  2013  \n",
       "3       LOC              AGL                      4    Saturday  05  2014  \n",
       "4       LOC              MAR                      3   Wednesday  12  2009  "
      ]
     },
     "execution_count": 34,
     "metadata": {},
     "output_type": "execute_result"
    }
   ],
   "source": [
    "final_test.head()"
   ]
  },
  {
   "cell_type": "code",
   "execution_count": 35,
   "metadata": {},
   "outputs": [],
   "source": [
    "categorical_variable=final_test.dtypes[final_test.dtypes==\"object\"].index.values\n",
    "for var in categorical_variable:\n",
    "    final_test[var]=le.fit_transform(final_test[var])"
   ]
  },
  {
   "cell_type": "code",
   "execution_count": 36,
   "metadata": {},
   "outputs": [],
   "source": [
    "submission=model.predict(final_test)"
   ]
  },
  {
   "cell_type": "code",
   "execution_count": 37,
   "metadata": {},
   "outputs": [],
   "source": [
    "sub=pd.DataFrame(submission)"
   ]
  },
  {
   "cell_type": "code",
   "execution_count": 38,
   "metadata": {},
   "outputs": [],
   "source": [
    "sub.head()\n",
    "sub[sub>0.26]=1\n",
    "sub[sub<=0.26]=0"
   ]
  },
  {
   "cell_type": "code",
   "execution_count": 39,
   "metadata": {},
   "outputs": [],
   "source": [
    "sub.to_csv(\"submission1.csv\")"
   ]
  },
  {
   "cell_type": "code",
   "execution_count": null,
   "metadata": {},
   "outputs": [],
   "source": []
  }
 ],
 "metadata": {
  "kernelspec": {
   "display_name": "Python 3",
   "language": "python",
   "name": "python3"
  },
  "language_info": {
   "codemirror_mode": {
    "name": "ipython",
    "version": 3
   },
   "file_extension": ".py",
   "mimetype": "text/x-python",
   "name": "python",
   "nbconvert_exporter": "python",
   "pygments_lexer": "ipython3",
   "version": "3.6.4"
  }
 },
 "nbformat": 4,
 "nbformat_minor": 2
}
